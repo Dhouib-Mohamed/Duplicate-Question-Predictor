{
 "cells": [
  {
   "cell_type": "code",
   "execution_count": 1,
   "metadata": {
    "collapsed": true,
    "ExecuteTime": {
     "end_time": "2023-05-18T13:51:34.016401300Z",
     "start_time": "2023-05-18T13:51:31.055231800Z"
    }
   },
   "outputs": [
    {
     "name": "stderr",
     "output_type": "stream",
     "text": [
      "[nltk_data] Downloading package punkt to\n",
      "[nltk_data]     C:\\Users\\dhoui\\AppData\\Roaming\\nltk_data...\n",
      "[nltk_data]   Package punkt is already up-to-date!\n",
      "[nltk_data] Downloading package stopwords to\n",
      "[nltk_data]     C:\\Users\\dhoui\\AppData\\Roaming\\nltk_data...\n",
      "[nltk_data]   Package stopwords is already up-to-date!\n",
      "[nltk_data] Downloading package wordnet to\n",
      "[nltk_data]     C:\\Users\\dhoui\\AppData\\Roaming\\nltk_data...\n",
      "[nltk_data]   Package wordnet is already up-to-date!\n",
      "[nltk_data] Downloading package omw-1.4 to\n",
      "[nltk_data]     C:\\Users\\dhoui\\AppData\\Roaming\\nltk_data...\n",
      "[nltk_data]   Package omw-1.4 is already up-to-date!\n",
      "[nltk_data] Downloading package punkt to\n",
      "[nltk_data]     C:\\Users\\dhoui\\AppData\\Roaming\\nltk_data...\n",
      "[nltk_data]   Package punkt is already up-to-date!\n",
      "[nltk_data] Downloading package stopwords to\n",
      "[nltk_data]     C:\\Users\\dhoui\\AppData\\Roaming\\nltk_data...\n",
      "[nltk_data]   Package stopwords is already up-to-date!\n",
      "[nltk_data] Downloading package wordnet to\n",
      "[nltk_data]     C:\\Users\\dhoui\\AppData\\Roaming\\nltk_data...\n",
      "[nltk_data]   Package wordnet is already up-to-date!\n",
      "[nltk_data] Downloading package omw-1.4 to\n",
      "[nltk_data]     C:\\Users\\dhoui\\AppData\\Roaming\\nltk_data...\n",
      "[nltk_data]   Package omw-1.4 is already up-to-date!\n"
     ]
    }
   ],
   "source": [
    "import pandas as pd\n",
    "import src.nlp as nlp\n",
    "import importlib\n",
    "importlib.reload(nlp)\n",
    "import gensim.downloader as api"
   ]
  },
  {
   "cell_type": "code",
   "execution_count": 2,
   "outputs": [],
   "source": [
    "data = pd.read_csv('../../data/processed_data/preprocessed_questions.csv')\n"
   ],
   "metadata": {
    "collapsed": false,
    "ExecuteTime": {
     "end_time": "2023-05-18T13:51:35.069023900Z",
     "start_time": "2023-05-18T13:51:33.986065900Z"
    }
   }
  },
  {
   "cell_type": "code",
   "execution_count": 3,
   "outputs": [
    {
     "data": {
      "text/plain": "           qid                                    vector_question\n0            1  ['step', 'step', 'guide', 'invest', 'share', '...\n1            3     ['story', 'kohinoor', 'koh-i-noor', 'diamond']\n2            5  ['increase', 'speed', 'internet', 'connection'...\n3            7                    ['mentally', 'lonely', 'solve']\n4            9  ['one', 'dissolve', 'water', 'quikly', 'sugar'...\n...        ...                                                ...\n772998  789793  ['many', 'keywords', 'perl', 'programming', 'l...\n772999  789795                          ['true', 'life', 'death']\n773000  789797                                     [\"'s\", 'coin']\n773001  789799  ['little', 'hairfall', 'problem', 'want', 'use...\n773002  789801                          ['like', 'sex', 'cousin']\n\n[773003 rows x 2 columns]",
      "text/html": "<div>\n<style scoped>\n    .dataframe tbody tr th:only-of-type {\n        vertical-align: middle;\n    }\n\n    .dataframe tbody tr th {\n        vertical-align: top;\n    }\n\n    .dataframe thead th {\n        text-align: right;\n    }\n</style>\n<table border=\"1\" class=\"dataframe\">\n  <thead>\n    <tr style=\"text-align: right;\">\n      <th></th>\n      <th>qid</th>\n      <th>vector_question</th>\n    </tr>\n  </thead>\n  <tbody>\n    <tr>\n      <th>0</th>\n      <td>1</td>\n      <td>['step', 'step', 'guide', 'invest', 'share', '...</td>\n    </tr>\n    <tr>\n      <th>1</th>\n      <td>3</td>\n      <td>['story', 'kohinoor', 'koh-i-noor', 'diamond']</td>\n    </tr>\n    <tr>\n      <th>2</th>\n      <td>5</td>\n      <td>['increase', 'speed', 'internet', 'connection'...</td>\n    </tr>\n    <tr>\n      <th>3</th>\n      <td>7</td>\n      <td>['mentally', 'lonely', 'solve']</td>\n    </tr>\n    <tr>\n      <th>4</th>\n      <td>9</td>\n      <td>['one', 'dissolve', 'water', 'quikly', 'sugar'...</td>\n    </tr>\n    <tr>\n      <th>...</th>\n      <td>...</td>\n      <td>...</td>\n    </tr>\n    <tr>\n      <th>772998</th>\n      <td>789793</td>\n      <td>['many', 'keywords', 'perl', 'programming', 'l...</td>\n    </tr>\n    <tr>\n      <th>772999</th>\n      <td>789795</td>\n      <td>['true', 'life', 'death']</td>\n    </tr>\n    <tr>\n      <th>773000</th>\n      <td>789797</td>\n      <td>[\"'s\", 'coin']</td>\n    </tr>\n    <tr>\n      <th>773001</th>\n      <td>789799</td>\n      <td>['little', 'hairfall', 'problem', 'want', 'use...</td>\n    </tr>\n    <tr>\n      <th>773002</th>\n      <td>789801</td>\n      <td>['like', 'sex', 'cousin']</td>\n    </tr>\n  </tbody>\n</table>\n<p>773003 rows × 2 columns</p>\n</div>"
     },
     "execution_count": 3,
     "metadata": {},
     "output_type": "execute_result"
    }
   ],
   "source": [
    "data"
   ],
   "metadata": {
    "collapsed": false,
    "ExecuteTime": {
     "end_time": "2023-05-18T13:51:35.098695300Z",
     "start_time": "2023-05-18T13:51:35.070022900Z"
    }
   }
  },
  {
   "cell_type": "code",
   "execution_count": 4,
   "outputs": [
    {
     "name": "stdout",
     "output_type": "stream",
     "text": [
      "KeyedVectors<vector_size=25, 1193514 keys>\n"
     ]
    }
   ],
   "source": [
    "model = api.load(\"glove-twitter-25\")\n",
    "print(model)"
   ],
   "metadata": {
    "collapsed": false,
    "ExecuteTime": {
     "end_time": "2023-05-18T13:52:09.572761200Z",
     "start_time": "2023-05-18T13:51:35.095695100Z"
    }
   }
  },
  {
   "cell_type": "code",
   "execution_count": 5,
   "outputs": [],
   "source": [
    "table = []\n",
    "data[\"vector\"]= data[\"vector_question\"].apply(lambda x : nlp.word_vec(x,model,table))"
   ],
   "metadata": {
    "collapsed": false,
    "ExecuteTime": {
     "start_time": "2023-05-18T13:52:09.572761200Z"
    }
   }
  },
  {
   "cell_type": "code",
   "execution_count": 10,
   "outputs": [
    {
     "data": {
      "text/plain": "872"
     },
     "execution_count": 10,
     "metadata": {},
     "output_type": "execute_result"
    }
   ],
   "source": [
    "len(table)"
   ],
   "metadata": {
    "collapsed": false,
    "ExecuteTime": {
     "end_time": "2023-05-18T13:56:17.309761200Z",
     "start_time": "2023-05-18T13:56:17.304570400Z"
    }
   }
  },
  {
   "cell_type": "code",
   "execution_count": 7,
   "outputs": [
    {
     "data": {
      "text/plain": "           qid                                    vector_question  \\\n0            1  ['step', 'step', 'guide', 'invest', 'share', '...   \n1            3     ['story', 'kohinoor', 'koh-i-noor', 'diamond']   \n2            5  ['increase', 'speed', 'internet', 'connection'...   \n3            7                    ['mentally', 'lonely', 'solve']   \n4            9  ['one', 'dissolve', 'water', 'quikly', 'sugar'...   \n...        ...                                                ...   \n772998  789793  ['many', 'keywords', 'perl', 'programming', 'l...   \n772999  789795                          ['true', 'life', 'death']   \n773000  789797                                     [\"'s\", 'coin']   \n773001  789799  ['little', 'hairfall', 'problem', 'want', 'use...   \n773002  789801                          ['like', 'sex', 'cousin']   \n\n                                                   vector  \n0       [0.6154762, -0.20584768, -0.13993306, 0.021061...  \n1       [0.688245, -0.1701979, -0.013377927, 0.1863736...  \n2       [0.6289094, -0.23624171, -0.14056318, -0.01188...  \n3       [0.57746315, -0.24105825, -0.22027902, 0.14828...  \n4       [0.6058579, -0.16625378, -0.106687985, 0.11531...  \n...                                                   ...  \n772998  [0.5954482, -0.097231664, -0.15359814, 0.02079...  \n772999  [0.57238656, -0.19273913, -0.16352256, 0.02696...  \n773000  [0.56885546, -0.48676538, -0.101381466, 0.2438...  \n773001  [0.5519309, -0.1625264, -0.18107039, 0.0763082...  \n773002  [0.55894786, -0.31426394, -0.042340003, 0.0206...  \n\n[773003 rows x 3 columns]",
      "text/html": "<div>\n<style scoped>\n    .dataframe tbody tr th:only-of-type {\n        vertical-align: middle;\n    }\n\n    .dataframe tbody tr th {\n        vertical-align: top;\n    }\n\n    .dataframe thead th {\n        text-align: right;\n    }\n</style>\n<table border=\"1\" class=\"dataframe\">\n  <thead>\n    <tr style=\"text-align: right;\">\n      <th></th>\n      <th>qid</th>\n      <th>vector_question</th>\n      <th>vector</th>\n    </tr>\n  </thead>\n  <tbody>\n    <tr>\n      <th>0</th>\n      <td>1</td>\n      <td>['step', 'step', 'guide', 'invest', 'share', '...</td>\n      <td>[0.6154762, -0.20584768, -0.13993306, 0.021061...</td>\n    </tr>\n    <tr>\n      <th>1</th>\n      <td>3</td>\n      <td>['story', 'kohinoor', 'koh-i-noor', 'diamond']</td>\n      <td>[0.688245, -0.1701979, -0.013377927, 0.1863736...</td>\n    </tr>\n    <tr>\n      <th>2</th>\n      <td>5</td>\n      <td>['increase', 'speed', 'internet', 'connection'...</td>\n      <td>[0.6289094, -0.23624171, -0.14056318, -0.01188...</td>\n    </tr>\n    <tr>\n      <th>3</th>\n      <td>7</td>\n      <td>['mentally', 'lonely', 'solve']</td>\n      <td>[0.57746315, -0.24105825, -0.22027902, 0.14828...</td>\n    </tr>\n    <tr>\n      <th>4</th>\n      <td>9</td>\n      <td>['one', 'dissolve', 'water', 'quikly', 'sugar'...</td>\n      <td>[0.6058579, -0.16625378, -0.106687985, 0.11531...</td>\n    </tr>\n    <tr>\n      <th>...</th>\n      <td>...</td>\n      <td>...</td>\n      <td>...</td>\n    </tr>\n    <tr>\n      <th>772998</th>\n      <td>789793</td>\n      <td>['many', 'keywords', 'perl', 'programming', 'l...</td>\n      <td>[0.5954482, -0.097231664, -0.15359814, 0.02079...</td>\n    </tr>\n    <tr>\n      <th>772999</th>\n      <td>789795</td>\n      <td>['true', 'life', 'death']</td>\n      <td>[0.57238656, -0.19273913, -0.16352256, 0.02696...</td>\n    </tr>\n    <tr>\n      <th>773000</th>\n      <td>789797</td>\n      <td>[\"'s\", 'coin']</td>\n      <td>[0.56885546, -0.48676538, -0.101381466, 0.2438...</td>\n    </tr>\n    <tr>\n      <th>773001</th>\n      <td>789799</td>\n      <td>['little', 'hairfall', 'problem', 'want', 'use...</td>\n      <td>[0.5519309, -0.1625264, -0.18107039, 0.0763082...</td>\n    </tr>\n    <tr>\n      <th>773002</th>\n      <td>789801</td>\n      <td>['like', 'sex', 'cousin']</td>\n      <td>[0.55894786, -0.31426394, -0.042340003, 0.0206...</td>\n    </tr>\n  </tbody>\n</table>\n<p>773003 rows × 3 columns</p>\n</div>"
     },
     "execution_count": 7,
     "metadata": {},
     "output_type": "execute_result"
    }
   ],
   "source": [
    "data"
   ],
   "metadata": {
    "collapsed": false
   }
  },
  {
   "cell_type": "code",
   "execution_count": 8,
   "outputs": [],
   "source": [
    "data = data[[\"qid\",\"vector\"]]"
   ],
   "metadata": {
    "collapsed": false
   }
  },
  {
   "cell_type": "code",
   "execution_count": 9,
   "outputs": [],
   "source": [
    "data.to_csv(\"../../data/processed_data/processed_questions.csv\", index=False)"
   ],
   "metadata": {
    "collapsed": false
   }
  }
 ],
 "metadata": {
  "kernelspec": {
   "display_name": "Python 3",
   "language": "python",
   "name": "python3"
  },
  "language_info": {
   "codemirror_mode": {
    "name": "ipython",
    "version": 2
   },
   "file_extension": ".py",
   "mimetype": "text/x-python",
   "name": "python",
   "nbconvert_exporter": "python",
   "pygments_lexer": "ipython2",
   "version": "2.7.6"
  }
 },
 "nbformat": 4,
 "nbformat_minor": 0
}
