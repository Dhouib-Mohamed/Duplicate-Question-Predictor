{
 "cells": [
  {
   "cell_type": "code",
   "execution_count": 10,
   "metadata": {
    "collapsed": true,
    "ExecuteTime": {
     "end_time": "2023-05-20T15:46:04.270975500Z",
     "start_time": "2023-05-20T15:46:02.202293900Z"
    }
   },
   "outputs": [],
   "source": [
    "import pandas as pd\n",
    "import src.nlp as nlp\n",
    "import importlib\n",
    "importlib.reload(nlp)\n",
    "import gensim.downloader as api"
   ]
  },
  {
   "cell_type": "code",
   "execution_count": 11,
   "outputs": [],
   "source": [
    "data = pd.read_csv('../../data/processed_data/preprocessed_questions.csv')\n"
   ],
   "metadata": {
    "collapsed": false,
    "ExecuteTime": {
     "end_time": "2023-05-20T15:46:05.578036200Z",
     "start_time": "2023-05-20T15:46:04.286640900Z"
    }
   }
  },
  {
   "cell_type": "code",
   "execution_count": 12,
   "outputs": [
    {
     "data": {
      "text/plain": "           qid                                    vector_question\n0            1  ['step', 'step', 'guide', 'invest', 'share', '...\n1            3    ['story', 'kohinoor', 'koh', 'noor', 'diamond']\n2            5  ['increase', 'speed', 'internet', 'connection'...\n3            7                    ['mentally', 'lonely', 'solve']\n4            9  ['dissolve', 'water', 'quikly', 'sugar', 'salt...\n...        ...                                                ...\n772998  789793  ['keyword', 'perl', 'programming', 'language',...\n772999  789795                          ['true', 'life', 'death']\n773000  789797                                           ['coin']\n773001  789799  ['have', 'little', 'hairfall', 'problem', 'wan...\n773002  789801                          ['like', 'sex', 'cousin']\n\n[773003 rows x 2 columns]",
      "text/html": "<div>\n<style scoped>\n    .dataframe tbody tr th:only-of-type {\n        vertical-align: middle;\n    }\n\n    .dataframe tbody tr th {\n        vertical-align: top;\n    }\n\n    .dataframe thead th {\n        text-align: right;\n    }\n</style>\n<table border=\"1\" class=\"dataframe\">\n  <thead>\n    <tr style=\"text-align: right;\">\n      <th></th>\n      <th>qid</th>\n      <th>vector_question</th>\n    </tr>\n  </thead>\n  <tbody>\n    <tr>\n      <th>0</th>\n      <td>1</td>\n      <td>['step', 'step', 'guide', 'invest', 'share', '...</td>\n    </tr>\n    <tr>\n      <th>1</th>\n      <td>3</td>\n      <td>['story', 'kohinoor', 'koh', 'noor', 'diamond']</td>\n    </tr>\n    <tr>\n      <th>2</th>\n      <td>5</td>\n      <td>['increase', 'speed', 'internet', 'connection'...</td>\n    </tr>\n    <tr>\n      <th>3</th>\n      <td>7</td>\n      <td>['mentally', 'lonely', 'solve']</td>\n    </tr>\n    <tr>\n      <th>4</th>\n      <td>9</td>\n      <td>['dissolve', 'water', 'quikly', 'sugar', 'salt...</td>\n    </tr>\n    <tr>\n      <th>...</th>\n      <td>...</td>\n      <td>...</td>\n    </tr>\n    <tr>\n      <th>772998</th>\n      <td>789793</td>\n      <td>['keyword', 'perl', 'programming', 'language',...</td>\n    </tr>\n    <tr>\n      <th>772999</th>\n      <td>789795</td>\n      <td>['true', 'life', 'death']</td>\n    </tr>\n    <tr>\n      <th>773000</th>\n      <td>789797</td>\n      <td>['coin']</td>\n    </tr>\n    <tr>\n      <th>773001</th>\n      <td>789799</td>\n      <td>['have', 'little', 'hairfall', 'problem', 'wan...</td>\n    </tr>\n    <tr>\n      <th>773002</th>\n      <td>789801</td>\n      <td>['like', 'sex', 'cousin']</td>\n    </tr>\n  </tbody>\n</table>\n<p>773003 rows × 2 columns</p>\n</div>"
     },
     "execution_count": 12,
     "metadata": {},
     "output_type": "execute_result"
    }
   ],
   "source": [
    "data"
   ],
   "metadata": {
    "collapsed": false,
    "ExecuteTime": {
     "end_time": "2023-05-20T15:46:05.597757200Z",
     "start_time": "2023-05-20T15:46:05.580556600Z"
    }
   }
  },
  {
   "cell_type": "code",
   "execution_count": 13,
   "outputs": [
    {
     "name": "stdout",
     "output_type": "stream",
     "text": [
      "KeyedVectors<vector_size=25, 1193514 keys>\n"
     ]
    }
   ],
   "source": [
    "# Loading GloVe Twitter 25-dimensional word embeddings model\n",
    "model = api.load(\"glove-twitter-25\")\n",
    "print(model)"
   ],
   "metadata": {
    "collapsed": false,
    "ExecuteTime": {
     "end_time": "2023-05-20T15:46:42.463266400Z",
     "start_time": "2023-05-20T15:46:05.601264700Z"
    }
   }
  },
  {
   "cell_type": "code",
   "execution_count": 14,
   "outputs": [],
   "source": [
    "# Applying word_vec function to calculate word vectors for each question in the \"vector_question\" column\n",
    "table = []\n",
    "data[\"vector\"]= data[\"vector_question\"].apply(lambda x : nlp.word_vec(x,model,table))"
   ],
   "metadata": {
    "collapsed": false,
    "ExecuteTime": {
     "end_time": "2023-05-20T15:48:50.513219800Z",
     "start_time": "2023-05-20T15:46:42.467263900Z"
    }
   }
  },
  {
   "cell_type": "code",
   "execution_count": 15,
   "outputs": [
    {
     "data": {
      "text/plain": "881"
     },
     "execution_count": 15,
     "metadata": {},
     "output_type": "execute_result"
    }
   ],
   "source": [
    "# Printing the number of word vectors calculated\n",
    "len(table)"
   ],
   "metadata": {
    "collapsed": false,
    "ExecuteTime": {
     "end_time": "2023-05-20T15:48:50.527795300Z",
     "start_time": "2023-05-20T15:48:50.512207600Z"
    }
   }
  },
  {
   "cell_type": "code",
   "execution_count": 16,
   "outputs": [
    {
     "data": {
      "text/plain": "           qid                                    vector_question  \\\n0            1  ['step', 'step', 'guide', 'invest', 'share', '...   \n1            3    ['story', 'kohinoor', 'koh', 'noor', 'diamond']   \n2            5  ['increase', 'speed', 'internet', 'connection'...   \n3            7                    ['mentally', 'lonely', 'solve']   \n4            9  ['dissolve', 'water', 'quikly', 'sugar', 'salt...   \n...        ...                                                ...   \n772998  789793  ['keyword', 'perl', 'programming', 'language',...   \n772999  789795                          ['true', 'life', 'death']   \n773000  789797                                           ['coin']   \n773001  789799  ['have', 'little', 'hairfall', 'problem', 'wan...   \n773002  789801                          ['like', 'sex', 'cousin']   \n\n                                                   vector  \n0       [0.6154762, -0.20584768, -0.13993306, 0.021061...  \n1       [0.6986762, -0.19018674, -0.016607115, 0.25502...  \n2       [0.6518189, -0.25972918, -0.13195999, 0.005287...  \n3       [0.57746315, -0.24105825, -0.22027902, 0.14828...  \n4       [0.5891566, -0.14058551, -0.12285278, 0.091852...  \n...                                                   ...  \n772998  [0.6051509, -0.0771248, -0.101414055, -0.00576...  \n772999  [0.57238656, -0.19273913, -0.16352256, 0.02696...  \n773000  [0.40368885, -0.40503123, 0.0060297474, 0.1369...  \n773001  [0.5453015, -0.14549695, -0.18995084, 0.063944...  \n773002  [0.55894786, -0.31426394, -0.042340003, 0.0206...  \n\n[773003 rows x 3 columns]",
      "text/html": "<div>\n<style scoped>\n    .dataframe tbody tr th:only-of-type {\n        vertical-align: middle;\n    }\n\n    .dataframe tbody tr th {\n        vertical-align: top;\n    }\n\n    .dataframe thead th {\n        text-align: right;\n    }\n</style>\n<table border=\"1\" class=\"dataframe\">\n  <thead>\n    <tr style=\"text-align: right;\">\n      <th></th>\n      <th>qid</th>\n      <th>vector_question</th>\n      <th>vector</th>\n    </tr>\n  </thead>\n  <tbody>\n    <tr>\n      <th>0</th>\n      <td>1</td>\n      <td>['step', 'step', 'guide', 'invest', 'share', '...</td>\n      <td>[0.6154762, -0.20584768, -0.13993306, 0.021061...</td>\n    </tr>\n    <tr>\n      <th>1</th>\n      <td>3</td>\n      <td>['story', 'kohinoor', 'koh', 'noor', 'diamond']</td>\n      <td>[0.6986762, -0.19018674, -0.016607115, 0.25502...</td>\n    </tr>\n    <tr>\n      <th>2</th>\n      <td>5</td>\n      <td>['increase', 'speed', 'internet', 'connection'...</td>\n      <td>[0.6518189, -0.25972918, -0.13195999, 0.005287...</td>\n    </tr>\n    <tr>\n      <th>3</th>\n      <td>7</td>\n      <td>['mentally', 'lonely', 'solve']</td>\n      <td>[0.57746315, -0.24105825, -0.22027902, 0.14828...</td>\n    </tr>\n    <tr>\n      <th>4</th>\n      <td>9</td>\n      <td>['dissolve', 'water', 'quikly', 'sugar', 'salt...</td>\n      <td>[0.5891566, -0.14058551, -0.12285278, 0.091852...</td>\n    </tr>\n    <tr>\n      <th>...</th>\n      <td>...</td>\n      <td>...</td>\n      <td>...</td>\n    </tr>\n    <tr>\n      <th>772998</th>\n      <td>789793</td>\n      <td>['keyword', 'perl', 'programming', 'language',...</td>\n      <td>[0.6051509, -0.0771248, -0.101414055, -0.00576...</td>\n    </tr>\n    <tr>\n      <th>772999</th>\n      <td>789795</td>\n      <td>['true', 'life', 'death']</td>\n      <td>[0.57238656, -0.19273913, -0.16352256, 0.02696...</td>\n    </tr>\n    <tr>\n      <th>773000</th>\n      <td>789797</td>\n      <td>['coin']</td>\n      <td>[0.40368885, -0.40503123, 0.0060297474, 0.1369...</td>\n    </tr>\n    <tr>\n      <th>773001</th>\n      <td>789799</td>\n      <td>['have', 'little', 'hairfall', 'problem', 'wan...</td>\n      <td>[0.5453015, -0.14549695, -0.18995084, 0.063944...</td>\n    </tr>\n    <tr>\n      <th>773002</th>\n      <td>789801</td>\n      <td>['like', 'sex', 'cousin']</td>\n      <td>[0.55894786, -0.31426394, -0.042340003, 0.0206...</td>\n    </tr>\n  </tbody>\n</table>\n<p>773003 rows × 3 columns</p>\n</div>"
     },
     "execution_count": 16,
     "metadata": {},
     "output_type": "execute_result"
    }
   ],
   "source": [
    "data"
   ],
   "metadata": {
    "collapsed": false,
    "ExecuteTime": {
     "end_time": "2023-05-20T15:48:50.583118300Z",
     "start_time": "2023-05-20T15:48:50.526437100Z"
    }
   }
  },
  {
   "cell_type": "code",
   "execution_count": 17,
   "outputs": [],
   "source": [
    "data = data[[\"qid\",\"vector\"]]"
   ],
   "metadata": {
    "collapsed": false,
    "ExecuteTime": {
     "end_time": "2023-05-20T15:48:50.950958400Z",
     "start_time": "2023-05-20T15:48:50.585126900Z"
    }
   }
  },
  {
   "cell_type": "code",
   "execution_count": 18,
   "outputs": [],
   "source": [
    "data.to_csv(\"../../data/processed_data/processed_questions.csv\", index=False)"
   ],
   "metadata": {
    "collapsed": false,
    "ExecuteTime": {
     "end_time": "2023-05-20T15:53:31.214670600Z",
     "start_time": "2023-05-20T15:48:50.927056400Z"
    }
   }
  }
 ],
 "metadata": {
  "kernelspec": {
   "display_name": "Python 3",
   "language": "python",
   "name": "python3"
  },
  "language_info": {
   "codemirror_mode": {
    "name": "ipython",
    "version": 2
   },
   "file_extension": ".py",
   "mimetype": "text/x-python",
   "name": "python",
   "nbconvert_exporter": "python",
   "pygments_lexer": "ipython2",
   "version": "2.7.6"
  }
 },
 "nbformat": 4,
 "nbformat_minor": 0
}
