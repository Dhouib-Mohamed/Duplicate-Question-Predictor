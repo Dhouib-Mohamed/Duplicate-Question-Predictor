{
 "cells": [
  {
   "cell_type": "code",
   "execution_count": 1,
   "outputs": [
    {
     "data": {
      "text/plain": "<module 'src.utils' from 'D:\\\\Study\\\\GL3\\\\ppp\\\\src\\\\utils.py'>"
     },
     "execution_count": 1,
     "metadata": {},
     "output_type": "execute_result"
    }
   ],
   "source": [
    "import pandas as pd\n",
    "import src.utils as utils\n",
    "import importlib\n",
    "importlib.reload(utils)"
   ],
   "metadata": {
    "collapsed": false,
    "ExecuteTime": {
     "end_time": "2023-05-29T18:06:52.533136400Z",
     "start_time": "2023-05-29T18:06:51.949193300Z"
    }
   }
  },
  {
   "cell_type": "code",
   "execution_count": 2,
   "metadata": {
    "collapsed": true,
    "ExecuteTime": {
     "end_time": "2023-05-29T18:06:55.971942400Z",
     "start_time": "2023-05-29T18:06:52.534137700Z"
    }
   },
   "outputs": [],
   "source": [
    "questions = pd.read_csv('../../data/processed_data/processed_questions.csv')\n",
    "data = pd.read_csv('../../data/raw_data/clean_data.csv')"
   ]
  },
  {
   "cell_type": "code",
   "execution_count": 3,
   "outputs": [
    {
     "data": {
      "text/plain": "           qid                                             vector\n0            1  [ 6.1547619e-01 -2.0584768e-01 -1.3993306e-01 ...\n1            3  [ 0.6986762  -0.19018674 -0.01660712  0.255029...\n2            5  [ 6.5181887e-01 -2.5972918e-01 -1.3195999e-01 ...\n3            7  [ 0.57746315 -0.24105825 -0.22027902  0.148281...\n4            9  [ 0.5891566  -0.14058551 -0.12285278  0.091852...\n...        ...                                                ...\n772998  789793  [ 0.6051509  -0.0771248  -0.10141405 -0.005769...\n772999  789795  [ 0.57238656 -0.19273913 -0.16352256  0.026960...\n773000  789797  [ 0.40368885 -0.40503123  0.00602975  0.136909...\n773001  789799  [ 0.5453015  -0.14549695 -0.18995084  0.063944...\n773002  789801  [ 0.55894786 -0.31426394 -0.04234     0.020683...\n\n[773003 rows x 2 columns]",
      "text/html": "<div>\n<style scoped>\n    .dataframe tbody tr th:only-of-type {\n        vertical-align: middle;\n    }\n\n    .dataframe tbody tr th {\n        vertical-align: top;\n    }\n\n    .dataframe thead th {\n        text-align: right;\n    }\n</style>\n<table border=\"1\" class=\"dataframe\">\n  <thead>\n    <tr style=\"text-align: right;\">\n      <th></th>\n      <th>qid</th>\n      <th>vector</th>\n    </tr>\n  </thead>\n  <tbody>\n    <tr>\n      <th>0</th>\n      <td>1</td>\n      <td>[ 6.1547619e-01 -2.0584768e-01 -1.3993306e-01 ...</td>\n    </tr>\n    <tr>\n      <th>1</th>\n      <td>3</td>\n      <td>[ 0.6986762  -0.19018674 -0.01660712  0.255029...</td>\n    </tr>\n    <tr>\n      <th>2</th>\n      <td>5</td>\n      <td>[ 6.5181887e-01 -2.5972918e-01 -1.3195999e-01 ...</td>\n    </tr>\n    <tr>\n      <th>3</th>\n      <td>7</td>\n      <td>[ 0.57746315 -0.24105825 -0.22027902  0.148281...</td>\n    </tr>\n    <tr>\n      <th>4</th>\n      <td>9</td>\n      <td>[ 0.5891566  -0.14058551 -0.12285278  0.091852...</td>\n    </tr>\n    <tr>\n      <th>...</th>\n      <td>...</td>\n      <td>...</td>\n    </tr>\n    <tr>\n      <th>772998</th>\n      <td>789793</td>\n      <td>[ 0.6051509  -0.0771248  -0.10141405 -0.005769...</td>\n    </tr>\n    <tr>\n      <th>772999</th>\n      <td>789795</td>\n      <td>[ 0.57238656 -0.19273913 -0.16352256  0.026960...</td>\n    </tr>\n    <tr>\n      <th>773000</th>\n      <td>789797</td>\n      <td>[ 0.40368885 -0.40503123  0.00602975  0.136909...</td>\n    </tr>\n    <tr>\n      <th>773001</th>\n      <td>789799</td>\n      <td>[ 0.5453015  -0.14549695 -0.18995084  0.063944...</td>\n    </tr>\n    <tr>\n      <th>773002</th>\n      <td>789801</td>\n      <td>[ 0.55894786 -0.31426394 -0.04234     0.020683...</td>\n    </tr>\n  </tbody>\n</table>\n<p>773003 rows × 2 columns</p>\n</div>"
     },
     "execution_count": 3,
     "metadata": {},
     "output_type": "execute_result"
    }
   ],
   "source": [
    "questions"
   ],
   "metadata": {
    "collapsed": false,
    "ExecuteTime": {
     "end_time": "2023-05-29T18:06:55.983932Z",
     "start_time": "2023-05-29T18:06:55.971942400Z"
    }
   }
  },
  {
   "cell_type": "code",
   "execution_count": 4,
   "outputs": [
    {
     "data": {
      "text/plain": "            id    qid1    qid2  \\\n0            0       1       2   \n1            1       3       4   \n2            2       5       6   \n3            3       7       8   \n4            4       9      10   \n...        ...     ...     ...   \n370389  404346  789792  789793   \n370390  404347  789794  789795   \n370391  404348  789796  789797   \n370392  404349  789798  789799   \n370393  404350  789800  789801   \n\n                                                question1  \\\n0       What is the step by step guide to invest in sh...   \n1       What is the story of Kohinoor (Koh-i-Noor) Dia...   \n2       How can I increase the speed of my internet co...   \n3       Why am I mentally very lonely? How can I solve...   \n4       Which one dissolve in water quikly sugar, salt...   \n...                                                   ...   \n370389  How many keywords are there in the Racket prog...   \n370390          Do you believe there is life after death?   \n370391                                  What is one coin?   \n370392  What is the approx annual cost of living while...   \n370393              What is like to have sex with cousin?   \n\n                                                question2  is_duplicate  \n0       What is the step by step guide to invest in sh...             0  \n1       What would happen if the Indian government sto...             0  \n2       How can Internet speed be increased by hacking...             0  \n3       Find the remainder when [math]23^{24}[/math] i...             0  \n4                 Which fish would survive in salt water?             0  \n...                                                   ...           ...  \n370389  How many keywords are there in PERL Programmin...             0  \n370390         Is it true that there is life after death?             1  \n370391                                  What's this coin?             0  \n370392  I am having little hairfall problem but I want...             0  \n370393      What is it like to have sex with your cousin?             0  \n\n[370394 rows x 6 columns]",
      "text/html": "<div>\n<style scoped>\n    .dataframe tbody tr th:only-of-type {\n        vertical-align: middle;\n    }\n\n    .dataframe tbody tr th {\n        vertical-align: top;\n    }\n\n    .dataframe thead th {\n        text-align: right;\n    }\n</style>\n<table border=\"1\" class=\"dataframe\">\n  <thead>\n    <tr style=\"text-align: right;\">\n      <th></th>\n      <th>id</th>\n      <th>qid1</th>\n      <th>qid2</th>\n      <th>question1</th>\n      <th>question2</th>\n      <th>is_duplicate</th>\n    </tr>\n  </thead>\n  <tbody>\n    <tr>\n      <th>0</th>\n      <td>0</td>\n      <td>1</td>\n      <td>2</td>\n      <td>What is the step by step guide to invest in sh...</td>\n      <td>What is the step by step guide to invest in sh...</td>\n      <td>0</td>\n    </tr>\n    <tr>\n      <th>1</th>\n      <td>1</td>\n      <td>3</td>\n      <td>4</td>\n      <td>What is the story of Kohinoor (Koh-i-Noor) Dia...</td>\n      <td>What would happen if the Indian government sto...</td>\n      <td>0</td>\n    </tr>\n    <tr>\n      <th>2</th>\n      <td>2</td>\n      <td>5</td>\n      <td>6</td>\n      <td>How can I increase the speed of my internet co...</td>\n      <td>How can Internet speed be increased by hacking...</td>\n      <td>0</td>\n    </tr>\n    <tr>\n      <th>3</th>\n      <td>3</td>\n      <td>7</td>\n      <td>8</td>\n      <td>Why am I mentally very lonely? How can I solve...</td>\n      <td>Find the remainder when [math]23^{24}[/math] i...</td>\n      <td>0</td>\n    </tr>\n    <tr>\n      <th>4</th>\n      <td>4</td>\n      <td>9</td>\n      <td>10</td>\n      <td>Which one dissolve in water quikly sugar, salt...</td>\n      <td>Which fish would survive in salt water?</td>\n      <td>0</td>\n    </tr>\n    <tr>\n      <th>...</th>\n      <td>...</td>\n      <td>...</td>\n      <td>...</td>\n      <td>...</td>\n      <td>...</td>\n      <td>...</td>\n    </tr>\n    <tr>\n      <th>370389</th>\n      <td>404346</td>\n      <td>789792</td>\n      <td>789793</td>\n      <td>How many keywords are there in the Racket prog...</td>\n      <td>How many keywords are there in PERL Programmin...</td>\n      <td>0</td>\n    </tr>\n    <tr>\n      <th>370390</th>\n      <td>404347</td>\n      <td>789794</td>\n      <td>789795</td>\n      <td>Do you believe there is life after death?</td>\n      <td>Is it true that there is life after death?</td>\n      <td>1</td>\n    </tr>\n    <tr>\n      <th>370391</th>\n      <td>404348</td>\n      <td>789796</td>\n      <td>789797</td>\n      <td>What is one coin?</td>\n      <td>What's this coin?</td>\n      <td>0</td>\n    </tr>\n    <tr>\n      <th>370392</th>\n      <td>404349</td>\n      <td>789798</td>\n      <td>789799</td>\n      <td>What is the approx annual cost of living while...</td>\n      <td>I am having little hairfall problem but I want...</td>\n      <td>0</td>\n    </tr>\n    <tr>\n      <th>370393</th>\n      <td>404350</td>\n      <td>789800</td>\n      <td>789801</td>\n      <td>What is like to have sex with cousin?</td>\n      <td>What is it like to have sex with your cousin?</td>\n      <td>0</td>\n    </tr>\n  </tbody>\n</table>\n<p>370394 rows × 6 columns</p>\n</div>"
     },
     "execution_count": 4,
     "metadata": {},
     "output_type": "execute_result"
    }
   ],
   "source": [
    "data"
   ],
   "metadata": {
    "collapsed": false,
    "ExecuteTime": {
     "end_time": "2023-05-29T18:06:55.994043500Z",
     "start_time": "2023-05-29T18:06:55.982930600Z"
    }
   }
  },
  {
   "cell_type": "code",
   "execution_count": 5,
   "outputs": [],
   "source": [
    "data = utils.question_to_dataset(questions,data,source=\"vector\",to=\"vector\")"
   ],
   "metadata": {
    "collapsed": false,
    "ExecuteTime": {
     "end_time": "2023-05-29T18:22:12.977469800Z",
     "start_time": "2023-05-29T18:06:55.995044100Z"
    }
   }
  },
  {
   "cell_type": "code",
   "execution_count": 6,
   "outputs": [],
   "source": [
    "data= data [[\"vector1\",\"vector2\",\"is_duplicate\"]]"
   ],
   "metadata": {
    "collapsed": false,
    "ExecuteTime": {
     "end_time": "2023-05-29T18:22:13.042513600Z",
     "start_time": "2023-05-29T18:22:12.986111800Z"
    }
   }
  },
  {
   "cell_type": "code",
   "execution_count": 7,
   "outputs": [
    {
     "data": {
      "text/plain": "                                                  vector1  \\\n0       [ 6.1547619e-01 -2.0584768e-01 -1.3993306e-01 ...   \n1       [ 0.6986762  -0.19018674 -0.01660712  0.255029...   \n2       [ 6.5181887e-01 -2.5972918e-01 -1.3195999e-01 ...   \n3       [ 0.57746315 -0.24105825 -0.22027902  0.148281...   \n4       [ 0.5891566  -0.14058551 -0.12285278  0.091852...   \n...                                                   ...   \n370389  [ 0.6120544  -0.08026706 -0.11120206  0.005097...   \n370390  [ 0.5858043  -0.19736733 -0.06349304 -0.052130...   \n370391  [ 0.40368885 -0.40503123  0.00602975  0.136909...   \n370392  [ 0.5234132  -0.13860296 -0.17368013  0.092954...   \n370393  [ 0.55894786 -0.31426394 -0.04234     0.020683...   \n\n                                                  vector2  is_duplicate  \n0       [ 6.59969270e-01 -2.34099537e-01 -1.73143327e-...             0  \n1       [ 0.66760707 -0.18535142 -0.06255767  0.143376...             0  \n2       [ 0.6392761  -0.2693284  -0.14859273  0.021426...             0  \n3       [ 0.45756692 -0.16068357 -0.14937708  0.019454...             0  \n4       [ 0.51694465 -0.1532621  -0.21871626 -0.031842...             0  \n...                                                   ...           ...  \n370389  [ 0.6051509  -0.0771248  -0.10141405 -0.005769...             0  \n370390  [ 0.57238656 -0.19273913 -0.16352256  0.026960...             1  \n370391  [ 0.40368885 -0.40503123  0.00602975  0.136909...             0  \n370392  [ 0.5453015  -0.14549695 -0.18995084  0.063944...             0  \n370393  [ 0.55894786 -0.31426394 -0.04234     0.020683...             0  \n\n[370394 rows x 3 columns]",
      "text/html": "<div>\n<style scoped>\n    .dataframe tbody tr th:only-of-type {\n        vertical-align: middle;\n    }\n\n    .dataframe tbody tr th {\n        vertical-align: top;\n    }\n\n    .dataframe thead th {\n        text-align: right;\n    }\n</style>\n<table border=\"1\" class=\"dataframe\">\n  <thead>\n    <tr style=\"text-align: right;\">\n      <th></th>\n      <th>vector1</th>\n      <th>vector2</th>\n      <th>is_duplicate</th>\n    </tr>\n  </thead>\n  <tbody>\n    <tr>\n      <th>0</th>\n      <td>[ 6.1547619e-01 -2.0584768e-01 -1.3993306e-01 ...</td>\n      <td>[ 6.59969270e-01 -2.34099537e-01 -1.73143327e-...</td>\n      <td>0</td>\n    </tr>\n    <tr>\n      <th>1</th>\n      <td>[ 0.6986762  -0.19018674 -0.01660712  0.255029...</td>\n      <td>[ 0.66760707 -0.18535142 -0.06255767  0.143376...</td>\n      <td>0</td>\n    </tr>\n    <tr>\n      <th>2</th>\n      <td>[ 6.5181887e-01 -2.5972918e-01 -1.3195999e-01 ...</td>\n      <td>[ 0.6392761  -0.2693284  -0.14859273  0.021426...</td>\n      <td>0</td>\n    </tr>\n    <tr>\n      <th>3</th>\n      <td>[ 0.57746315 -0.24105825 -0.22027902  0.148281...</td>\n      <td>[ 0.45756692 -0.16068357 -0.14937708  0.019454...</td>\n      <td>0</td>\n    </tr>\n    <tr>\n      <th>4</th>\n      <td>[ 0.5891566  -0.14058551 -0.12285278  0.091852...</td>\n      <td>[ 0.51694465 -0.1532621  -0.21871626 -0.031842...</td>\n      <td>0</td>\n    </tr>\n    <tr>\n      <th>...</th>\n      <td>...</td>\n      <td>...</td>\n      <td>...</td>\n    </tr>\n    <tr>\n      <th>370389</th>\n      <td>[ 0.6120544  -0.08026706 -0.11120206  0.005097...</td>\n      <td>[ 0.6051509  -0.0771248  -0.10141405 -0.005769...</td>\n      <td>0</td>\n    </tr>\n    <tr>\n      <th>370390</th>\n      <td>[ 0.5858043  -0.19736733 -0.06349304 -0.052130...</td>\n      <td>[ 0.57238656 -0.19273913 -0.16352256  0.026960...</td>\n      <td>1</td>\n    </tr>\n    <tr>\n      <th>370391</th>\n      <td>[ 0.40368885 -0.40503123  0.00602975  0.136909...</td>\n      <td>[ 0.40368885 -0.40503123  0.00602975  0.136909...</td>\n      <td>0</td>\n    </tr>\n    <tr>\n      <th>370392</th>\n      <td>[ 0.5234132  -0.13860296 -0.17368013  0.092954...</td>\n      <td>[ 0.5453015  -0.14549695 -0.18995084  0.063944...</td>\n      <td>0</td>\n    </tr>\n    <tr>\n      <th>370393</th>\n      <td>[ 0.55894786 -0.31426394 -0.04234     0.020683...</td>\n      <td>[ 0.55894786 -0.31426394 -0.04234     0.020683...</td>\n      <td>0</td>\n    </tr>\n  </tbody>\n</table>\n<p>370394 rows × 3 columns</p>\n</div>"
     },
     "execution_count": 7,
     "metadata": {},
     "output_type": "execute_result"
    }
   ],
   "source": [
    "data"
   ],
   "metadata": {
    "collapsed": false,
    "ExecuteTime": {
     "end_time": "2023-05-29T18:22:13.060420Z",
     "start_time": "2023-05-29T18:22:13.037970600Z"
    }
   }
  },
  {
   "cell_type": "code",
   "execution_count": 8,
   "outputs": [],
   "source": [
    "data.to_csv(\"../../data/processed_data/processed_data.csv\", index=False)"
   ],
   "metadata": {
    "collapsed": false,
    "ExecuteTime": {
     "end_time": "2023-05-29T18:22:17.478793400Z",
     "start_time": "2023-05-29T18:22:13.057903800Z"
    }
   }
  }
 ],
 "metadata": {
  "kernelspec": {
   "display_name": "Python 3",
   "language": "python",
   "name": "python3"
  },
  "language_info": {
   "codemirror_mode": {
    "name": "ipython",
    "version": 2
   },
   "file_extension": ".py",
   "mimetype": "text/x-python",
   "name": "python",
   "nbconvert_exporter": "python",
   "pygments_lexer": "ipython2",
   "version": "2.7.6"
  }
 },
 "nbformat": 4,
 "nbformat_minor": 0
}
