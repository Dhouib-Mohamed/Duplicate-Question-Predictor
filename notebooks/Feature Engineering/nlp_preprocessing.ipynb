{
 "cells": [
  {
   "cell_type": "markdown",
   "source": [
    "## Importing Necessary Libraries"
   ],
   "metadata": {
    "collapsed": false
   }
  },
  {
   "cell_type": "code",
   "execution_count": 11,
   "outputs": [
    {
     "name": "stderr",
     "output_type": "stream",
     "text": [
      "[nltk_data] Downloading package punkt to\n",
      "[nltk_data]     C:\\Users\\dhoui\\AppData\\Roaming\\nltk_data...\n",
      "[nltk_data]   Package punkt is already up-to-date!\n",
      "[nltk_data] Downloading package stopwords to\n",
      "[nltk_data]     C:\\Users\\dhoui\\AppData\\Roaming\\nltk_data...\n",
      "[nltk_data]   Package stopwords is already up-to-date!\n",
      "[nltk_data] Downloading package wordnet to\n",
      "[nltk_data]     C:\\Users\\dhoui\\AppData\\Roaming\\nltk_data...\n",
      "[nltk_data]   Package wordnet is already up-to-date!\n",
      "[nltk_data] Downloading package omw-1.4 to\n",
      "[nltk_data]     C:\\Users\\dhoui\\AppData\\Roaming\\nltk_data...\n",
      "[nltk_data]   Package omw-1.4 is already up-to-date!\n"
     ]
    },
    {
     "data": {
      "text/plain": "<module 'src.nlp' from 'D:\\\\Study\\\\GL3\\\\ppp\\\\src\\\\nlp.py'>"
     },
     "execution_count": 11,
     "metadata": {},
     "output_type": "execute_result"
    }
   ],
   "source": [
    "import pandas as pd\n",
    "import src.nlp as nlp\n",
    "import importlib\n",
    "importlib.reload(nlp)"
   ],
   "metadata": {
    "collapsed": false
   }
  },
  {
   "cell_type": "code",
   "execution_count": 12,
   "outputs": [],
   "source": [
    "data = pd.read_csv('../../data/raw_data/clean_questions.csv')"
   ],
   "metadata": {
    "collapsed": false
   }
  },
  {
   "cell_type": "code",
   "execution_count": 13,
   "outputs": [],
   "source": [
    "data.question = data.question.astype(str)"
   ],
   "metadata": {
    "collapsed": false
   }
  },
  {
   "cell_type": "markdown",
   "source": [],
   "metadata": {
    "collapsed": false
   }
  },
  {
   "cell_type": "code",
   "execution_count": 14,
   "outputs": [],
   "source": [
    "data[\"vector_question\"] = data[\"question\"].apply(lambda x : nlp.tokenize(x))"
   ],
   "metadata": {
    "collapsed": false
   }
  },
  {
   "cell_type": "code",
   "execution_count": 15,
   "outputs": [
    {
     "name": "stdout",
     "output_type": "stream",
     "text": [
      "0    [what, is, the, step, by, step, guide, to, inv...\n",
      "1    [what, is, the, story, of, kohinoor, (, koh-i-...\n",
      "2    [how, can, i, increase, the, speed, of, my, in...\n",
      "3    [why, am, i, mentally, very, lonely, ?, how, c...\n",
      "4    [which, one, dissolve, in, water, quikly, suga...\n",
      "5    [astrology, :, i, am, a, capricorn, sun, cap, ...\n",
      "6                           [should, i, buy, tiago, ?]\n",
      "7             [how, can, i, be, a, good, geologist, ?]\n",
      "8           [when, do, you, use, シ, instead, of, し, ?]\n",
      "9    [motorola, (, company, ), :, can, i, hack, my,...\n",
      "Name: vector_question, dtype: object\n"
     ]
    }
   ],
   "source": [
    "data"
   ],
   "metadata": {
    "collapsed": false
   }
  },
  {
   "cell_type": "code",
   "execution_count": 16,
   "outputs": [],
   "source": [
    "data[\"vector_question\"] = data[\"vector_question\"].apply(lambda x : nlp.stop_words(x))"
   ],
   "metadata": {
    "collapsed": false
   }
  },
  {
   "cell_type": "code",
   "execution_count": 17,
   "outputs": [
    {
     "name": "stdout",
     "output_type": "stream",
     "text": [
      "0    [step, step, guide, invest, share, market, india]\n",
      "1               [story, kohinoor, koh-i-noor, diamond]\n",
      "2    [increase, speed, internet, connection, using,...\n",
      "3                            [mentally, lonely, solve]\n",
      "4    [one, dissolve, water, quikly, sugar, salt, me...\n",
      "5    [astrology, capricorn, sun, cap, moon, cap, ri...\n",
      "6                                         [buy, tiago]\n",
      "7                                    [good, geologist]\n",
      "8                                 [use, シ, instead, し]\n",
      "9    [motorola, company, hack, charter, motorolla, ...\n",
      "Name: vector_question, dtype: object\n"
     ]
    }
   ],
   "source": [
    "data"
   ],
   "metadata": {
    "collapsed": false
   }
  },
  {
   "cell_type": "code",
   "execution_count": 18,
   "outputs": [],
   "source": [
    "data[\"normalized_question\"] = data[\"vector_question\"].apply(lambda x : nlp.normalize(x))"
   ],
   "metadata": {
    "collapsed": false
   }
  },
  {
   "cell_type": "code",
   "execution_count": 19,
   "outputs": [
    {
     "name": "stdout",
     "output_type": "stream",
     "text": [
      "0    [step, step, guide, invest, share, market, india]\n",
      "1               [story, kohinoor, koh-i-noor, diamond]\n",
      "2    [increase, speed, internet, connection, using,...\n",
      "3                            [mentally, lonely, solve]\n",
      "4    [one, dissolve, water, quikly, sugar, salt, me...\n",
      "5    [astrology, capricorn, sun, cap, moon, cap, ri...\n",
      "6                                         [buy, tiago]\n",
      "7                                    [good, geologist]\n",
      "8                                 [use, シ, instead, し]\n",
      "9    [motorola, company, hack, charter, motorolla, ...\n",
      "Name: normalized_question, dtype: object\n"
     ]
    }
   ],
   "source": [
    "data"
   ],
   "metadata": {
    "collapsed": false
   }
  },
  {
   "cell_type": "code",
   "execution_count": 20,
   "outputs": [],
   "source": [
    "data = data[[\"qid\",\"vector_question\"]]"
   ],
   "metadata": {
    "collapsed": false
   }
  },
  {
   "cell_type": "code",
   "execution_count": 21,
   "outputs": [],
   "source": [
    "data.to_csv(\"../../data/processed_data/preprocessed_questions.csv\", index=False)"
   ],
   "metadata": {
    "collapsed": false
   }
  }
 ],
 "metadata": {
  "kernelspec": {
   "display_name": "Python 3",
   "language": "python",
   "name": "python3"
  },
  "language_info": {
   "codemirror_mode": {
    "name": "ipython",
    "version": 2
   },
   "file_extension": ".py",
   "mimetype": "text/x-python",
   "name": "python",
   "nbconvert_exporter": "python",
   "pygments_lexer": "ipython2",
   "version": "2.7.6"
  }
 },
 "nbformat": 4,
 "nbformat_minor": 0
}
