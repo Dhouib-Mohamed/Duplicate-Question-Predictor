{
 "cells": [
  {
   "cell_type": "markdown",
   "source": [
    "## Importing Necessary Libraries"
   ],
   "metadata": {
    "collapsed": false
   }
  },
  {
   "cell_type": "code",
   "execution_count": 1,
   "outputs": [],
   "source": [
    "import pandas as pd\n",
    "import src.nlp as nlp\n",
    "import importlib\n",
    "importlib.reload(nlp)\n",
    "from tqdm import tqdm"
   ],
   "metadata": {
    "collapsed": false,
    "ExecuteTime": {
     "end_time": "2023-05-20T13:25:59.445843900Z",
     "start_time": "2023-05-20T13:25:48.855600900Z"
    }
   }
  },
  {
   "cell_type": "code",
   "execution_count": 2,
   "outputs": [],
   "source": [
    "data = pd.read_csv('../../data/raw_data/clean_questions.csv')"
   ],
   "metadata": {
    "collapsed": false,
    "ExecuteTime": {
     "end_time": "2023-05-20T13:26:01.094245700Z",
     "start_time": "2023-05-20T13:25:59.449754300Z"
    }
   }
  },
  {
   "cell_type": "code",
   "execution_count": 3,
   "outputs": [],
   "source": [
    "data.question = data.question.astype(str)"
   ],
   "metadata": {
    "collapsed": false,
    "ExecuteTime": {
     "end_time": "2023-05-20T13:26:01.177260Z",
     "start_time": "2023-05-20T13:26:01.094245700Z"
    }
   }
  },
  {
   "cell_type": "markdown",
   "source": [],
   "metadata": {
    "collapsed": false
   }
  },
  {
   "cell_type": "code",
   "execution_count": 4,
   "outputs": [
    {
     "name": "stderr",
     "output_type": "stream",
     "text": [
      "100%|█████████▉| 772994/773003 [2:09:39<00:00, 95.49it/s]   "
     ]
    }
   ],
   "source": [
    "pbar = tqdm(total=len(data[\"question\"]))\n",
    "i=0\n",
    "data[\"vector_question\"] = data[\"question\"].apply(lambda x : nlp.tokenize(x,pbar,i))"
   ],
   "metadata": {
    "collapsed": false,
    "ExecuteTime": {
     "end_time": "2023-05-20T15:35:41.481413800Z",
     "start_time": "2023-05-20T13:26:01.180265600Z"
    }
   }
  },
  {
   "cell_type": "code",
   "execution_count": 5,
   "outputs": [
    {
     "data": {
      "text/plain": "           qid                                           question  \\\n0            1  What is the step by step guide to invest in sh...   \n1            3  What is the story of Kohinoor (Koh-i-Noor) Dia...   \n2            5  How can I increase the speed of my internet co...   \n3            7  Why am I mentally very lonely? How can I solve...   \n4            9  Which one dissolve in water quikly sugar, salt...   \n...        ...                                                ...   \n772998  789793  How many keywords are there in PERL Programmin...   \n772999  789795         Is it true that there is life after death?   \n773000  789797                                  What's this coin?   \n773001  789799  I am having little hairfall problem but I want...   \n773002  789801      What is it like to have sex with your cousin?   \n\n                                          vector_question  \n0       [step, step, guide, invest, share, market, india]  \n1                   [story, kohinoor, koh, noor, diamond]  \n2            [increase, speed, internet, connection, vpn]  \n3                               [mentally, lonely, solve]  \n4       [dissolve, water, quikly, sugar, salt, methane...  \n...                                                   ...  \n772998  [keyword, perl, programming, language, late, v...  \n772999                                [true, life, death]  \n773000                                             [coin]  \n773001  [have, little, hairfall, problem, want, use, h...  \n773002                                [like, sex, cousin]  \n\n[773003 rows x 3 columns]",
      "text/html": "<div>\n<style scoped>\n    .dataframe tbody tr th:only-of-type {\n        vertical-align: middle;\n    }\n\n    .dataframe tbody tr th {\n        vertical-align: top;\n    }\n\n    .dataframe thead th {\n        text-align: right;\n    }\n</style>\n<table border=\"1\" class=\"dataframe\">\n  <thead>\n    <tr style=\"text-align: right;\">\n      <th></th>\n      <th>qid</th>\n      <th>question</th>\n      <th>vector_question</th>\n    </tr>\n  </thead>\n  <tbody>\n    <tr>\n      <th>0</th>\n      <td>1</td>\n      <td>What is the step by step guide to invest in sh...</td>\n      <td>[step, step, guide, invest, share, market, india]</td>\n    </tr>\n    <tr>\n      <th>1</th>\n      <td>3</td>\n      <td>What is the story of Kohinoor (Koh-i-Noor) Dia...</td>\n      <td>[story, kohinoor, koh, noor, diamond]</td>\n    </tr>\n    <tr>\n      <th>2</th>\n      <td>5</td>\n      <td>How can I increase the speed of my internet co...</td>\n      <td>[increase, speed, internet, connection, vpn]</td>\n    </tr>\n    <tr>\n      <th>3</th>\n      <td>7</td>\n      <td>Why am I mentally very lonely? How can I solve...</td>\n      <td>[mentally, lonely, solve]</td>\n    </tr>\n    <tr>\n      <th>4</th>\n      <td>9</td>\n      <td>Which one dissolve in water quikly sugar, salt...</td>\n      <td>[dissolve, water, quikly, sugar, salt, methane...</td>\n    </tr>\n    <tr>\n      <th>...</th>\n      <td>...</td>\n      <td>...</td>\n      <td>...</td>\n    </tr>\n    <tr>\n      <th>772998</th>\n      <td>789793</td>\n      <td>How many keywords are there in PERL Programmin...</td>\n      <td>[keyword, perl, programming, language, late, v...</td>\n    </tr>\n    <tr>\n      <th>772999</th>\n      <td>789795</td>\n      <td>Is it true that there is life after death?</td>\n      <td>[true, life, death]</td>\n    </tr>\n    <tr>\n      <th>773000</th>\n      <td>789797</td>\n      <td>What's this coin?</td>\n      <td>[coin]</td>\n    </tr>\n    <tr>\n      <th>773001</th>\n      <td>789799</td>\n      <td>I am having little hairfall problem but I want...</td>\n      <td>[have, little, hairfall, problem, want, use, h...</td>\n    </tr>\n    <tr>\n      <th>773002</th>\n      <td>789801</td>\n      <td>What is it like to have sex with your cousin?</td>\n      <td>[like, sex, cousin]</td>\n    </tr>\n  </tbody>\n</table>\n<p>773003 rows × 3 columns</p>\n</div>"
     },
     "execution_count": 5,
     "metadata": {},
     "output_type": "execute_result"
    }
   ],
   "source": [
    "data"
   ],
   "metadata": {
    "collapsed": false,
    "ExecuteTime": {
     "end_time": "2023-05-20T15:35:41.602112800Z",
     "start_time": "2023-05-20T15:35:41.495433500Z"
    }
   }
  },
  {
   "cell_type": "code",
   "execution_count": 6,
   "outputs": [],
   "source": [
    "# data[\"normalized_question\"] = data[\"vector_question\"].apply(lambda x : nlp.normalize(x))"
   ],
   "metadata": {
    "collapsed": false,
    "ExecuteTime": {
     "end_time": "2023-05-20T15:35:41.603155200Z",
     "start_time": "2023-05-20T15:35:41.577210200Z"
    }
   }
  },
  {
   "cell_type": "code",
   "execution_count": 7,
   "outputs": [],
   "source": [
    "# data"
   ],
   "metadata": {
    "collapsed": false,
    "ExecuteTime": {
     "end_time": "2023-05-20T15:35:41.603155200Z",
     "start_time": "2023-05-20T15:35:41.581686100Z"
    }
   }
  },
  {
   "cell_type": "code",
   "execution_count": 8,
   "outputs": [],
   "source": [
    "data = data[[\"qid\",\"vector_question\"]]"
   ],
   "metadata": {
    "collapsed": false,
    "ExecuteTime": {
     "end_time": "2023-05-20T15:35:42.034343600Z",
     "start_time": "2023-05-20T15:35:41.592070300Z"
    }
   }
  },
  {
   "cell_type": "code",
   "execution_count": 9,
   "outputs": [],
   "source": [
    "data.to_csv(\"../../data/processed_data/preprocessed_questions.csv\", index=False)"
   ],
   "metadata": {
    "collapsed": false,
    "ExecuteTime": {
     "end_time": "2023-05-20T15:35:47.308945300Z",
     "start_time": "2023-05-20T15:35:41.921616600Z"
    }
   }
  }
 ],
 "metadata": {
  "kernelspec": {
   "display_name": "Python 3",
   "language": "python",
   "name": "python3"
  },
  "language_info": {
   "codemirror_mode": {
    "name": "ipython",
    "version": 2
   },
   "file_extension": ".py",
   "mimetype": "text/x-python",
   "name": "python",
   "nbconvert_exporter": "python",
   "pygments_lexer": "ipython2",
   "version": "2.7.6"
  }
 },
 "nbformat": 4,
 "nbformat_minor": 0
}
