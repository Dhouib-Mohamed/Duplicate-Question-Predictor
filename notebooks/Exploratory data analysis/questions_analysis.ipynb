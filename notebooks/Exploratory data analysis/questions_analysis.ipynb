{
 "cells": [
  {
   "cell_type": "markdown",
   "source": [
    "## Necessary Imports"
   ],
   "metadata": {
    "collapsed": false
   }
  },
  {
   "cell_type": "code",
   "execution_count": 1,
   "outputs": [
    {
     "ename": "ModuleNotFoundError",
     "evalue": "No module named 'seaborn'",
     "output_type": "error",
     "traceback": [
      "\u001B[1;31m---------------------------------------------------------------------------\u001B[0m",
      "\u001B[1;31mModuleNotFoundError\u001B[0m                       Traceback (most recent call last)",
      "Cell \u001B[1;32mIn[1], line 6\u001B[0m\n\u001B[0;32m      4\u001B[0m importlib\u001B[38;5;241m.\u001B[39mreload(vis)\n\u001B[0;32m      5\u001B[0m \u001B[38;5;28;01mfrom\u001B[39;00m \u001B[38;5;21;01mmatplotlib\u001B[39;00m \u001B[38;5;28;01mimport\u001B[39;00m pyplot \u001B[38;5;28;01mas\u001B[39;00m plt\n\u001B[1;32m----> 6\u001B[0m \u001B[38;5;28;01mimport\u001B[39;00m \u001B[38;5;21;01mseaborn\u001B[39;00m \u001B[38;5;28;01mas\u001B[39;00m \u001B[38;5;21;01msns\u001B[39;00m\n\u001B[0;32m      7\u001B[0m \u001B[38;5;28;01mimport\u001B[39;00m  \u001B[38;5;21;01mnumpy\u001B[39;00m \u001B[38;5;28;01mas\u001B[39;00m \u001B[38;5;21;01mnp\u001B[39;00m\n\u001B[0;32m      8\u001B[0m pal \u001B[38;5;241m=\u001B[39m sns\u001B[38;5;241m.\u001B[39mcolor_palette()\n",
      "\u001B[1;31mModuleNotFoundError\u001B[0m: No module named 'seaborn'"
     ]
    }
   ],
   "source": [
    "import pandas as pd\n",
    "import src.visualization as vis\n",
    "import importlib\n",
    "importlib.reload(vis)\n",
    "from matplotlib import pyplot as plt\n",
    "import seaborn as sns\n",
    "import  numpy as np\n",
    "pal = sns.color_palette()"
   ],
   "metadata": {
    "collapsed": false,
    "ExecuteTime": {
     "end_time": "2023-05-29T13:24:55.312363500Z",
     "start_time": "2023-05-29T13:24:54.373568800Z"
    }
   }
  },
  {
   "cell_type": "markdown",
   "source": [
    "## Reading All The Data"
   ],
   "metadata": {
    "collapsed": false
   }
  },
  {
   "cell_type": "code",
   "execution_count": null,
   "outputs": [],
   "source": [
    "data = pd.read_csv('../../data/raw_data/data.csv')"
   ],
   "metadata": {
    "collapsed": false
   }
  },
  {
   "cell_type": "code",
   "execution_count": null,
   "outputs": [],
   "source": [
    "data"
   ],
   "metadata": {
    "collapsed": false
   }
  },
  {
   "cell_type": "markdown",
   "source": [
    "In this dataset, we are given question pairs and a 'is_duplicate' column which indicates whether the question pairs  are duplicate of each other or not."
   ],
   "metadata": {
    "collapsed": false
   }
  },
  {
   "cell_type": "markdown",
   "source": [
    "## Questions Analysis"
   ],
   "metadata": {
    "collapsed": false
   }
  },
  {
   "cell_type": "markdown",
   "source": [
    "#### Questions Extraction"
   ],
   "metadata": {
    "collapsed": false
   }
  },
  {
   "cell_type": "code",
   "execution_count": null,
   "outputs": [],
   "source": [
    "# Counting the number of NaN values in each column\n",
    "nan_counts = data.isna().sum()\n",
    "print(nan_counts)"
   ],
   "metadata": {
    "collapsed": false
   }
  },
  {
   "cell_type": "code",
   "execution_count": null,
   "outputs": [],
   "source": [
    "# Replace missing values with and empty string\n",
    "data.fillna('', inplace=True)\n",
    "\n",
    "# Convert questions to a string data type\n",
    "data.question1 = data.question1.astype(str)\n",
    "data.question2 = data.question2.astype(str)"
   ],
   "metadata": {
    "collapsed": false
   }
  },
  {
   "cell_type": "markdown",
   "source": [],
   "metadata": {
    "collapsed": false
   }
  },
  {
   "cell_type": "code",
   "execution_count": null,
   "outputs": [],
   "source": [
    "# Combine qid1 and question1 into a new DataFrame df_q1\n",
    "df_q1 = data[['qid1', 'question1']].rename(columns={'qid1': 'qid','question1':'question'})\n",
    "\n",
    "# Combine qid2 and question2 into a new DataFrame df_q2\n",
    "df_q2 = data[['qid2', 'question2']].rename(columns={'qid2': 'qid','question2':'question'})\n",
    "\n",
    "# Concatenate the two DataFrames\n",
    "df_questions = pd.concat([df_q1, df_q2], axis=0)\n",
    "\n",
    "# Drop duplicates\n",
    "df_questions = df_questions.drop_duplicates()\n",
    "\n",
    "# Reset index\n",
    "df_questions = df_questions.reset_index(drop=True)"
   ],
   "metadata": {
    "collapsed": false
   }
  },
  {
   "cell_type": "code",
   "execution_count": null,
   "outputs": [],
   "source": [
    "# Adding question length and word count columns\n",
    "df_questions['length'] = df_questions['question'].apply(lambda x: len(x))\n",
    "df_questions['word_count'] = df_questions['question'].apply(lambda x: len(x.split()))"
   ],
   "metadata": {
    "collapsed": false
   }
  },
  {
   "cell_type": "code",
   "execution_count": null,
   "outputs": [],
   "source": [
    "df_questions"
   ],
   "metadata": {
    "collapsed": false
   }
  },
  {
   "cell_type": "code",
   "execution_count": null,
   "outputs": [],
   "source": [
    "# Saving df_questions dataset in a csv file \"questions\"\n",
    "df_questions.to_csv(\"../../data/raw_data/questions.csv\", index=False)"
   ],
   "metadata": {
    "collapsed": false
   }
  },
  {
   "cell_type": "markdown",
   "source": [
    "#### Questions Analysis"
   ],
   "metadata": {
    "collapsed": false
   }
  },
  {
   "cell_type": "code",
   "execution_count": null,
   "outputs": [],
   "source": [
    "# Plotting histogram for length and word count features\n",
    "vis.histPlotAll(df_questions[[\"length\",\"word_count\"]])"
   ],
   "metadata": {
    "collapsed": false
   }
  },
  {
   "cell_type": "code",
   "execution_count": null,
   "outputs": [],
   "source": [
    "# Generating box plots for length and word count features\n",
    "vis.boxPlotAll(df_questions[[\"length\",\"word_count\"]])"
   ],
   "metadata": {
    "collapsed": false
   }
  },
  {
   "cell_type": "code",
   "execution_count": null,
   "outputs": [],
   "source": [
    "# Converting the 'question' column to a Series of strings, replacing NaN values with empty strings.\n",
    "pairs_qs = pd.Series(df_questions['question'].fillna('').tolist()).astype(str)\n",
    "# Calculating char count for each question\n",
    "dist = pairs_qs.apply(len)\n",
    "\n",
    "# Generating a histogram of the normalized character count for the pairs of questions.\n",
    "plt.figure(figsize=(15, 10))\n",
    "plt.hist(dist, bins=200, range=[0, 200], color=pal[2],  density=True)\n",
    "plt.title('Normalized char count', fontsize=15)\n",
    "plt.legend()\n",
    "plt.xlabel('# of characteres', fontsize=15)\n",
    "plt.ylabel('Occurrence Probability', fontsize=15)\n",
    "\n",
    "# Printing the mean, standard deviation, and maximum character count.\n",
    "print('mean {:.2f} std {:.2f} max {:.2f} min {:.2f}'.format(dist.mean(), dist.std(), dist.max(),dist.min()))"
   ],
   "metadata": {
    "collapsed": false
   }
  },
  {
   "cell_type": "code",
   "execution_count": null,
   "outputs": [],
   "source": [
    "# Calculating word count for each question\n",
    "dist_words = pairs_qs.apply(lambda x: len(x.split(' ')))\n",
    "\n",
    "# Generating a histogram of the normalized word count for the pairs of questions.\n",
    "plt.figure(figsize=(15, 10))\n",
    "plt.hist(dist_words, bins=50, range=[0, 50], color=pal[2], density=True)\n",
    "plt.title('Normalized word counts', fontsize=15)\n",
    "plt.legend()\n",
    "plt.xlabel('Word Count', fontsize=15)\n",
    "plt.ylabel('Probability', fontsize=15)\n",
    "\n",
    "# Printing the mean, standard deviation, and maximum word count.\n",
    "print('mean {:.2f} std {:.2f} max {:.2f} '.format(dist_words.mean(), dist_words.std(), dist_words.max()))"
   ],
   "metadata": {
    "collapsed": false
   }
  },
  {
   "cell_type": "code",
   "execution_count": null,
   "outputs": [],
   "source": [
    " vis.scatterMatrix(df_questions[[\"length\",\"word_count\"]])"
   ],
   "metadata": {
    "collapsed": false
   }
  },
  {
   "cell_type": "code",
   "execution_count": null,
   "outputs": [],
   "source": [
    "plt.scatter(dist, dist_words)\n",
    "plt.title(\"Word Count vs. Character Count\")\n",
    "plt.xlabel(\"Character Count\")\n",
    "plt.ylabel(\"Word Count\")\n",
    "\n",
    "# Adding a trendline (optional)\n",
    "coefficients = np.polyfit(dist, dist_words, 1)\n",
    "poly = np.poly1d(coefficients)\n",
    "plt.plot(dist, poly(dist), color='g')\n",
    "\n",
    "# Displaying the plot\n",
    "plt.show()"
   ],
   "metadata": {
    "collapsed": false
   }
  },
  {
   "cell_type": "code",
   "execution_count": null,
   "outputs": [],
   "source": [],
   "metadata": {
    "collapsed": false
   }
  }
 ],
 "metadata": {
  "kernelspec": {
   "display_name": "Python 3",
   "language": "python",
   "name": "python3"
  },
  "language_info": {
   "codemirror_mode": {
    "name": "ipython",
    "version": 2
   },
   "file_extension": ".py",
   "mimetype": "text/x-python",
   "name": "python",
   "nbconvert_exporter": "python",
   "pygments_lexer": "ipython2",
   "version": "2.7.6"
  }
 },
 "nbformat": 4,
 "nbformat_minor": 0
}
