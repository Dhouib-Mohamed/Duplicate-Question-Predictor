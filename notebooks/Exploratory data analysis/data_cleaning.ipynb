{
 "cells": [
  {
   "cell_type": "markdown",
   "source": [
    "## Necessary Imports"
   ],
   "metadata": {
    "collapsed": false
   }
  },
  {
   "cell_type": "code",
   "execution_count": 3,
   "outputs": [
    {
     "data": {
      "text/plain": "<module 'src.utils' from 'C:\\\\Users\\\\katko\\\\Documents\\\\GL3\\\\sem2\\\\PPP\\\\Duplicate-Question-Predictor\\\\src\\\\utils.py'>"
     },
     "execution_count": 3,
     "metadata": {},
     "output_type": "execute_result"
    }
   ],
   "source": [
    "import pandas as pd\n",
    "import src.utils as utils\n",
    "import importlib\n",
    "importlib.reload(utils)"
   ],
   "metadata": {
    "collapsed": false,
    "ExecuteTime": {
     "start_time": "2023-05-29T09:32:07.771027Z",
     "end_time": "2023-05-29T09:32:07.826114Z"
    }
   }
  },
  {
   "cell_type": "markdown",
   "source": [
    "## Data Limits"
   ],
   "metadata": {
    "collapsed": false
   }
  },
  {
   "cell_type": "code",
   "execution_count": 4,
   "outputs": [],
   "source": [
    "MAX_QUESTION_LENGTH = 200\n",
    "MAX_QUESTION_WORDS = 40"
   ],
   "metadata": {
    "collapsed": false,
    "ExecuteTime": {
     "start_time": "2023-05-29T09:32:10.238225Z",
     "end_time": "2023-05-29T09:32:10.252230Z"
    }
   }
  },
  {
   "cell_type": "markdown",
   "source": [
    "## Questions Cleaning"
   ],
   "metadata": {
    "collapsed": false
   }
  },
  {
   "cell_type": "code",
   "execution_count": 5,
   "outputs": [],
   "source": [
    "questions = pd.read_csv(\"../../data/raw_data/questions.csv\")"
   ],
   "metadata": {
    "collapsed": false,
    "ExecuteTime": {
     "start_time": "2023-05-29T09:32:12.743820Z",
     "end_time": "2023-05-29T09:32:14.284991Z"
    }
   }
  },
  {
   "cell_type": "code",
   "execution_count": 6,
   "outputs": [],
   "source": [
    "# Removing rows from the DataFrame where the question length exceeds the maximum question length.\n",
    "clean_df = questions.drop(questions[questions.length > MAX_QUESTION_LENGTH].index)\n",
    "# Removing rows from the DataFrame where the word count exceeds the maximum question word count.\n",
    "clean_df = clean_df.drop(clean_df[clean_df.word_count > MAX_QUESTION_WORDS].index)\n",
    "\n",
    "# Removing duplicate rows from the DataFrame based on the 'qid' column.\n",
    "clean_df = clean_df.drop_duplicates(subset='qid', keep=False)"
   ],
   "metadata": {
    "collapsed": false,
    "ExecuteTime": {
     "start_time": "2023-05-29T09:32:15.460238Z",
     "end_time": "2023-05-29T09:32:15.751485Z"
    }
   }
  },
  {
   "cell_type": "code",
   "execution_count": 7,
   "outputs": [
    {
     "data": {
      "text/plain": "           qid                                           question  length  \\\n0            1  What is the step by step guide to invest in sh...      66   \n1            3  What is the story of Kohinoor (Koh-i-Noor) Dia...      51   \n2            5  How can I increase the speed of my internet co...      73   \n3            7  Why am I mentally very lonely? How can I solve...      50   \n4            9  Which one dissolve in water quikly sugar, salt...      76   \n...        ...                                                ...     ...   \n803494  789793  How many keywords are there in PERL Programmin...      79   \n803495  789795         Is it true that there is life after death?      42   \n803496  789797                                  What's this coin?      17   \n803497  789799  I am having little hairfall problem but I want...     127   \n803498  789801      What is it like to have sex with your cousin?      45   \n\n        word_count  \n0               14  \n1                8  \n2               14  \n3               11  \n4               13  \n...            ...  \n803494          13  \n803495           9  \n803496           3  \n803497          25  \n803498          10  \n\n[773003 rows x 4 columns]",
      "text/html": "<div>\n<style scoped>\n    .dataframe tbody tr th:only-of-type {\n        vertical-align: middle;\n    }\n\n    .dataframe tbody tr th {\n        vertical-align: top;\n    }\n\n    .dataframe thead th {\n        text-align: right;\n    }\n</style>\n<table border=\"1\" class=\"dataframe\">\n  <thead>\n    <tr style=\"text-align: right;\">\n      <th></th>\n      <th>qid</th>\n      <th>question</th>\n      <th>length</th>\n      <th>word_count</th>\n    </tr>\n  </thead>\n  <tbody>\n    <tr>\n      <th>0</th>\n      <td>1</td>\n      <td>What is the step by step guide to invest in sh...</td>\n      <td>66</td>\n      <td>14</td>\n    </tr>\n    <tr>\n      <th>1</th>\n      <td>3</td>\n      <td>What is the story of Kohinoor (Koh-i-Noor) Dia...</td>\n      <td>51</td>\n      <td>8</td>\n    </tr>\n    <tr>\n      <th>2</th>\n      <td>5</td>\n      <td>How can I increase the speed of my internet co...</td>\n      <td>73</td>\n      <td>14</td>\n    </tr>\n    <tr>\n      <th>3</th>\n      <td>7</td>\n      <td>Why am I mentally very lonely? How can I solve...</td>\n      <td>50</td>\n      <td>11</td>\n    </tr>\n    <tr>\n      <th>4</th>\n      <td>9</td>\n      <td>Which one dissolve in water quikly sugar, salt...</td>\n      <td>76</td>\n      <td>13</td>\n    </tr>\n    <tr>\n      <th>...</th>\n      <td>...</td>\n      <td>...</td>\n      <td>...</td>\n      <td>...</td>\n    </tr>\n    <tr>\n      <th>803494</th>\n      <td>789793</td>\n      <td>How many keywords are there in PERL Programmin...</td>\n      <td>79</td>\n      <td>13</td>\n    </tr>\n    <tr>\n      <th>803495</th>\n      <td>789795</td>\n      <td>Is it true that there is life after death?</td>\n      <td>42</td>\n      <td>9</td>\n    </tr>\n    <tr>\n      <th>803496</th>\n      <td>789797</td>\n      <td>What's this coin?</td>\n      <td>17</td>\n      <td>3</td>\n    </tr>\n    <tr>\n      <th>803497</th>\n      <td>789799</td>\n      <td>I am having little hairfall problem but I want...</td>\n      <td>127</td>\n      <td>25</td>\n    </tr>\n    <tr>\n      <th>803498</th>\n      <td>789801</td>\n      <td>What is it like to have sex with your cousin?</td>\n      <td>45</td>\n      <td>10</td>\n    </tr>\n  </tbody>\n</table>\n<p>773003 rows × 4 columns</p>\n</div>"
     },
     "execution_count": 7,
     "metadata": {},
     "output_type": "execute_result"
    }
   ],
   "source": [
    "clean_df"
   ],
   "metadata": {
    "collapsed": false,
    "ExecuteTime": {
     "start_time": "2023-05-29T09:32:18.616134Z",
     "end_time": "2023-05-29T09:32:18.640727Z"
    }
   }
  },
  {
   "cell_type": "code",
   "execution_count": 8,
   "outputs": [],
   "source": [
    "# Selecting only the 'qid' and 'question' columns from the clean DataFrame.\n",
    "clean_df=clean_df[[\"qid\",\"question\"]]"
   ],
   "metadata": {
    "collapsed": false,
    "ExecuteTime": {
     "start_time": "2023-05-29T09:32:26.223717Z",
     "end_time": "2023-05-29T09:32:26.297278Z"
    }
   }
  },
  {
   "cell_type": "code",
   "execution_count": 13,
   "outputs": [],
   "source": [
    "# Saving the clean_df DataFrame to 'clean_question' CSV file.\n",
    "clean_df.to_csv(\"../../data/raw_data/clean_questions.csv\", index=False)"
   ],
   "metadata": {
    "collapsed": false
   }
  },
  {
   "cell_type": "code",
   "execution_count": 14,
   "outputs": [
    {
     "name": "stdout",
     "output_type": "stream",
     "text": [
      "Percentage of kept Data (Questions) :\n",
      "96.20460013018062 %\n"
     ]
    }
   ],
   "source": [
    "print(\"Percentage of kept Data (Questions) :\")\n",
    "print(len(clean_df)/len(questions)*100,\"%\")"
   ],
   "metadata": {
    "collapsed": false
   }
  },
  {
   "cell_type": "markdown",
   "source": [
    "## Data cleaning"
   ],
   "metadata": {
    "collapsed": false
   }
  },
  {
   "cell_type": "code",
   "execution_count": 15,
   "outputs": [
    {
     "name": "stdout",
     "output_type": "stream",
     "text": [
      "            id    qid1    qid2  \\\n",
      "0            0       1       2   \n",
      "1            1       3       4   \n",
      "2            2       5       6   \n",
      "3            3       7       8   \n",
      "4            4       9      10   \n",
      "...        ...     ...     ...   \n",
      "404346  404346  789792  789793   \n",
      "404347  404347  789794  789795   \n",
      "404348  404348  789796  789797   \n",
      "404349  404349  789798  789799   \n",
      "404350  404350  789800  789801   \n",
      "\n",
      "                                                question1  \\\n",
      "0       What is the step by step guide to invest in sh...   \n",
      "1       What is the story of Kohinoor (Koh-i-Noor) Dia...   \n",
      "2       How can I increase the speed of my internet co...   \n",
      "3       Why am I mentally very lonely? How can I solve...   \n",
      "4       Which one dissolve in water quikly sugar, salt...   \n",
      "...                                                   ...   \n",
      "404346  How many keywords are there in the Racket prog...   \n",
      "404347          Do you believe there is life after death?   \n",
      "404348                                  What is one coin?   \n",
      "404349  What is the approx annual cost of living while...   \n",
      "404350              What is like to have sex with cousin?   \n",
      "\n",
      "                                                question2  is_duplicate  \n",
      "0       What is the step by step guide to invest in sh...             0  \n",
      "1       What would happen if the Indian government sto...             0  \n",
      "2       How can Internet speed be increased by hacking...             0  \n",
      "3       Find the remainder when [math]23^{24}[/math] i...             0  \n",
      "4                 Which fish would survive in salt water?             0  \n",
      "...                                                   ...           ...  \n",
      "404346  How many keywords are there in PERL Programmin...             0  \n",
      "404347         Is it true that there is life after death?             1  \n",
      "404348                                  What's this coin?             0  \n",
      "404349  I am having little hairfall problem but I want...             0  \n",
      "404350      What is it like to have sex with your cousin?             0  \n",
      "\n",
      "[404351 rows x 6 columns]\n"
     ]
    }
   ],
   "source": [
    "data = pd.read_csv('../../data/raw_data/data.csv')"
   ],
   "metadata": {
    "collapsed": false
   }
  },
  {
   "cell_type": "code",
   "execution_count": null,
   "outputs": [],
   "source": [
    "data"
   ],
   "metadata": {
    "collapsed": false
   }
  },
  {
   "cell_type": "markdown",
   "source": [],
   "metadata": {
    "collapsed": false
   }
  },
  {
   "cell_type": "code",
   "execution_count": 16,
   "outputs": [
    {
     "name": "stdout",
     "output_type": "stream",
     "text": [
      "0         True\n",
      "1         True\n",
      "2         True\n",
      "3         True\n",
      "4         True\n",
      "          ... \n",
      "404346    True\n",
      "404347    True\n",
      "404348    True\n",
      "404349    True\n",
      "404350    True\n",
      "Name: qid1, Length: 404351, dtype: bool\n",
      "            id    qid1    qid2  \\\n",
      "0            0       1       2   \n",
      "1            1       3       4   \n",
      "2            2       5       6   \n",
      "3            3       7       8   \n",
      "4            4       9      10   \n",
      "...        ...     ...     ...   \n",
      "404346  404346  789792  789793   \n",
      "404347  404347  789794  789795   \n",
      "404348  404348  789796  789797   \n",
      "404349  404349  789798  789799   \n",
      "404350  404350  789800  789801   \n",
      "\n",
      "                                                question1  \\\n",
      "0       What is the step by step guide to invest in sh...   \n",
      "1       What is the story of Kohinoor (Koh-i-Noor) Dia...   \n",
      "2       How can I increase the speed of my internet co...   \n",
      "3       Why am I mentally very lonely? How can I solve...   \n",
      "4       Which one dissolve in water quikly sugar, salt...   \n",
      "...                                                   ...   \n",
      "404346  How many keywords are there in the Racket prog...   \n",
      "404347          Do you believe there is life after death?   \n",
      "404348                                  What is one coin?   \n",
      "404349  What is the approx annual cost of living while...   \n",
      "404350              What is like to have sex with cousin?   \n",
      "\n",
      "                                                question2  is_duplicate  \n",
      "0       What is the step by step guide to invest in sh...             0  \n",
      "1       What would happen if the Indian government sto...             0  \n",
      "2       How can Internet speed be increased by hacking...             0  \n",
      "3       Find the remainder when [math]23^{24}[/math] i...             0  \n",
      "4                 Which fish would survive in salt water?             0  \n",
      "...                                                   ...           ...  \n",
      "404346  How many keywords are there in PERL Programmin...             0  \n",
      "404347         Is it true that there is life after death?             1  \n",
      "404348                                  What's this coin?             0  \n",
      "404349  I am having little hairfall problem but I want...             0  \n",
      "404350      What is it like to have sex with your cousin?             0  \n",
      "\n",
      "[370394 rows x 6 columns]\n"
     ]
    }
   ],
   "source": [
    "# Remove any rows where qid1 or qid2 do not exist in qid_question_df\n",
    "clean_data = data[data['qid1'].isin(clean_df['qid'])]\n",
    "clean_data = clean_data[clean_data['qid2'].isin(clean_df['qid'])]"
   ],
   "metadata": {
    "collapsed": false
   }
  },
  {
   "cell_type": "code",
   "execution_count": null,
   "outputs": [],
   "source": [
    "clean_data"
   ],
   "metadata": {
    "collapsed": false
   }
  },
  {
   "cell_type": "code",
   "execution_count": 17,
   "outputs": [],
   "source": [
    "clean_data.to_csv(\"../../data/raw_data/clean_data.csv\",index=False)"
   ],
   "metadata": {
    "collapsed": false
   }
  },
  {
   "cell_type": "code",
   "execution_count": 18,
   "outputs": [
    {
     "name": "stdout",
     "output_type": "stream",
     "text": [
      "Percentage of kept Data :\n",
      "91.60209817707883 %\n"
     ]
    }
   ],
   "source": [
    "print(\"Percentage of kept Data :\")\n",
    "print(len(clean_data)/len(data)*100,\"%\")"
   ],
   "metadata": {
    "collapsed": false
   }
  }
 ],
 "metadata": {
  "kernelspec": {
   "display_name": "Python 3",
   "language": "python",
   "name": "python3"
  },
  "language_info": {
   "codemirror_mode": {
    "name": "ipython",
    "version": 2
   },
   "file_extension": ".py",
   "mimetype": "text/x-python",
   "name": "python",
   "nbconvert_exporter": "python",
   "pygments_lexer": "ipython2",
   "version": "2.7.6"
  }
 },
 "nbformat": 4,
 "nbformat_minor": 0
}
