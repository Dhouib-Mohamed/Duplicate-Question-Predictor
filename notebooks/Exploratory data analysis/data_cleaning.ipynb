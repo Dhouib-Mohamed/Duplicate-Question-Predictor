{
 "cells": [
  {
   "cell_type": "markdown",
   "source": [
    "## Necessary Imports"
   ],
   "metadata": {
    "collapsed": false
   }
  },
  {
   "cell_type": "code",
   "execution_count": 1,
   "outputs": [
    {
     "data": {
      "text/plain": "<module 'src.utils' from 'D:\\\\Study\\\\GL3\\\\ppp\\\\src\\\\utils.py'>"
     },
     "execution_count": 1,
     "metadata": {},
     "output_type": "execute_result"
    }
   ],
   "source": [
    "import pandas as pd\n",
    "import src.utils as utils\n",
    "import importlib\n",
    "importlib.reload(utils)"
   ],
   "metadata": {
    "collapsed": false,
    "ExecuteTime": {
     "end_time": "2023-05-29T13:23:44.468599700Z",
     "start_time": "2023-05-29T13:23:44.115306500Z"
    }
   }
  },
  {
   "cell_type": "markdown",
   "source": [
    "## Data Limits"
   ],
   "metadata": {
    "collapsed": false
   }
  },
  {
   "cell_type": "code",
   "execution_count": 2,
   "outputs": [],
   "source": [
    "MAX_QUESTION_LENGTH = 200\n",
    "MAX_QUESTION_WORDS = 40"
   ],
   "metadata": {
    "collapsed": false,
    "ExecuteTime": {
     "end_time": "2023-05-29T13:23:44.472839900Z",
     "start_time": "2023-05-29T13:23:44.469598800Z"
    }
   }
  },
  {
   "cell_type": "markdown",
   "source": [
    "## Questions Cleaning"
   ],
   "metadata": {
    "collapsed": false
   }
  },
  {
   "cell_type": "code",
   "execution_count": 3,
   "outputs": [],
   "source": [
    "questions = pd.read_csv(\"../../data/raw_data/questions.csv\")"
   ],
   "metadata": {
    "collapsed": false,
    "ExecuteTime": {
     "end_time": "2023-05-29T13:23:45.571493700Z",
     "start_time": "2023-05-29T13:23:44.474122100Z"
    }
   }
  },
  {
   "cell_type": "code",
   "execution_count": 4,
   "outputs": [],
   "source": [
    "# Removing rows from the DataFrame where the question length exceeds the maximum question length.\n",
    "clean_df = questions.drop(questions[questions.length > MAX_QUESTION_LENGTH].index)\n",
    "# Removing rows from the DataFrame where the word count exceeds the maximum question word count.\n",
    "clean_df = clean_df.drop(clean_df[clean_df.word_count > MAX_QUESTION_WORDS].index)\n",
    "\n",
    "# Removing duplicate rows from the DataFrame based on the 'qid' column.\n",
    "clean_df = clean_df.drop_duplicates(subset='qid', keep=False)"
   ],
   "metadata": {
    "collapsed": false,
    "ExecuteTime": {
     "end_time": "2023-05-29T13:23:45.774068400Z",
     "start_time": "2023-05-29T13:23:45.575502100Z"
    }
   }
  },
  {
   "cell_type": "code",
   "execution_count": 5,
   "outputs": [
    {
     "data": {
      "text/plain": "           qid                                           question  length  \\\n0            1  What is the step by step guide to invest in sh...      66   \n1            3  What is the story of Kohinoor (Koh-i-Noor) Dia...      51   \n2            5  How can I increase the speed of my internet co...      73   \n3            7  Why am I mentally very lonely? How can I solve...      50   \n4            9  Which one dissolve in water quikly sugar, salt...      76   \n...        ...                                                ...     ...   \n803494  789793  How many keywords are there in PERL Programmin...      79   \n803495  789795         Is it true that there is life after death?      42   \n803496  789797                                  What's this coin?      17   \n803497  789799  I am having little hairfall problem but I want...     127   \n803498  789801      What is it like to have sex with your cousin?      45   \n\n        word_count  \n0               14  \n1                8  \n2               14  \n3               11  \n4               13  \n...            ...  \n803494          13  \n803495           9  \n803496           3  \n803497          25  \n803498          10  \n\n[773003 rows x 4 columns]",
      "text/html": "<div>\n<style scoped>\n    .dataframe tbody tr th:only-of-type {\n        vertical-align: middle;\n    }\n\n    .dataframe tbody tr th {\n        vertical-align: top;\n    }\n\n    .dataframe thead th {\n        text-align: right;\n    }\n</style>\n<table border=\"1\" class=\"dataframe\">\n  <thead>\n    <tr style=\"text-align: right;\">\n      <th></th>\n      <th>qid</th>\n      <th>question</th>\n      <th>length</th>\n      <th>word_count</th>\n    </tr>\n  </thead>\n  <tbody>\n    <tr>\n      <th>0</th>\n      <td>1</td>\n      <td>What is the step by step guide to invest in sh...</td>\n      <td>66</td>\n      <td>14</td>\n    </tr>\n    <tr>\n      <th>1</th>\n      <td>3</td>\n      <td>What is the story of Kohinoor (Koh-i-Noor) Dia...</td>\n      <td>51</td>\n      <td>8</td>\n    </tr>\n    <tr>\n      <th>2</th>\n      <td>5</td>\n      <td>How can I increase the speed of my internet co...</td>\n      <td>73</td>\n      <td>14</td>\n    </tr>\n    <tr>\n      <th>3</th>\n      <td>7</td>\n      <td>Why am I mentally very lonely? How can I solve...</td>\n      <td>50</td>\n      <td>11</td>\n    </tr>\n    <tr>\n      <th>4</th>\n      <td>9</td>\n      <td>Which one dissolve in water quikly sugar, salt...</td>\n      <td>76</td>\n      <td>13</td>\n    </tr>\n    <tr>\n      <th>...</th>\n      <td>...</td>\n      <td>...</td>\n      <td>...</td>\n      <td>...</td>\n    </tr>\n    <tr>\n      <th>803494</th>\n      <td>789793</td>\n      <td>How many keywords are there in PERL Programmin...</td>\n      <td>79</td>\n      <td>13</td>\n    </tr>\n    <tr>\n      <th>803495</th>\n      <td>789795</td>\n      <td>Is it true that there is life after death?</td>\n      <td>42</td>\n      <td>9</td>\n    </tr>\n    <tr>\n      <th>803496</th>\n      <td>789797</td>\n      <td>What's this coin?</td>\n      <td>17</td>\n      <td>3</td>\n    </tr>\n    <tr>\n      <th>803497</th>\n      <td>789799</td>\n      <td>I am having little hairfall problem but I want...</td>\n      <td>127</td>\n      <td>25</td>\n    </tr>\n    <tr>\n      <th>803498</th>\n      <td>789801</td>\n      <td>What is it like to have sex with your cousin?</td>\n      <td>45</td>\n      <td>10</td>\n    </tr>\n  </tbody>\n</table>\n<p>773003 rows × 4 columns</p>\n</div>"
     },
     "execution_count": 5,
     "metadata": {},
     "output_type": "execute_result"
    }
   ],
   "source": [
    "clean_df"
   ],
   "metadata": {
    "collapsed": false,
    "ExecuteTime": {
     "end_time": "2023-05-29T13:23:45.797010800Z",
     "start_time": "2023-05-29T13:23:45.775068500Z"
    }
   }
  },
  {
   "cell_type": "code",
   "execution_count": 6,
   "outputs": [],
   "source": [
    "# Selecting only the 'qid' and 'question' columns from the clean DataFrame.\n",
    "clean_df=clean_df[[\"qid\",\"question\"]]"
   ],
   "metadata": {
    "collapsed": false,
    "ExecuteTime": {
     "end_time": "2023-05-29T13:23:45.910147100Z",
     "start_time": "2023-05-29T13:23:45.798012Z"
    }
   }
  },
  {
   "cell_type": "code",
   "execution_count": 7,
   "outputs": [],
   "source": [
    "# Saving the clean_df DataFrame to 'clean_question' CSV file.\n",
    "clean_df.to_csv(\"../../data/raw_data/clean_questions.csv\", index=False)"
   ],
   "metadata": {
    "collapsed": false,
    "ExecuteTime": {
     "end_time": "2023-05-29T13:23:47.403786300Z",
     "start_time": "2023-05-29T13:23:45.837286800Z"
    }
   }
  },
  {
   "cell_type": "code",
   "execution_count": 8,
   "outputs": [
    {
     "name": "stdout",
     "output_type": "stream",
     "text": [
      "Percentage of kept Data (Questions) :\n",
      "96.20460013018062 %\n"
     ]
    }
   ],
   "source": [
    "print(\"Percentage of kept Data (Questions) :\")\n",
    "print(len(clean_df)/len(questions)*100,\"%\")"
   ],
   "metadata": {
    "collapsed": false,
    "ExecuteTime": {
     "end_time": "2023-05-29T13:23:47.410674500Z",
     "start_time": "2023-05-29T13:23:47.405786500Z"
    }
   }
  },
  {
   "cell_type": "markdown",
   "source": [
    "## Data cleaning"
   ],
   "metadata": {
    "collapsed": false
   }
  },
  {
   "cell_type": "code",
   "execution_count": 9,
   "outputs": [],
   "source": [
    "data = pd.read_csv('../../data/raw_data/data.csv')"
   ],
   "metadata": {
    "collapsed": false,
    "ExecuteTime": {
     "end_time": "2023-05-29T13:23:48.498852700Z",
     "start_time": "2023-05-29T13:23:47.410674500Z"
    }
   }
  },
  {
   "cell_type": "code",
   "execution_count": 10,
   "outputs": [
    {
     "data": {
      "text/plain": "            id    qid1    qid2  \\\n0            0       1       2   \n1            1       3       4   \n2            2       5       6   \n3            3       7       8   \n4            4       9      10   \n...        ...     ...     ...   \n404346  404346  789792  789793   \n404347  404347  789794  789795   \n404348  404348  789796  789797   \n404349  404349  789798  789799   \n404350  404350  789800  789801   \n\n                                                question1  \\\n0       What is the step by step guide to invest in sh...   \n1       What is the story of Kohinoor (Koh-i-Noor) Dia...   \n2       How can I increase the speed of my internet co...   \n3       Why am I mentally very lonely? How can I solve...   \n4       Which one dissolve in water quikly sugar, salt...   \n...                                                   ...   \n404346  How many keywords are there in the Racket prog...   \n404347          Do you believe there is life after death?   \n404348                                  What is one coin?   \n404349  What is the approx annual cost of living while...   \n404350              What is like to have sex with cousin?   \n\n                                                question2  is_duplicate  \n0       What is the step by step guide to invest in sh...             0  \n1       What would happen if the Indian government sto...             0  \n2       How can Internet speed be increased by hacking...             0  \n3       Find the remainder when [math]23^{24}[/math] i...             0  \n4                 Which fish would survive in salt water?             0  \n...                                                   ...           ...  \n404346  How many keywords are there in PERL Programmin...             0  \n404347         Is it true that there is life after death?             1  \n404348                                  What's this coin?             0  \n404349  I am having little hairfall problem but I want...             0  \n404350      What is it like to have sex with your cousin?             0  \n\n[404351 rows x 6 columns]",
      "text/html": "<div>\n<style scoped>\n    .dataframe tbody tr th:only-of-type {\n        vertical-align: middle;\n    }\n\n    .dataframe tbody tr th {\n        vertical-align: top;\n    }\n\n    .dataframe thead th {\n        text-align: right;\n    }\n</style>\n<table border=\"1\" class=\"dataframe\">\n  <thead>\n    <tr style=\"text-align: right;\">\n      <th></th>\n      <th>id</th>\n      <th>qid1</th>\n      <th>qid2</th>\n      <th>question1</th>\n      <th>question2</th>\n      <th>is_duplicate</th>\n    </tr>\n  </thead>\n  <tbody>\n    <tr>\n      <th>0</th>\n      <td>0</td>\n      <td>1</td>\n      <td>2</td>\n      <td>What is the step by step guide to invest in sh...</td>\n      <td>What is the step by step guide to invest in sh...</td>\n      <td>0</td>\n    </tr>\n    <tr>\n      <th>1</th>\n      <td>1</td>\n      <td>3</td>\n      <td>4</td>\n      <td>What is the story of Kohinoor (Koh-i-Noor) Dia...</td>\n      <td>What would happen if the Indian government sto...</td>\n      <td>0</td>\n    </tr>\n    <tr>\n      <th>2</th>\n      <td>2</td>\n      <td>5</td>\n      <td>6</td>\n      <td>How can I increase the speed of my internet co...</td>\n      <td>How can Internet speed be increased by hacking...</td>\n      <td>0</td>\n    </tr>\n    <tr>\n      <th>3</th>\n      <td>3</td>\n      <td>7</td>\n      <td>8</td>\n      <td>Why am I mentally very lonely? How can I solve...</td>\n      <td>Find the remainder when [math]23^{24}[/math] i...</td>\n      <td>0</td>\n    </tr>\n    <tr>\n      <th>4</th>\n      <td>4</td>\n      <td>9</td>\n      <td>10</td>\n      <td>Which one dissolve in water quikly sugar, salt...</td>\n      <td>Which fish would survive in salt water?</td>\n      <td>0</td>\n    </tr>\n    <tr>\n      <th>...</th>\n      <td>...</td>\n      <td>...</td>\n      <td>...</td>\n      <td>...</td>\n      <td>...</td>\n      <td>...</td>\n    </tr>\n    <tr>\n      <th>404346</th>\n      <td>404346</td>\n      <td>789792</td>\n      <td>789793</td>\n      <td>How many keywords are there in the Racket prog...</td>\n      <td>How many keywords are there in PERL Programmin...</td>\n      <td>0</td>\n    </tr>\n    <tr>\n      <th>404347</th>\n      <td>404347</td>\n      <td>789794</td>\n      <td>789795</td>\n      <td>Do you believe there is life after death?</td>\n      <td>Is it true that there is life after death?</td>\n      <td>1</td>\n    </tr>\n    <tr>\n      <th>404348</th>\n      <td>404348</td>\n      <td>789796</td>\n      <td>789797</td>\n      <td>What is one coin?</td>\n      <td>What's this coin?</td>\n      <td>0</td>\n    </tr>\n    <tr>\n      <th>404349</th>\n      <td>404349</td>\n      <td>789798</td>\n      <td>789799</td>\n      <td>What is the approx annual cost of living while...</td>\n      <td>I am having little hairfall problem but I want...</td>\n      <td>0</td>\n    </tr>\n    <tr>\n      <th>404350</th>\n      <td>404350</td>\n      <td>789800</td>\n      <td>789801</td>\n      <td>What is like to have sex with cousin?</td>\n      <td>What is it like to have sex with your cousin?</td>\n      <td>0</td>\n    </tr>\n  </tbody>\n</table>\n<p>404351 rows × 6 columns</p>\n</div>"
     },
     "execution_count": 10,
     "metadata": {},
     "output_type": "execute_result"
    }
   ],
   "source": [
    "data"
   ],
   "metadata": {
    "collapsed": false,
    "ExecuteTime": {
     "end_time": "2023-05-29T13:23:48.510548600Z",
     "start_time": "2023-05-29T13:23:48.499841200Z"
    }
   }
  },
  {
   "cell_type": "markdown",
   "source": [],
   "metadata": {
    "collapsed": false
   }
  },
  {
   "cell_type": "code",
   "execution_count": 11,
   "outputs": [],
   "source": [
    "# Remove any rows where qid1 or qid2 do not exist in qid_question_df\n",
    "clean_data = data[data['qid1'].isin(clean_df['qid'])]\n",
    "clean_data = clean_data[clean_data['qid2'].isin(clean_df['qid'])]"
   ],
   "metadata": {
    "collapsed": false,
    "ExecuteTime": {
     "end_time": "2023-05-29T13:23:48.672050900Z",
     "start_time": "2023-05-29T13:23:48.510548600Z"
    }
   }
  },
  {
   "cell_type": "code",
   "execution_count": 12,
   "outputs": [
    {
     "data": {
      "text/plain": "            id    qid1    qid2  \\\n0            0       1       2   \n1            1       3       4   \n2            2       5       6   \n3            3       7       8   \n4            4       9      10   \n...        ...     ...     ...   \n404346  404346  789792  789793   \n404347  404347  789794  789795   \n404348  404348  789796  789797   \n404349  404349  789798  789799   \n404350  404350  789800  789801   \n\n                                                question1  \\\n0       What is the step by step guide to invest in sh...   \n1       What is the story of Kohinoor (Koh-i-Noor) Dia...   \n2       How can I increase the speed of my internet co...   \n3       Why am I mentally very lonely? How can I solve...   \n4       Which one dissolve in water quikly sugar, salt...   \n...                                                   ...   \n404346  How many keywords are there in the Racket prog...   \n404347          Do you believe there is life after death?   \n404348                                  What is one coin?   \n404349  What is the approx annual cost of living while...   \n404350              What is like to have sex with cousin?   \n\n                                                question2  is_duplicate  \n0       What is the step by step guide to invest in sh...             0  \n1       What would happen if the Indian government sto...             0  \n2       How can Internet speed be increased by hacking...             0  \n3       Find the remainder when [math]23^{24}[/math] i...             0  \n4                 Which fish would survive in salt water?             0  \n...                                                   ...           ...  \n404346  How many keywords are there in PERL Programmin...             0  \n404347         Is it true that there is life after death?             1  \n404348                                  What's this coin?             0  \n404349  I am having little hairfall problem but I want...             0  \n404350      What is it like to have sex with your cousin?             0  \n\n[370394 rows x 6 columns]",
      "text/html": "<div>\n<style scoped>\n    .dataframe tbody tr th:only-of-type {\n        vertical-align: middle;\n    }\n\n    .dataframe tbody tr th {\n        vertical-align: top;\n    }\n\n    .dataframe thead th {\n        text-align: right;\n    }\n</style>\n<table border=\"1\" class=\"dataframe\">\n  <thead>\n    <tr style=\"text-align: right;\">\n      <th></th>\n      <th>id</th>\n      <th>qid1</th>\n      <th>qid2</th>\n      <th>question1</th>\n      <th>question2</th>\n      <th>is_duplicate</th>\n    </tr>\n  </thead>\n  <tbody>\n    <tr>\n      <th>0</th>\n      <td>0</td>\n      <td>1</td>\n      <td>2</td>\n      <td>What is the step by step guide to invest in sh...</td>\n      <td>What is the step by step guide to invest in sh...</td>\n      <td>0</td>\n    </tr>\n    <tr>\n      <th>1</th>\n      <td>1</td>\n      <td>3</td>\n      <td>4</td>\n      <td>What is the story of Kohinoor (Koh-i-Noor) Dia...</td>\n      <td>What would happen if the Indian government sto...</td>\n      <td>0</td>\n    </tr>\n    <tr>\n      <th>2</th>\n      <td>2</td>\n      <td>5</td>\n      <td>6</td>\n      <td>How can I increase the speed of my internet co...</td>\n      <td>How can Internet speed be increased by hacking...</td>\n      <td>0</td>\n    </tr>\n    <tr>\n      <th>3</th>\n      <td>3</td>\n      <td>7</td>\n      <td>8</td>\n      <td>Why am I mentally very lonely? How can I solve...</td>\n      <td>Find the remainder when [math]23^{24}[/math] i...</td>\n      <td>0</td>\n    </tr>\n    <tr>\n      <th>4</th>\n      <td>4</td>\n      <td>9</td>\n      <td>10</td>\n      <td>Which one dissolve in water quikly sugar, salt...</td>\n      <td>Which fish would survive in salt water?</td>\n      <td>0</td>\n    </tr>\n    <tr>\n      <th>...</th>\n      <td>...</td>\n      <td>...</td>\n      <td>...</td>\n      <td>...</td>\n      <td>...</td>\n      <td>...</td>\n    </tr>\n    <tr>\n      <th>404346</th>\n      <td>404346</td>\n      <td>789792</td>\n      <td>789793</td>\n      <td>How many keywords are there in the Racket prog...</td>\n      <td>How many keywords are there in PERL Programmin...</td>\n      <td>0</td>\n    </tr>\n    <tr>\n      <th>404347</th>\n      <td>404347</td>\n      <td>789794</td>\n      <td>789795</td>\n      <td>Do you believe there is life after death?</td>\n      <td>Is it true that there is life after death?</td>\n      <td>1</td>\n    </tr>\n    <tr>\n      <th>404348</th>\n      <td>404348</td>\n      <td>789796</td>\n      <td>789797</td>\n      <td>What is one coin?</td>\n      <td>What's this coin?</td>\n      <td>0</td>\n    </tr>\n    <tr>\n      <th>404349</th>\n      <td>404349</td>\n      <td>789798</td>\n      <td>789799</td>\n      <td>What is the approx annual cost of living while...</td>\n      <td>I am having little hairfall problem but I want...</td>\n      <td>0</td>\n    </tr>\n    <tr>\n      <th>404350</th>\n      <td>404350</td>\n      <td>789800</td>\n      <td>789801</td>\n      <td>What is like to have sex with cousin?</td>\n      <td>What is it like to have sex with your cousin?</td>\n      <td>0</td>\n    </tr>\n  </tbody>\n</table>\n<p>370394 rows × 6 columns</p>\n</div>"
     },
     "execution_count": 12,
     "metadata": {},
     "output_type": "execute_result"
    }
   ],
   "source": [
    "clean_data"
   ],
   "metadata": {
    "collapsed": false,
    "ExecuteTime": {
     "end_time": "2023-05-29T13:23:48.673051800Z",
     "start_time": "2023-05-29T13:23:48.627220900Z"
    }
   }
  },
  {
   "cell_type": "code",
   "execution_count": 13,
   "outputs": [],
   "source": [
    "clean_data.to_csv(\"../../data/raw_data/clean_data.csv\",index=False)"
   ],
   "metadata": {
    "collapsed": false,
    "ExecuteTime": {
     "end_time": "2023-05-29T13:23:50.006254300Z",
     "start_time": "2023-05-29T13:23:48.638601900Z"
    }
   }
  },
  {
   "cell_type": "code",
   "execution_count": 14,
   "outputs": [
    {
     "name": "stdout",
     "output_type": "stream",
     "text": [
      "Percentage of kept Data :\n",
      "91.60209817707883 %\n"
     ]
    }
   ],
   "source": [
    "print(\"Percentage of kept Data :\")\n",
    "print(len(clean_data)/len(data)*100,\"%\")"
   ],
   "metadata": {
    "collapsed": false,
    "ExecuteTime": {
     "end_time": "2023-05-29T13:23:50.010251500Z",
     "start_time": "2023-05-29T13:23:50.007252Z"
    }
   }
  }
 ],
 "metadata": {
  "kernelspec": {
   "display_name": "Python 3",
   "language": "python",
   "name": "python3"
  },
  "language_info": {
   "codemirror_mode": {
    "name": "ipython",
    "version": 2
   },
   "file_extension": ".py",
   "mimetype": "text/x-python",
   "name": "python",
   "nbconvert_exporter": "python",
   "pygments_lexer": "ipython2",
   "version": "2.7.6"
  }
 },
 "nbformat": 4,
 "nbformat_minor": 0
}
