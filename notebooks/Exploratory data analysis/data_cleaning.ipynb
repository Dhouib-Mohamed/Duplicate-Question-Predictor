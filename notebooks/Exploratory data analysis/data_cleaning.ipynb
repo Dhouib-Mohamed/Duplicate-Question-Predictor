{
 "cells": [
  {
   "cell_type": "markdown",
   "source": [
    "## Necessary Imports"
   ],
   "metadata": {
    "collapsed": false
   }
  },
  {
   "cell_type": "code",
   "execution_count": 86,
   "outputs": [
    {
     "data": {
      "text/plain": "<module 'src.visualization' from 'D:\\\\Study\\\\GL3\\\\ppp\\\\src\\\\visualization.py'>"
     },
     "execution_count": 86,
     "metadata": {},
     "output_type": "execute_result"
    }
   ],
   "source": [
    "import pandas as pd"
   ],
   "metadata": {
    "collapsed": false
   }
  },
  {
   "cell_type": "markdown",
   "source": [
    "## Data Limits"
   ],
   "metadata": {
    "collapsed": false
   }
  },
  {
   "cell_type": "code",
   "execution_count": 87,
   "outputs": [],
   "source": [
    "MAX_QUESTION_LENGTH = 200\n",
    "MAX_QUESTION_WORDS = 40"
   ],
   "metadata": {
    "collapsed": false
   }
  },
  {
   "cell_type": "markdown",
   "source": [
    "## Questions Cleaning"
   ],
   "metadata": {
    "collapsed": false
   }
  },
  {
   "cell_type": "code",
   "execution_count": 88,
   "outputs": [],
   "source": [
    "questions = pd.read_csv(\"../../data/raw_data/questions.csv\")"
   ],
   "metadata": {
    "collapsed": false
   }
  },
  {
   "cell_type": "code",
   "execution_count": 89,
   "outputs": [],
   "source": [
    "clean_df = questions.drop(questions[questions.length > MAX_QUESTION_LENGTH].index)\n",
    "clean_df = clean_df.drop(clean_df[clean_df.word_count > MAX_QUESTION_WORDS].index)"
   ],
   "metadata": {
    "collapsed": false
   }
  },
  {
   "cell_type": "code",
   "execution_count": 90,
   "outputs": [
    {
     "name": "stdout",
     "output_type": "stream",
     "text": [
      "        Unnamed: 0     qid                                           question  \\\n",
      "0                0       1  What is the step by step guide to invest in sh...   \n",
      "1                1       3  What is the story of Kohinoor (Koh-i-Noor) Dia...   \n",
      "2                2       5  How can I increase the speed of my internet co...   \n",
      "3                3       7  Why am I mentally very lonely? How can I solve...   \n",
      "4                4       9  Which one dissolve in water quikly sugar, salt...   \n",
      "...            ...     ...                                                ...   \n",
      "803494      803494  789793  How many keywords are there in PERL Programmin...   \n",
      "803495      803495  789795         Is it true that there is life after death?   \n",
      "803496      803496  789797                                  What's this coin?   \n",
      "803497      803497  789799  I am having little hairfall problem but I want...   \n",
      "803498      803498  789801      What is it like to have sex with your cousin?   \n",
      "\n",
      "        length  word_count  \n",
      "0           66          14  \n",
      "1           51           8  \n",
      "2           73          14  \n",
      "3           50          11  \n",
      "4           76          13  \n",
      "...        ...         ...  \n",
      "803494      79          13  \n",
      "803495      42           9  \n",
      "803496      17           3  \n",
      "803497     127          25  \n",
      "803498      45          10  \n",
      "\n",
      "[800205 rows x 5 columns]\n"
     ]
    }
   ],
   "source": [
    "print(clean_df)"
   ],
   "metadata": {
    "collapsed": false
   }
  },
  {
   "cell_type": "code",
   "execution_count": 91,
   "outputs": [],
   "source": [
    "clean_df.to_csv(\"../../data/raw_data/clean_questions.csv\")"
   ],
   "metadata": {
    "collapsed": false
   }
  },
  {
   "cell_type": "code",
   "execution_count": 92,
   "outputs": [
    {
     "name": "stdout",
     "output_type": "stream",
     "text": [
      "Percentage of kept Data (Questions) :\n",
      "99.5900430492135 %\n"
     ]
    }
   ],
   "source": [
    "print(\"Percentage of kept Data (Questions) :\")\n",
    "print(len(clean_df)/len(questions)*100,\"%\")"
   ],
   "metadata": {
    "collapsed": false
   }
  },
  {
   "cell_type": "markdown",
   "source": [
    "## Data cleaning"
   ],
   "metadata": {
    "collapsed": false
   }
  },
  {
   "cell_type": "code",
   "execution_count": 93,
   "outputs": [],
   "source": [
    "data = pd.read_csv('../../data/raw_data/data.csv')\n",
    "data.fillna('', inplace=True)\n",
    "data.question1 = data.question1.astype(str)\n",
    "data.question2 = data.question2.astype(str)"
   ],
   "metadata": {
    "collapsed": false
   }
  },
  {
   "cell_type": "code",
   "execution_count": 94,
   "outputs": [],
   "source": [
    "data['length1'] = data['question1'].apply(lambda x: len(x))\n",
    "data['word_count1'] = data['question1'].apply(lambda x: len(x.split()))\n",
    "data['length2'] = data['question2'].apply(lambda x: len(x))\n",
    "data['word_count2'] = data['question2'].apply(lambda x: len(x.split()))"
   ],
   "metadata": {
    "collapsed": false
   }
  },
  {
   "cell_type": "code",
   "execution_count": 95,
   "outputs": [
    {
     "name": "stdout",
     "output_type": "stream",
     "text": [
      "            id    qid1    qid2  \\\n",
      "0            0       1       2   \n",
      "1            1       3       4   \n",
      "2            2       5       6   \n",
      "3            3       7       8   \n",
      "4            4       9      10   \n",
      "...        ...     ...     ...   \n",
      "404346  404346  789792  789793   \n",
      "404347  404347  789794  789795   \n",
      "404348  404348  789796  789797   \n",
      "404349  404349  789798  789799   \n",
      "404350  404350  789800  789801   \n",
      "\n",
      "                                                question1  \\\n",
      "0       What is the step by step guide to invest in sh...   \n",
      "1       What is the story of Kohinoor (Koh-i-Noor) Dia...   \n",
      "2       How can I increase the speed of my internet co...   \n",
      "3       Why am I mentally very lonely? How can I solve...   \n",
      "4       Which one dissolve in water quikly sugar, salt...   \n",
      "...                                                   ...   \n",
      "404346  How many keywords are there in the Racket prog...   \n",
      "404347          Do you believe there is life after death?   \n",
      "404348                                  What is one coin?   \n",
      "404349  What is the approx annual cost of living while...   \n",
      "404350              What is like to have sex with cousin?   \n",
      "\n",
      "                                                question2  is_duplicate  \\\n",
      "0       What is the step by step guide to invest in sh...             0   \n",
      "1       What would happen if the Indian government sto...             0   \n",
      "2       How can Internet speed be increased by hacking...             0   \n",
      "3       Find the remainder when [math]23^{24}[/math] i...             0   \n",
      "4                 Which fish would survive in salt water?             0   \n",
      "...                                                   ...           ...   \n",
      "404346  How many keywords are there in PERL Programmin...             0   \n",
      "404347         Is it true that there is life after death?             1   \n",
      "404348                                  What's this coin?             0   \n",
      "404349  I am having little hairfall problem but I want...             0   \n",
      "404350      What is it like to have sex with your cousin?             0   \n",
      "\n",
      "        length1  word_count1  length2  word_count2  \n",
      "0            66           14       57           12  \n",
      "1            51            8       88           13  \n",
      "2            73           14       59           10  \n",
      "3            50           11       65            9  \n",
      "4            76           13       39            7  \n",
      "...         ...          ...      ...          ...  \n",
      "404346       85           14       79           13  \n",
      "404347       41            8       42            9  \n",
      "404348       17            4       17            3  \n",
      "404349       94           17      127           25  \n",
      "404350       37            8       45           10  \n",
      "\n",
      "[404351 rows x 10 columns]\n"
     ]
    }
   ],
   "source": [
    "print(data)"
   ],
   "metadata": {
    "collapsed": false
   }
  },
  {
   "cell_type": "code",
   "execution_count": 96,
   "outputs": [],
   "source": [
    "clean_data = data.drop(data[data.length1>MAX_QUESTION_LENGTH].index)\n",
    "clean_data = clean_data.drop(clean_data[clean_data.length2 > MAX_QUESTION_LENGTH].index)\n",
    "clean_data = clean_data.drop(clean_data[clean_data.word_count2>MAX_QUESTION_WORDS].index)\n",
    "clean_data = clean_data.drop(clean_data[clean_data.word_count1>MAX_QUESTION_WORDS].index)"
   ],
   "metadata": {
    "collapsed": false
   }
  },
  {
   "cell_type": "code",
   "execution_count": 97,
   "outputs": [
    {
     "name": "stdout",
     "output_type": "stream",
     "text": [
      "            id    qid1    qid2  \\\n",
      "0            0       1       2   \n",
      "1            1       3       4   \n",
      "2            2       5       6   \n",
      "3            3       7       8   \n",
      "4            4       9      10   \n",
      "...        ...     ...     ...   \n",
      "404346  404346  789792  789793   \n",
      "404347  404347  789794  789795   \n",
      "404348  404348  789796  789797   \n",
      "404349  404349  789798  789799   \n",
      "404350  404350  789800  789801   \n",
      "\n",
      "                                                question1  \\\n",
      "0       What is the step by step guide to invest in sh...   \n",
      "1       What is the story of Kohinoor (Koh-i-Noor) Dia...   \n",
      "2       How can I increase the speed of my internet co...   \n",
      "3       Why am I mentally very lonely? How can I solve...   \n",
      "4       Which one dissolve in water quikly sugar, salt...   \n",
      "...                                                   ...   \n",
      "404346  How many keywords are there in the Racket prog...   \n",
      "404347          Do you believe there is life after death?   \n",
      "404348                                  What is one coin?   \n",
      "404349  What is the approx annual cost of living while...   \n",
      "404350              What is like to have sex with cousin?   \n",
      "\n",
      "                                                question2  is_duplicate  \\\n",
      "0       What is the step by step guide to invest in sh...             0   \n",
      "1       What would happen if the Indian government sto...             0   \n",
      "2       How can Internet speed be increased by hacking...             0   \n",
      "3       Find the remainder when [math]23^{24}[/math] i...             0   \n",
      "4                 Which fish would survive in salt water?             0   \n",
      "...                                                   ...           ...   \n",
      "404346  How many keywords are there in PERL Programmin...             0   \n",
      "404347         Is it true that there is life after death?             1   \n",
      "404348                                  What's this coin?             0   \n",
      "404349  I am having little hairfall problem but I want...             0   \n",
      "404350      What is it like to have sex with your cousin?             0   \n",
      "\n",
      "        length1  word_count1  length2  word_count2  \n",
      "0            66           14       57           12  \n",
      "1            51            8       88           13  \n",
      "2            73           14       59           10  \n",
      "3            50           11       65            9  \n",
      "4            76           13       39            7  \n",
      "...         ...          ...      ...          ...  \n",
      "404346       85           14       79           13  \n",
      "404347       41            8       42            9  \n",
      "404348       17            4       17            3  \n",
      "404349       94           17      127           25  \n",
      "404350       37            8       45           10  \n",
      "\n",
      "[401156 rows x 10 columns]\n"
     ]
    }
   ],
   "source": [
    "print(clean_data)"
   ],
   "metadata": {
    "collapsed": false
   }
  },
  {
   "cell_type": "code",
   "execution_count": 98,
   "outputs": [],
   "source": [
    "clean_data.to_csv(\"../../data/raw_data/clean_data.csv\")"
   ],
   "metadata": {
    "collapsed": false
   }
  },
  {
   "cell_type": "code",
   "execution_count": 99,
   "outputs": [
    {
     "name": "stdout",
     "output_type": "stream",
     "text": [
      "Percentage of kept Data :\n",
      "99.20984491197005 %\n"
     ]
    }
   ],
   "source": [
    "print(\"Percentage of kept Data :\")\n",
    "print(len(clean_data)/len(data)*100,\"%\")"
   ],
   "metadata": {
    "collapsed": false
   }
  }
 ],
 "metadata": {
  "kernelspec": {
   "display_name": "Python 3",
   "language": "python",
   "name": "python3"
  },
  "language_info": {
   "codemirror_mode": {
    "name": "ipython",
    "version": 2
   },
   "file_extension": ".py",
   "mimetype": "text/x-python",
   "name": "python",
   "nbconvert_exporter": "python",
   "pygments_lexer": "ipython2",
   "version": "2.7.6"
  }
 },
 "nbformat": 4,
 "nbformat_minor": 0
}
