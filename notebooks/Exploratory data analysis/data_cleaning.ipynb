{
 "cells": [
  {
   "cell_type": "markdown",
   "source": [
    "## Necessary Imports"
   ],
   "metadata": {
    "collapsed": false
   }
  },
  {
   "cell_type": "code",
   "execution_count": 1,
   "outputs": [
    {
     "data": {
      "text/plain": "<module 'src.utils' from 'D:\\\\Study\\\\GL3\\\\ppp\\\\src\\\\utils.py'>"
     },
     "execution_count": 1,
     "metadata": {},
     "output_type": "execute_result"
    }
   ],
   "source": [
    "import pandas as pd\n",
    "import src.utils as utils\n",
    "import importlib\n",
    "importlib.reload(utils)"
   ],
   "metadata": {
    "collapsed": false
   }
  },
  {
   "cell_type": "markdown",
   "source": [
    "## Data Limits"
   ],
   "metadata": {
    "collapsed": false
   }
  },
  {
   "cell_type": "code",
   "execution_count": 2,
   "outputs": [],
   "source": [
    "MAX_QUESTION_LENGTH = 200\n",
    "MAX_QUESTION_WORDS = 40"
   ],
   "metadata": {
    "collapsed": false
   }
  },
  {
   "cell_type": "markdown",
   "source": [
    "## Questions Cleaning"
   ],
   "metadata": {
    "collapsed": false
   }
  },
  {
   "cell_type": "code",
   "execution_count": 3,
   "outputs": [],
   "source": [
    "questions = pd.read_csv(\"../../data/raw_data/questions.csv\")"
   ],
   "metadata": {
    "collapsed": false
   }
  },
  {
   "cell_type": "code",
   "execution_count": 4,
   "outputs": [],
   "source": [
    "clean_df = questions.drop(questions[questions.length > MAX_QUESTION_LENGTH].index)\n",
    "clean_df = clean_df.drop(clean_df[clean_df.word_count > MAX_QUESTION_WORDS].index)\n",
    "\n",
    "clean_df = clean_df.drop_duplicates(subset='qid', keep=False)"
   ],
   "metadata": {
    "collapsed": false
   }
  },
  {
   "cell_type": "code",
   "execution_count": 5,
   "outputs": [
    {
     "name": "stdout",
     "output_type": "stream",
     "text": [
      "           qid                                           question  length  \\\n",
      "0            1  What is the step by step guide to invest in sh...      66   \n",
      "1            3  What is the story of Kohinoor (Koh-i-Noor) Dia...      51   \n",
      "2            5  How can I increase the speed of my internet co...      73   \n",
      "3            7  Why am I mentally very lonely? How can I solve...      50   \n",
      "4            9  Which one dissolve in water quikly sugar, salt...      76   \n",
      "...        ...                                                ...     ...   \n",
      "803494  789793  How many keywords are there in PERL Programmin...      79   \n",
      "803495  789795         Is it true that there is life after death?      42   \n",
      "803496  789797                                  What's this coin?      17   \n",
      "803497  789799  I am having little hairfall problem but I want...     127   \n",
      "803498  789801      What is it like to have sex with your cousin?      45   \n",
      "\n",
      "        word_count  \n",
      "0               14  \n",
      "1                8  \n",
      "2               14  \n",
      "3               11  \n",
      "4               13  \n",
      "...            ...  \n",
      "803494          13  \n",
      "803495           9  \n",
      "803496           3  \n",
      "803497          25  \n",
      "803498          10  \n",
      "\n",
      "[773003 rows x 4 columns]\n"
     ]
    }
   ],
   "source": [
    "print(clean_df)"
   ],
   "metadata": {
    "collapsed": false
   }
  },
  {
   "cell_type": "code",
   "execution_count": 6,
   "outputs": [],
   "source": [
    "clean_df.to_csv(\"../../data/raw_data/clean_questions.csv\", index=False)"
   ],
   "metadata": {
    "collapsed": false
   }
  },
  {
   "cell_type": "code",
   "execution_count": 7,
   "outputs": [
    {
     "name": "stdout",
     "output_type": "stream",
     "text": [
      "Percentage of kept Data (Questions) :\n",
      "96.20460013018062 %\n"
     ]
    }
   ],
   "source": [
    "print(\"Percentage of kept Data (Questions) :\")\n",
    "print(len(clean_df)/len(questions)*100,\"%\")"
   ],
   "metadata": {
    "collapsed": false
   }
  },
  {
   "cell_type": "markdown",
   "source": [
    "## Data cleaning"
   ],
   "metadata": {
    "collapsed": false
   }
  },
  {
   "cell_type": "code",
   "execution_count": 8,
   "outputs": [
    {
     "name": "stdout",
     "output_type": "stream",
     "text": [
      "            id    qid1    qid2  \\\n",
      "0            0       1       2   \n",
      "1            1       3       4   \n",
      "2            2       5       6   \n",
      "3            3       7       8   \n",
      "4            4       9      10   \n",
      "...        ...     ...     ...   \n",
      "404346  404346  789792  789793   \n",
      "404347  404347  789794  789795   \n",
      "404348  404348  789796  789797   \n",
      "404349  404349  789798  789799   \n",
      "404350  404350  789800  789801   \n",
      "\n",
      "                                                question1  \\\n",
      "0       What is the step by step guide to invest in sh...   \n",
      "1       What is the story of Kohinoor (Koh-i-Noor) Dia...   \n",
      "2       How can I increase the speed of my internet co...   \n",
      "3       Why am I mentally very lonely? How can I solve...   \n",
      "4       Which one dissolve in water quikly sugar, salt...   \n",
      "...                                                   ...   \n",
      "404346  How many keywords are there in the Racket prog...   \n",
      "404347          Do you believe there is life after death?   \n",
      "404348                                  What is one coin?   \n",
      "404349  What is the approx annual cost of living while...   \n",
      "404350              What is like to have sex with cousin?   \n",
      "\n",
      "                                                question2  is_duplicate  \n",
      "0       What is the step by step guide to invest in sh...             0  \n",
      "1       What would happen if the Indian government sto...             0  \n",
      "2       How can Internet speed be increased by hacking...             0  \n",
      "3       Find the remainder when [math]23^{24}[/math] i...             0  \n",
      "4                 Which fish would survive in salt water?             0  \n",
      "...                                                   ...           ...  \n",
      "404346  How many keywords are there in PERL Programmin...             0  \n",
      "404347         Is it true that there is life after death?             1  \n",
      "404348                                  What's this coin?             0  \n",
      "404349  I am having little hairfall problem but I want...             0  \n",
      "404350      What is it like to have sex with your cousin?             0  \n",
      "\n",
      "[404351 rows x 6 columns]\n"
     ]
    }
   ],
   "source": [
    "data = pd.read_csv('../../data/raw_data/data.csv')\n",
    "print(data)"
   ],
   "metadata": {
    "collapsed": false
   }
  },
  {
   "cell_type": "code",
   "execution_count": 9,
   "outputs": [
    {
     "name": "stdout",
     "output_type": "stream",
     "text": [
      "0         True\n",
      "1         True\n",
      "2         True\n",
      "3         True\n",
      "4         True\n",
      "          ... \n",
      "404346    True\n",
      "404347    True\n",
      "404348    True\n",
      "404349    True\n",
      "404350    True\n",
      "Name: qid1, Length: 404351, dtype: bool\n",
      "            id    qid1    qid2  \\\n",
      "0            0       1       2   \n",
      "1            1       3       4   \n",
      "2            2       5       6   \n",
      "3            3       7       8   \n",
      "4            4       9      10   \n",
      "...        ...     ...     ...   \n",
      "404346  404346  789792  789793   \n",
      "404347  404347  789794  789795   \n",
      "404348  404348  789796  789797   \n",
      "404349  404349  789798  789799   \n",
      "404350  404350  789800  789801   \n",
      "\n",
      "                                                question1  \\\n",
      "0       What is the step by step guide to invest in sh...   \n",
      "1       What is the story of Kohinoor (Koh-i-Noor) Dia...   \n",
      "2       How can I increase the speed of my internet co...   \n",
      "3       Why am I mentally very lonely? How can I solve...   \n",
      "4       Which one dissolve in water quikly sugar, salt...   \n",
      "...                                                   ...   \n",
      "404346  How many keywords are there in the Racket prog...   \n",
      "404347          Do you believe there is life after death?   \n",
      "404348                                  What is one coin?   \n",
      "404349  What is the approx annual cost of living while...   \n",
      "404350              What is like to have sex with cousin?   \n",
      "\n",
      "                                                question2  is_duplicate  \n",
      "0       What is the step by step guide to invest in sh...             0  \n",
      "1       What would happen if the Indian government sto...             0  \n",
      "2       How can Internet speed be increased by hacking...             0  \n",
      "3       Find the remainder when [math]23^{24}[/math] i...             0  \n",
      "4                 Which fish would survive in salt water?             0  \n",
      "...                                                   ...           ...  \n",
      "404346  How many keywords are there in PERL Programmin...             0  \n",
      "404347         Is it true that there is life after death?             1  \n",
      "404348                                  What's this coin?             0  \n",
      "404349  I am having little hairfall problem but I want...             0  \n",
      "404350      What is it like to have sex with your cousin?             0  \n",
      "\n",
      "[370394 rows x 6 columns]\n"
     ]
    }
   ],
   "source": [
    "# Remove any rows where qid1 or qid2 do not exist in qid_question_df\n",
    "print(data['qid1'].isin(clean_df['qid']))\n",
    "clean_data = data[data['qid1'].isin(clean_df['qid'])]\n",
    "clean_data = clean_data[clean_data['qid2'].isin(clean_df['qid'])]\n",
    "print(clean_data)"
   ],
   "metadata": {
    "collapsed": false
   }
  },
  {
   "cell_type": "code",
   "execution_count": 10,
   "outputs": [],
   "source": [
    "clean_data.to_csv(\"../../data/raw_data/clean_data.csv\",index=False)"
   ],
   "metadata": {
    "collapsed": false
   }
  },
  {
   "cell_type": "code",
   "execution_count": 11,
   "outputs": [
    {
     "name": "stdout",
     "output_type": "stream",
     "text": [
      "Percentage of kept Data :\n",
      "91.60209817707883 %\n"
     ]
    }
   ],
   "source": [
    "print(\"Percentage of kept Data :\")\n",
    "print(len(clean_data)/len(data)*100,\"%\")"
   ],
   "metadata": {
    "collapsed": false
   }
  }
 ],
 "metadata": {
  "kernelspec": {
   "display_name": "Python 3",
   "language": "python",
   "name": "python3"
  },
  "language_info": {
   "codemirror_mode": {
    "name": "ipython",
    "version": 2
   },
   "file_extension": ".py",
   "mimetype": "text/x-python",
   "name": "python",
   "nbconvert_exporter": "python",
   "pygments_lexer": "ipython2",
   "version": "2.7.6"
  }
 },
 "nbformat": 4,
 "nbformat_minor": 0
}
