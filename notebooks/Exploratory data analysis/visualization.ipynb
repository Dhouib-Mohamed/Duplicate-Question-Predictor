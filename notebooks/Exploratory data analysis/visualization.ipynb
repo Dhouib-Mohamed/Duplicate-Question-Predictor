{
 "cells": [
  {
   "cell_type": "markdown",
   "source": [
    "## Necessary Imports\n"
   ],
   "metadata": {
    "collapsed": false
   }
  },
  {
   "cell_type": "code",
   "execution_count": 16,
   "outputs": [
    {
     "data": {
      "text/plain": "<module 'src.visualization' from 'C:\\\\Users\\\\katko\\\\Documents\\\\GL3\\\\sem2\\\\PPP\\\\Duplicate-Question-Predictor\\\\src\\\\visualization.py'>"
     },
     "execution_count": 16,
     "metadata": {},
     "output_type": "execute_result"
    }
   ],
   "source": [
    "import pandas as pd\n",
    "import numpy as np\n",
    "from matplotlib import pyplot as plt\n",
    "import src.visualization as vis\n",
    "import importlib\n",
    "importlib.reload(vis)"
   ],
   "metadata": {
    "collapsed": false,
    "ExecuteTime": {
     "start_time": "2023-05-29T10:19:03.118291Z",
     "end_time": "2023-05-29T10:19:03.181844Z"
    }
   }
  },
  {
   "cell_type": "code",
   "execution_count": 17,
   "outputs": [],
   "source": [
    "data = pd.read_csv('../../data/raw_data/clean_data.csv')"
   ],
   "metadata": {
    "collapsed": false,
    "ExecuteTime": {
     "start_time": "2023-05-29T10:19:03.134864Z",
     "end_time": "2023-05-29T10:19:04.182488Z"
    }
   }
  },
  {
   "cell_type": "code",
   "execution_count": 18,
   "outputs": [
    {
     "data": {
      "text/plain": "            id    qid1    qid2  \\\n0            0       1       2   \n1            1       3       4   \n2            2       5       6   \n3            3       7       8   \n4            4       9      10   \n...        ...     ...     ...   \n370389  404346  789792  789793   \n370390  404347  789794  789795   \n370391  404348  789796  789797   \n370392  404349  789798  789799   \n370393  404350  789800  789801   \n\n                                                question1  \\\n0       What is the step by step guide to invest in sh...   \n1       What is the story of Kohinoor (Koh-i-Noor) Dia...   \n2       How can I increase the speed of my internet co...   \n3       Why am I mentally very lonely? How can I solve...   \n4       Which one dissolve in water quikly sugar, salt...   \n...                                                   ...   \n370389  How many keywords are there in the Racket prog...   \n370390          Do you believe there is life after death?   \n370391                                  What is one coin?   \n370392  What is the approx annual cost of living while...   \n370393              What is like to have sex with cousin?   \n\n                                                question2  is_duplicate  \n0       What is the step by step guide to invest in sh...             0  \n1       What would happen if the Indian government sto...             0  \n2       How can Internet speed be increased by hacking...             0  \n3       Find the remainder when [math]23^{24}[/math] i...             0  \n4                 Which fish would survive in salt water?             0  \n...                                                   ...           ...  \n370389  How many keywords are there in PERL Programmin...             0  \n370390         Is it true that there is life after death?             1  \n370391                                  What's this coin?             0  \n370392  I am having little hairfall problem but I want...             0  \n370393      What is it like to have sex with your cousin?             0  \n\n[370394 rows x 6 columns]",
      "text/html": "<div>\n<style scoped>\n    .dataframe tbody tr th:only-of-type {\n        vertical-align: middle;\n    }\n\n    .dataframe tbody tr th {\n        vertical-align: top;\n    }\n\n    .dataframe thead th {\n        text-align: right;\n    }\n</style>\n<table border=\"1\" class=\"dataframe\">\n  <thead>\n    <tr style=\"text-align: right;\">\n      <th></th>\n      <th>id</th>\n      <th>qid1</th>\n      <th>qid2</th>\n      <th>question1</th>\n      <th>question2</th>\n      <th>is_duplicate</th>\n    </tr>\n  </thead>\n  <tbody>\n    <tr>\n      <th>0</th>\n      <td>0</td>\n      <td>1</td>\n      <td>2</td>\n      <td>What is the step by step guide to invest in sh...</td>\n      <td>What is the step by step guide to invest in sh...</td>\n      <td>0</td>\n    </tr>\n    <tr>\n      <th>1</th>\n      <td>1</td>\n      <td>3</td>\n      <td>4</td>\n      <td>What is the story of Kohinoor (Koh-i-Noor) Dia...</td>\n      <td>What would happen if the Indian government sto...</td>\n      <td>0</td>\n    </tr>\n    <tr>\n      <th>2</th>\n      <td>2</td>\n      <td>5</td>\n      <td>6</td>\n      <td>How can I increase the speed of my internet co...</td>\n      <td>How can Internet speed be increased by hacking...</td>\n      <td>0</td>\n    </tr>\n    <tr>\n      <th>3</th>\n      <td>3</td>\n      <td>7</td>\n      <td>8</td>\n      <td>Why am I mentally very lonely? How can I solve...</td>\n      <td>Find the remainder when [math]23^{24}[/math] i...</td>\n      <td>0</td>\n    </tr>\n    <tr>\n      <th>4</th>\n      <td>4</td>\n      <td>9</td>\n      <td>10</td>\n      <td>Which one dissolve in water quikly sugar, salt...</td>\n      <td>Which fish would survive in salt water?</td>\n      <td>0</td>\n    </tr>\n    <tr>\n      <th>...</th>\n      <td>...</td>\n      <td>...</td>\n      <td>...</td>\n      <td>...</td>\n      <td>...</td>\n      <td>...</td>\n    </tr>\n    <tr>\n      <th>370389</th>\n      <td>404346</td>\n      <td>789792</td>\n      <td>789793</td>\n      <td>How many keywords are there in the Racket prog...</td>\n      <td>How many keywords are there in PERL Programmin...</td>\n      <td>0</td>\n    </tr>\n    <tr>\n      <th>370390</th>\n      <td>404347</td>\n      <td>789794</td>\n      <td>789795</td>\n      <td>Do you believe there is life after death?</td>\n      <td>Is it true that there is life after death?</td>\n      <td>1</td>\n    </tr>\n    <tr>\n      <th>370391</th>\n      <td>404348</td>\n      <td>789796</td>\n      <td>789797</td>\n      <td>What is one coin?</td>\n      <td>What's this coin?</td>\n      <td>0</td>\n    </tr>\n    <tr>\n      <th>370392</th>\n      <td>404349</td>\n      <td>789798</td>\n      <td>789799</td>\n      <td>What is the approx annual cost of living while...</td>\n      <td>I am having little hairfall problem but I want...</td>\n      <td>0</td>\n    </tr>\n    <tr>\n      <th>370393</th>\n      <td>404350</td>\n      <td>789800</td>\n      <td>789801</td>\n      <td>What is like to have sex with cousin?</td>\n      <td>What is it like to have sex with your cousin?</td>\n      <td>0</td>\n    </tr>\n  </tbody>\n</table>\n<p>370394 rows × 6 columns</p>\n</div>"
     },
     "execution_count": 18,
     "metadata": {},
     "output_type": "execute_result"
    }
   ],
   "source": [
    "data"
   ],
   "metadata": {
    "collapsed": false,
    "ExecuteTime": {
     "start_time": "2023-05-29T10:19:04.182488Z",
     "end_time": "2023-05-29T10:19:04.196490Z"
    }
   }
  },
  {
   "cell_type": "code",
   "execution_count": 19,
   "outputs": [
    {
     "data": {
      "text/plain": "                  id           qid1           qid2   is_duplicate\ncount  370394.000000  370394.000000  370394.000000  370394.000000\nmean   202064.104178  397431.429375  397421.700030       0.378375\nstd    116415.916778  227402.898592  227401.088845       0.484983\nmin         0.000000       1.000000       2.000000       0.000000\n25%    101384.250000  201145.500000  201132.500000       0.000000\n50%    201933.500000  398437.000000  398426.000000       0.000000\n75%    302688.750000  594394.500000  594379.500000       1.000000\nmax    404350.000000  789800.000000  789801.000000       1.000000",
      "text/html": "<div>\n<style scoped>\n    .dataframe tbody tr th:only-of-type {\n        vertical-align: middle;\n    }\n\n    .dataframe tbody tr th {\n        vertical-align: top;\n    }\n\n    .dataframe thead th {\n        text-align: right;\n    }\n</style>\n<table border=\"1\" class=\"dataframe\">\n  <thead>\n    <tr style=\"text-align: right;\">\n      <th></th>\n      <th>id</th>\n      <th>qid1</th>\n      <th>qid2</th>\n      <th>is_duplicate</th>\n    </tr>\n  </thead>\n  <tbody>\n    <tr>\n      <th>count</th>\n      <td>370394.000000</td>\n      <td>370394.000000</td>\n      <td>370394.000000</td>\n      <td>370394.000000</td>\n    </tr>\n    <tr>\n      <th>mean</th>\n      <td>202064.104178</td>\n      <td>397431.429375</td>\n      <td>397421.700030</td>\n      <td>0.378375</td>\n    </tr>\n    <tr>\n      <th>std</th>\n      <td>116415.916778</td>\n      <td>227402.898592</td>\n      <td>227401.088845</td>\n      <td>0.484983</td>\n    </tr>\n    <tr>\n      <th>min</th>\n      <td>0.000000</td>\n      <td>1.000000</td>\n      <td>2.000000</td>\n      <td>0.000000</td>\n    </tr>\n    <tr>\n      <th>25%</th>\n      <td>101384.250000</td>\n      <td>201145.500000</td>\n      <td>201132.500000</td>\n      <td>0.000000</td>\n    </tr>\n    <tr>\n      <th>50%</th>\n      <td>201933.500000</td>\n      <td>398437.000000</td>\n      <td>398426.000000</td>\n      <td>0.000000</td>\n    </tr>\n    <tr>\n      <th>75%</th>\n      <td>302688.750000</td>\n      <td>594394.500000</td>\n      <td>594379.500000</td>\n      <td>1.000000</td>\n    </tr>\n    <tr>\n      <th>max</th>\n      <td>404350.000000</td>\n      <td>789800.000000</td>\n      <td>789801.000000</td>\n      <td>1.000000</td>\n    </tr>\n  </tbody>\n</table>\n</div>"
     },
     "execution_count": 19,
     "metadata": {},
     "output_type": "execute_result"
    }
   ],
   "source": [
    "data.describe()"
   ],
   "metadata": {
    "collapsed": false,
    "ExecuteTime": {
     "start_time": "2023-05-29T10:19:04.200488Z",
     "end_time": "2023-05-29T10:19:04.307125Z"
    }
   }
  },
  {
   "cell_type": "code",
   "execution_count": 20,
   "outputs": [],
   "source": [
    "sample = data.sample(100)"
   ],
   "metadata": {
    "collapsed": false,
    "ExecuteTime": {
     "start_time": "2023-05-29T10:19:04.265480Z",
     "end_time": "2023-05-29T10:19:04.308198Z"
    }
   }
  },
  {
   "cell_type": "code",
   "execution_count": 21,
   "outputs": [
    {
     "data": {
      "text/plain": "            id    qid1    qid2  \\\n173928  189711  374555  374556   \n254163  276871  544371  544372   \n302159  329419  646033  646034   \n4079      4624    9244    9245   \n147755  161157  318628  318629   \n37921    41927   83506   83507   \n87637    95961  190488  190489   \n243213  264806  520999  521000   \n110702  121171  240125  240126   \n268435  292476  574602  574603   \n\n                                                question1  \\\n173928     How is the word 'temerity' used in a sentence?   \n254163                      What is the financial market?   \n302159                                    What is agenda?   \n4079                 How can our life become interesting?   \n147755  Why is Sachin Tendulkar still a legend of cric...   \n37921   Could The President pardon himself if he commi...   \n87637   Currently we don't have any plan to raise reve...   \n243213  Is it legal to question or criticize the actio...   \n110702  Why does my ex girlfriend call me whenever she...   \n268435  What are some amazing bike inventions that exi...   \n\n                                                question2  is_duplicate  \n173928     How is the word 'bludgeon' used in a sentence?             0  \n254163                        What are financial markets?             1  \n302159                               What is your agenda?             0  \n4079    When living alone, how can I make life more in...             1  \n147755          Is Sachin Tendulkar the Messi of cricket?             0  \n37921   Can a US president pardon himself on his last ...             1  \n87637   I wanted to start up a business and I am looki...             0  \n243213  Do Indian filmmaker have right /freedom to mak...             0  \n110702  Is it ok for my ex asking me to have a new gir...             0  \n268435  What are some mind blowing bike tools that mos...             1  ",
      "text/html": "<div>\n<style scoped>\n    .dataframe tbody tr th:only-of-type {\n        vertical-align: middle;\n    }\n\n    .dataframe tbody tr th {\n        vertical-align: top;\n    }\n\n    .dataframe thead th {\n        text-align: right;\n    }\n</style>\n<table border=\"1\" class=\"dataframe\">\n  <thead>\n    <tr style=\"text-align: right;\">\n      <th></th>\n      <th>id</th>\n      <th>qid1</th>\n      <th>qid2</th>\n      <th>question1</th>\n      <th>question2</th>\n      <th>is_duplicate</th>\n    </tr>\n  </thead>\n  <tbody>\n    <tr>\n      <th>173928</th>\n      <td>189711</td>\n      <td>374555</td>\n      <td>374556</td>\n      <td>How is the word 'temerity' used in a sentence?</td>\n      <td>How is the word 'bludgeon' used in a sentence?</td>\n      <td>0</td>\n    </tr>\n    <tr>\n      <th>254163</th>\n      <td>276871</td>\n      <td>544371</td>\n      <td>544372</td>\n      <td>What is the financial market?</td>\n      <td>What are financial markets?</td>\n      <td>1</td>\n    </tr>\n    <tr>\n      <th>302159</th>\n      <td>329419</td>\n      <td>646033</td>\n      <td>646034</td>\n      <td>What is agenda?</td>\n      <td>What is your agenda?</td>\n      <td>0</td>\n    </tr>\n    <tr>\n      <th>4079</th>\n      <td>4624</td>\n      <td>9244</td>\n      <td>9245</td>\n      <td>How can our life become interesting?</td>\n      <td>When living alone, how can I make life more in...</td>\n      <td>1</td>\n    </tr>\n    <tr>\n      <th>147755</th>\n      <td>161157</td>\n      <td>318628</td>\n      <td>318629</td>\n      <td>Why is Sachin Tendulkar still a legend of cric...</td>\n      <td>Is Sachin Tendulkar the Messi of cricket?</td>\n      <td>0</td>\n    </tr>\n    <tr>\n      <th>37921</th>\n      <td>41927</td>\n      <td>83506</td>\n      <td>83507</td>\n      <td>Could The President pardon himself if he commi...</td>\n      <td>Can a US president pardon himself on his last ...</td>\n      <td>1</td>\n    </tr>\n    <tr>\n      <th>87637</th>\n      <td>95961</td>\n      <td>190488</td>\n      <td>190489</td>\n      <td>Currently we don't have any plan to raise reve...</td>\n      <td>I wanted to start up a business and I am looki...</td>\n      <td>0</td>\n    </tr>\n    <tr>\n      <th>243213</th>\n      <td>264806</td>\n      <td>520999</td>\n      <td>521000</td>\n      <td>Is it legal to question or criticize the actio...</td>\n      <td>Do Indian filmmaker have right /freedom to mak...</td>\n      <td>0</td>\n    </tr>\n    <tr>\n      <th>110702</th>\n      <td>121171</td>\n      <td>240125</td>\n      <td>240126</td>\n      <td>Why does my ex girlfriend call me whenever she...</td>\n      <td>Is it ok for my ex asking me to have a new gir...</td>\n      <td>0</td>\n    </tr>\n    <tr>\n      <th>268435</th>\n      <td>292476</td>\n      <td>574602</td>\n      <td>574603</td>\n      <td>What are some amazing bike inventions that exi...</td>\n      <td>What are some mind blowing bike tools that mos...</td>\n      <td>1</td>\n    </tr>\n  </tbody>\n</table>\n</div>"
     },
     "execution_count": 21,
     "metadata": {},
     "output_type": "execute_result"
    }
   ],
   "source": [
    "sample.head(10)"
   ],
   "metadata": {
    "collapsed": false,
    "ExecuteTime": {
     "start_time": "2023-05-29T10:19:04.291955Z",
     "end_time": "2023-05-29T10:19:04.310306Z"
    }
   }
  },
  {
   "cell_type": "code",
   "execution_count": 22,
   "outputs": [
    {
     "name": "stdout",
     "output_type": "stream",
     "text": [
      "Duplicate pairs on training set: 37.84%\n",
      "Number of distinct questions: 740705\n",
      "Number of questions that appear multiple times: 76\n"
     ]
    },
    {
     "data": {
      "text/plain": "Text(0, 0.5, 'Number of questions')"
     },
     "execution_count": 22,
     "metadata": {},
     "output_type": "execute_result"
    },
    {
     "data": {
      "text/plain": "<Figure size 1200x600 with 1 Axes>",
      "image/png": "[encoded data removed]"
     },
     "metadata": {},
     "output_type": "display_data"
    }
   ],
   "source": [
    "## Print some basic statistics\n",
    "print('Duplicate pairs on training set: {}%'.format(round(data['is_duplicate'].mean()*100, 2)))\n",
    "\n",
    "## count occurrences of identified questions on training set\n",
    "qids = pd.Series(data[data['qid1'].notnull()]['qid1'].tolist() + data[data['qid2'].notnull()]['qid2'].tolist())\n",
    "print('Number of distinct questions: {}'.format(len(np.unique(qids))))\n",
    "print('Number of questions that appear multiple times: {}'.format(np.sum(qids.value_counts() > 1)))"
   ],
   "metadata": {
    "collapsed": false,
    "ExecuteTime": {
     "start_time": "2023-05-29T10:19:04.315305Z",
     "end_time": "2023-05-29T10:19:05.562405Z"
    }
   }
  },
  {
   "cell_type": "code",
   "execution_count": null,
   "outputs": [],
   "source": [
    "# Plotting question occurrence distribution on a logarithmic scale\n",
    "plt.figure(figsize=(12, 6))\n",
    "plt.hist(qids.value_counts(), bins=50)\n",
    "plt.yscale('log')\n",
    "\n",
    "plt.xlabel('Questions occurrence distribution (logarithmic scale)')\n",
    "plt.ylabel('Number of questions')"
   ],
   "metadata": {
    "collapsed": false
   }
  },
  {
   "cell_type": "code",
   "execution_count": 23,
   "outputs": [],
   "source": [
    "result = sample['is_duplicate']"
   ],
   "metadata": {
    "collapsed": false,
    "ExecuteTime": {
     "start_time": "2023-05-29T10:19:05.562405Z",
     "end_time": "2023-05-29T10:19:05.578439Z"
    }
   }
  },
  {
   "cell_type": "code",
   "execution_count": 24,
   "outputs": [
    {
     "data": {
      "text/plain": "<Figure size 640x480 with 1 Axes>",
      "image/png": "[encoded data removed]"
     },
     "metadata": {},
     "output_type": "display_data"
    }
   ],
   "source": [
    "# Plotting Histogram of Duplicate Questions Frequency\n",
    "fig, ax = plt.subplots()\n",
    "ax.hist(result, bins=[-0.5, 0.5, 1.5], rwidth=0.8)\n",
    "ax.set_xlabel('id')\n",
    "ax.set_ylabel('is duplicate')\n",
    "ax.set_title(r'Histogram of duplicate questions frequency')\n",
    "fig.tight_layout()\n",
    "\n",
    "\n",
    "plt.show()"
   ],
   "metadata": {
    "collapsed": false,
    "ExecuteTime": {
     "start_time": "2023-05-29T10:19:05.580942Z",
     "end_time": "2023-05-29T10:19:05.829677Z"
    }
   }
  },
  {
   "cell_type": "code",
   "execution_count": 25,
   "outputs": [],
   "source": [
    " #vis.scatterMatrix(data[[\"is_duplicate\"]])"
   ],
   "metadata": {
    "collapsed": false,
    "ExecuteTime": {
     "start_time": "2023-05-29T10:19:05.833678Z",
     "end_time": "2023-05-29T10:19:05.916654Z"
    }
   }
  },
  {
   "cell_type": "code",
   "execution_count": 26,
   "outputs": [],
   "source": [
    "# vis.correlationMatrix(data[[\"is_duplicate\",\"length1\",\"word_count1\"]])"
   ],
   "metadata": {
    "collapsed": false,
    "ExecuteTime": {
     "start_time": "2023-05-29T10:19:05.849978Z",
     "end_time": "2023-05-29T10:19:05.917666Z"
    }
   }
  },
  {
   "cell_type": "code",
   "execution_count": 27,
   "outputs": [],
   "source": [
    " #vis.scatterMatrix(data[[\"is_duplicate\",\"length2\",\"word_count2\"]])"
   ],
   "metadata": {
    "collapsed": false,
    "ExecuteTime": {
     "start_time": "2023-05-29T10:19:05.864390Z",
     "end_time": "2023-05-29T10:19:05.917666Z"
    }
   }
  },
  {
   "cell_type": "code",
   "execution_count": 28,
   "outputs": [],
   "source": [
    " #vis.correlationMatrix(data[[\"is_duplicate\",\"length2\",\"word_count2\"]])"
   ],
   "metadata": {
    "collapsed": false,
    "ExecuteTime": {
     "start_time": "2023-05-29T10:19:05.880453Z",
     "end_time": "2023-05-29T10:19:05.917666Z"
    }
   }
  }
 ],
 "metadata": {
  "kernelspec": {
   "display_name": "Python 3",
   "language": "python",
   "name": "python3"
  },
  "language_info": {
   "codemirror_mode": {
    "name": "ipython",
    "version": 2
   },
   "file_extension": ".py",
   "mimetype": "text/x-python",
   "name": "python",
   "nbconvert_exporter": "python",
   "pygments_lexer": "ipython2",
   "version": "2.7.6"
  }
 },
 "nbformat": 4,
 "nbformat_minor": 0
}
