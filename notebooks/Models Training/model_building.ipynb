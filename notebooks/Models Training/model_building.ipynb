{
 "cells": [
  {
   "cell_type": "code",
   "execution_count": 68,
   "metadata": {
    "ExecuteTime": {
     "end_time": "2023-05-18T14:03:17.519609400Z",
     "start_time": "2023-05-18T14:03:17.502368700Z"
    }
   },
   "outputs": [],
   "source": [
    "import numpy as np\n",
    "import pandas as pd\n",
    "import src.model as model\n",
    "import importlib\n",
    "importlib.reload(model)\n",
    "from keras.callbacks import EarlyStopping\n",
    "from keras.utils import pad_sequences"
   ]
  },
  {
   "cell_type": "code",
   "execution_count": 69,
   "metadata": {
    "ExecuteTime": {
     "end_time": "2023-05-18T14:03:20.122164600Z",
     "start_time": "2023-05-18T14:03:17.502368700Z"
    }
   },
   "outputs": [],
   "source": [
    "X_train = pd.read_csv(\"../../data/divided_data/X_train.csv\")\n",
    "y_train = pd.read_csv(\"../../data/divided_data/y_train.csv\")"
   ]
  },
  {
   "cell_type": "code",
   "execution_count": 70,
   "metadata": {
    "ExecuteTime": {
     "end_time": "2023-05-18T14:03:44.604843700Z",
     "start_time": "2023-05-18T14:03:20.119190900Z"
    }
   },
   "outputs": [
    {
     "name": "stderr",
     "output_type": "stream",
     "text": [
      "C:\\Users\\dhoui\\AppData\\Local\\Temp\\ipykernel_7396\\4213003449.py:1: DeprecationWarning: string or file could not be read to its end due to unmatched data; this will raise a ValueError in the future.\n",
      "  X_train_q1 = [np.fromstring(xi[1:-1], sep=',') for xi in X_train[\"vector1\"]]\n",
      "C:\\Users\\dhoui\\AppData\\Local\\Temp\\ipykernel_7396\\4213003449.py:2: DeprecationWarning: string or file could not be read to its end due to unmatched data; this will raise a ValueError in the future.\n",
      "  X_train_q2 = [np.fromstring(xi[1:-1], sep=',') for xi in X_train[\"vector2\"]]\n"
     ]
    }
   ],
   "source": [
    "X_train_q1 = [np.fromstring(xi[1:-1], sep=',') for xi in X_train[\"vector1\"]]\n",
    "X_train_q2 = [np.fromstring(xi[1:-1], sep=',') for xi in X_train[\"vector2\"]]\n",
    "\n",
    "X_train_q1 = np.array(X_train_q1)  # questions 1 in the training set\n",
    "X_train_q2 = np.array(X_train_q2)  # questions 2 in the training set\n",
    "y_train = np.array(y_train)  # labels in the training set"
   ]
  },
  {
   "cell_type": "code",
   "execution_count": null,
   "outputs": [],
   "source": [
    "X_train_q1"
   ],
   "metadata": {
    "collapsed": false
   }
  },
  {
   "cell_type": "code",
   "execution_count": 71,
   "metadata": {
    "ExecuteTime": {
     "end_time": "2023-05-18T14:03:44.613055900Z",
     "start_time": "2023-05-18T14:03:44.609168800Z"
    }
   },
   "outputs": [],
   "source": [
    "# Define the hyperparameters\n",
    "vocab_size = 800\n",
    "embedding_dim = 100\n",
    "input_length = 20\n",
    "batch_size = 32\n",
    "epochs = 10"
   ]
  },
  {
   "cell_type": "code",
   "execution_count": 72,
   "metadata": {
    "ExecuteTime": {
     "end_time": "2023-05-18T14:03:46.416829800Z",
     "start_time": "2023-05-18T14:03:44.617741600Z"
    }
   },
   "outputs": [],
   "source": [
    "X_train_q1 = np.array([np.array(xi) for xi in X_train_q1]).astype(float)\n",
    "X_train_q2 = np.array([np.array(xi) for xi in X_train_q2]).astype(float)\n",
    "\n",
    "# Pad the sequences if necessary\n",
    "X_train_q1 = pad_sequences(X_train_q1, maxlen=input_length)\n",
    "X_train_q2 = pad_sequences(X_train_q2, maxlen=input_length)"
   ]
  },
  {
   "cell_type": "code",
   "execution_count": 73,
   "metadata": {
    "ExecuteTime": {
     "end_time": "2023-05-18T14:03:46.741656400Z",
     "start_time": "2023-05-18T14:03:46.416829800Z"
    }
   },
   "outputs": [
    {
     "name": "stderr",
     "output_type": "stream",
     "text": [
      "D:\\Study\\GL3\\ppp\\venv\\Lib\\site-packages\\keras\\optimizers\\legacy\\adam.py:117: UserWarning: The `lr` argument is deprecated, use `learning_rate` instead.\n",
      "  super().__init__(name, **kwargs)\n"
     ]
    }
   ],
   "source": [
    "# Create the model\n",
    "model = model.create_model(vocab_size, embedding_dim, input_length)\n"
   ]
  },
  {
   "cell_type": "code",
   "execution_count": null,
   "metadata": {
    "is_executing": true,
    "ExecuteTime": {
     "start_time": "2023-05-18T14:03:46.743657300Z"
    }
   },
   "outputs": [
    {
     "name": "stdout",
     "output_type": "stream",
     "text": [
      "Epoch 1/10\n",
      "8334/8334 [==============================] - 1363s 163ms/step - loss: 0.6640 - accuracy: 0.6219 - val_loss: 0.6654 - val_accuracy: 0.6172\n",
      "Epoch 2/10\n",
      "5158/8334 [=================>............] - ETA: 6:20 - loss: 0.6633 - accuracy: 0.6221"
     ]
    }
   ],
   "source": [
    "# Train the model\n",
    "early_stopping = EarlyStopping(monitor='val_loss', patience=3)\n",
    "model.fit([X_train_q1, X_train_q2], y_train, batch_size=batch_size, epochs=epochs, validation_split=0.1, callbacks=[early_stopping])"
   ]
  },
  {
   "cell_type": "code",
   "execution_count": null,
   "metadata": {
    "is_executing": true
   },
   "outputs": [],
   "source": [
    "model.save('../../models/v1')"
   ]
  }
 ],
 "metadata": {
  "kernelspec": {
   "display_name": "Python 3 (ipykernel)",
   "language": "python",
   "name": "python3"
  },
  "language_info": {
   "codemirror_mode": {
    "name": "ipython",
    "version": 3
   },
   "file_extension": ".py",
   "mimetype": "text/x-python",
   "name": "python",
   "nbconvert_exporter": "python",
   "pygments_lexer": "ipython3",
   "version": "3.11.0"
  }
 },
 "nbformat": 4,
 "nbformat_minor": 1
}
