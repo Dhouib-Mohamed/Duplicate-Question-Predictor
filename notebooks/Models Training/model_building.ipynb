{
 "cells": [
  {
   "cell_type": "code",
   "execution_count": 1,
   "metadata": {
    "ExecuteTime": {
     "end_time": "2023-05-29T08:12:28.260833Z",
     "start_time": "2023-05-29T08:12:11.547131700Z"
    }
   },
   "outputs": [],
   "source": [
    "import numpy as np\n",
    "import pandas as pd\n",
    "import src.model as src\n",
    "import importlib\n",
    "importlib.reload(src)\n",
    "from keras.callbacks import EarlyStopping\n"
   ]
  },
  {
   "cell_type": "code",
   "execution_count": 2,
   "metadata": {
    "ExecuteTime": {
     "end_time": "2023-05-29T08:12:32.970854Z",
     "start_time": "2023-05-29T08:12:28.268304100Z"
    }
   },
   "outputs": [],
   "source": [
    "X_train = pd.read_csv(\"../../data/divided_data/X_train.csv\")\n",
    "y_train = pd.read_csv(\"../../data/divided_data/y_train.csv\")"
   ]
  },
  {
   "cell_type": "code",
   "execution_count": 3,
   "outputs": [
    {
     "name": "stdout",
     "output_type": "stream",
     "text": [
      "                                                  vector1  \\\n",
      "0       [ 6.14202917e-01 -2.34225750e-01 -6.88262880e-...   \n",
      "1       [ 0.5726436  -0.12896787 -0.07562831  0.130815...   \n",
      "2       [ 0.6896031  -0.21627904 -0.02317645 -0.027837...   \n",
      "3       [ 0.38297617  0.02572222 -0.09443692  0.032585...   \n",
      "4       [ 0.6351652  -0.16474296 -0.09796747 -0.083826...   \n",
      "...                                                   ...   \n",
      "296310  [ 4.21642482e-01  3.07514872e-02 -2.59085298e-...   \n",
      "296311  [ 0.49333185 -0.22713228 -0.17936246  0.004336...   \n",
      "296312  [ 0.59676594 -0.3512352  -0.14624433  0.194801...   \n",
      "296313  [ 0.52553236 -0.11666374 -0.10720924  0.083432...   \n",
      "296314  [ 0.5700605  -0.30663523 -0.19293034 -0.060268...   \n",
      "\n",
      "                                                  vector2  \n",
      "0       [ 0.57969886 -0.19749537 -0.10020567  0.104509...  \n",
      "1       [ 0.51346433 -0.02330346 -0.23285413  0.047035...  \n",
      "2       [ 0.61131954 -0.1667005  -0.13740794  0.134842...  \n",
      "3       [ 0.31357956 -0.02730501 -0.0944742   0.123215...  \n",
      "4       [ 0.48773342 -0.27058932 -0.06435695  0.097406...  \n",
      "...                                                   ...  \n",
      "296310  [ 4.6884936e-01  6.6801696e-03 -1.4411123e-01 ...  \n",
      "296311  [ 0.4988616  -0.21193726 -0.13294373  0.077286...  \n",
      "296312  [ 0.64489335 -0.3194382  -0.0947566   0.086700...  \n",
      "296313  [ 0.54128706 -0.16259171 -0.15809204  0.104815...  \n",
      "296314  [ 0.5906674  -0.15515673 -0.03456703  0.083244...  \n",
      "\n",
      "[296315 rows x 2 columns]\n"
     ]
    }
   ],
   "source": [
    "print(X_train)"
   ],
   "metadata": {
    "collapsed": false,
    "ExecuteTime": {
     "end_time": "2023-05-29T08:12:33.047639400Z",
     "start_time": "2023-05-29T08:12:32.975946400Z"
    }
   }
  },
  {
   "cell_type": "code",
   "execution_count": 4,
   "metadata": {
    "ExecuteTime": {
     "end_time": "2023-05-29T08:12:44.663509500Z",
     "start_time": "2023-05-29T08:12:33.030653700Z"
    }
   },
   "outputs": [],
   "source": [
    "X_train_q1 = [np.array(xi.replace('\\n', '').strip()[1:-1].split(), dtype=np.float32) for xi in X_train[\"vector1\"]]\n",
    "X_train_q2 = [np.array(xi.replace('\\n', '').strip()[1:-1].split(), dtype=np.float32) for xi in X_train[\"vector2\"]]\n",
    "\n",
    "X_train_q1 = np.array(X_train_q1)  # questions 1 in the training set\n",
    "X_train_q2 = np.array(X_train_q2)  # questions 2 in the training set"
   ]
  },
  {
   "cell_type": "code",
   "execution_count": 5,
   "metadata": {
    "ExecuteTime": {
     "end_time": "2023-05-29T08:12:44.739741200Z",
     "start_time": "2023-05-29T08:12:44.672719200Z"
    }
   },
   "outputs": [],
   "source": [
    "# Define the hyperparameters\n",
    "input_length = 25\n",
    "batch_size = 32\n",
    "epochs = 10"
   ]
  },
  {
   "cell_type": "code",
   "execution_count": 6,
   "metadata": {
    "ExecuteTime": {
     "end_time": "2023-05-29T08:12:46.061741Z",
     "start_time": "2023-05-29T08:12:44.736733900Z"
    }
   },
   "outputs": [
    {
     "name": "stderr",
     "output_type": "stream",
     "text": [
      "C:\\Users\\dhoui\\AppData\\Roaming\\Python\\Python310\\site-packages\\keras\\optimizers\\legacy\\adam.py:117: UserWarning: The `lr` argument is deprecated, use `learning_rate` instead.\n",
      "  super().__init__(name, **kwargs)\n"
     ]
    }
   ],
   "source": [
    "# Create the model\n",
    "model = src.create_model(input_length)"
   ]
  },
  {
   "cell_type": "code",
   "execution_count": 7,
   "outputs": [
    {
     "name": "stdout",
     "output_type": "stream",
     "text": [
      "Model: \"model\"\n",
      "__________________________________________________________________________________________________\n",
      " Layer (type)                   Output Shape         Param #     Connected to                     \n",
      "==================================================================================================\n",
      " input_1 (InputLayer)           [(None, 25)]         0           []                               \n",
      "                                                                                                  \n",
      " input_2 (InputLayer)           [(None, 25)]         0           []                               \n",
      "                                                                                                  \n",
      " reshape (Reshape)              (None, 25, 1)        0           ['input_1[0][0]']                \n",
      "                                                                                                  \n",
      " reshape_1 (Reshape)            (None, 25, 1)        0           ['input_2[0][0]']                \n",
      "                                                                                                  \n",
      " lstm (LSTM)                    (None, 25, 256)      264192      ['reshape[0][0]',                \n",
      "                                                                  'reshape_1[0][0]']              \n",
      "                                                                                                  \n",
      " batch_normalization (BatchNorm  (None, 25, 256)     1024        ['lstm[0][0]']                   \n",
      " alization)                                                                                       \n",
      "                                                                                                  \n",
      " batch_normalization_1 (BatchNo  (None, 25, 256)     1024        ['lstm[1][0]']                   \n",
      " rmalization)                                                                                     \n",
      "                                                                                                  \n",
      " dropout (Dropout)              (None, 25, 256)      0           ['batch_normalization[0][0]']    \n",
      "                                                                                                  \n",
      " dropout_1 (Dropout)            (None, 25, 256)      0           ['batch_normalization_1[0][0]']  \n",
      "                                                                                                  \n",
      " concatenate (Concatenate)      (None, 25, 512)      0           ['dropout[0][0]',                \n",
      "                                                                  'dropout_1[0][0]']              \n",
      "                                                                                                  \n",
      " dense (Dense)                  (None, 25, 64)       32832       ['concatenate[0][0]']            \n",
      "                                                                                                  \n",
      " batch_normalization_2 (BatchNo  (None, 25, 64)      256         ['dense[0][0]']                  \n",
      " rmalization)                                                                                     \n",
      "                                                                                                  \n",
      " dropout_2 (Dropout)            (None, 25, 64)       0           ['batch_normalization_2[0][0]']  \n",
      "                                                                                                  \n",
      " dense_1 (Dense)                (None, 25, 64)       4160        ['dropout_2[0][0]']              \n",
      "                                                                                                  \n",
      " batch_normalization_3 (BatchNo  (None, 25, 64)      256         ['dense_1[0][0]']                \n",
      " rmalization)                                                                                     \n",
      "                                                                                                  \n",
      " dropout_3 (Dropout)            (None, 25, 64)       0           ['batch_normalization_3[0][0]']  \n",
      "                                                                                                  \n",
      " dense_2 (Dense)                (None, 25, 64)       4160        ['dropout_3[0][0]']              \n",
      "                                                                                                  \n",
      " batch_normalization_4 (BatchNo  (None, 25, 64)      256         ['dense_2[0][0]']                \n",
      " rmalization)                                                                                     \n",
      "                                                                                                  \n",
      " dropout_4 (Dropout)            (None, 25, 64)       0           ['batch_normalization_4[0][0]']  \n",
      "                                                                                                  \n",
      " dense_3 (Dense)                (None, 25, 1)        65          ['dropout_4[0][0]']              \n",
      "                                                                                                  \n",
      "==================================================================================================\n",
      "Total params: 308,225\n",
      "Trainable params: 306,817\n",
      "Non-trainable params: 1,408\n",
      "__________________________________________________________________________________________________\n"
     ]
    }
   ],
   "source": [
    "model.summary()"
   ],
   "metadata": {
    "collapsed": false,
    "ExecuteTime": {
     "end_time": "2023-05-29T08:12:46.733843300Z",
     "start_time": "2023-05-29T08:12:46.064741600Z"
    }
   }
  },
  {
   "cell_type": "code",
   "execution_count": 8,
   "metadata": {
    "ExecuteTime": {
     "end_time": "2023-05-29T11:39:45.999333700Z",
     "start_time": "2023-05-29T08:12:46.611706900Z"
    }
   },
   "outputs": [
    {
     "name": "stdout",
     "output_type": "stream",
     "text": [
      "Epoch 1/10\n",
      "8334/8334 [==============================] - 1796s 215ms/step - loss: 0.6669 - accuracy: 0.6192 - val_loss: 0.6634 - val_accuracy: 0.6194\n",
      "Epoch 2/10\n",
      "8334/8334 [==============================] - 1189s 143ms/step - loss: 0.6516 - accuracy: 0.6255 - val_loss: 0.6400 - val_accuracy: 0.6320\n",
      "Epoch 3/10\n",
      "8334/8334 [==============================] - 1187s 142ms/step - loss: 0.6406 - accuracy: 0.6306 - val_loss: 0.6342 - val_accuracy: 0.6352\n",
      "Epoch 4/10\n",
      "8334/8334 [==============================] - 1180s 142ms/step - loss: 0.6356 - accuracy: 0.6346 - val_loss: 0.6246 - val_accuracy: 0.6455\n",
      "Epoch 5/10\n",
      "8334/8334 [==============================] - 1191s 143ms/step - loss: 0.6313 - accuracy: 0.6394 - val_loss: 0.6191 - val_accuracy: 0.6504\n",
      "Epoch 6/10\n",
      "8334/8334 [==============================] - 1444s 173ms/step - loss: 0.6285 - accuracy: 0.6424 - val_loss: 0.6157 - val_accuracy: 0.6584\n",
      "Epoch 7/10\n",
      "8334/8334 [==============================] - 1432s 172ms/step - loss: 0.6268 - accuracy: 0.6442 - val_loss: 0.6181 - val_accuracy: 0.6571\n",
      "Epoch 8/10\n",
      "8334/8334 [==============================] - 1411s 169ms/step - loss: 0.6335 - accuracy: 0.6374 - val_loss: 0.6162 - val_accuracy: 0.6552\n",
      "Epoch 9/10\n",
      "8334/8334 [==============================] - 1588s 191ms/step - loss: 0.6320 - accuracy: 0.6387 - val_loss: 0.6311 - val_accuracy: 0.6368\n"
     ]
    },
    {
     "data": {
      "text/plain": "<keras.callbacks.History at 0x2682e58e290>"
     },
     "execution_count": 8,
     "metadata": {},
     "output_type": "execute_result"
    }
   ],
   "source": [
    "# Train the model\n",
    "early_stopping = EarlyStopping(monitor='val_loss', patience=3)\n",
    "model.fit([X_train_q1,X_train_q2], y_train, batch_size=batch_size, epochs=epochs, validation_split=0.1, callbacks=[early_stopping])"
   ]
  },
  {
   "cell_type": "code",
   "execution_count": 9,
   "metadata": {
    "ExecuteTime": {
     "end_time": "2023-05-29T11:40:32.678367900Z",
     "start_time": "2023-05-29T11:39:45.857404300Z"
    }
   },
   "outputs": [
    {
     "name": "stdout",
     "output_type": "stream",
     "text": [
      "INFO:tensorflow:Assets written to: ../../models/v9\\assets\n"
     ]
    }
   ],
   "source": [
    "model.save('../../models/v9')"
   ]
  }
 ],
 "metadata": {
  "kernelspec": {
   "display_name": "Python 3 (ipykernel)",
   "language": "python",
   "name": "python3"
  },
  "language_info": {
   "codemirror_mode": {
    "name": "ipython",
    "version": 3
   },
   "file_extension": ".py",
   "mimetype": "text/x-python",
   "name": "python",
   "nbconvert_exporter": "python",
   "pygments_lexer": "ipython3",
   "version": "3.11.0"
  }
 },
 "nbformat": 4,
 "nbformat_minor": 1
}
