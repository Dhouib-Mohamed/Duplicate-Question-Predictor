{
 "cells": [
  {
   "cell_type": "markdown",
   "source": [
    "## Importing Necessary Libraries\n"
   ],
   "metadata": {
    "collapsed": false
   }
  },
  {
   "cell_type": "code",
   "execution_count": 1,
   "metadata": {
    "ExecuteTime": {
     "end_time": "2023-05-20T21:39:33.410494100Z",
     "start_time": "2023-05-20T21:39:28.839705700Z"
    }
   },
   "outputs": [],
   "source": [
    "import numpy as np\n",
    "import pandas as pd\n",
    "import src.model as src\n",
    "import importlib\n",
    "importlib.reload(src)\n",
    "from keras.callbacks import EarlyStopping\n"
   ]
  },
  {
   "cell_type": "markdown",
   "source": [
    "## Reading All The Data\n"
   ],
   "metadata": {
    "collapsed": false
   }
  },
  {
   "cell_type": "code",
   "execution_count": 2,
   "metadata": {
    "ExecuteTime": {
     "end_time": "2023-05-20T21:39:35.113064200Z",
     "start_time": "2023-05-20T21:39:33.410494100Z"
    }
   },
   "outputs": [],
   "source": [
    "X_train = pd.read_csv(\"../../data/divided_data/X_train.csv\")\n",
    "y_train = pd.read_csv(\"../../data/divided_data/y_train.csv\")"
   ]
  },
  {
   "cell_type": "code",
   "execution_count": 3,
   "outputs": [
    {
     "name": "stdout",
     "output_type": "stream",
     "text": [
      "                                                  vector1  \\\n",
      "0       [ 0.6186545  -0.14922465  0.0115032   0.060874...   \n",
      "1       [ 0.512219   -0.13667145 -0.18382826  0.088746...   \n",
      "2       [ 0.5837594  -0.08340573 -0.15747707  0.063848...   \n",
      "3       [ 0.5820872  -0.17139606 -0.14448653  0.119470...   \n",
      "4       [ 0.57845527 -0.21778315 -0.14641833  0.037643...   \n",
      "...                                                   ...   \n",
      "296310  [ 0.46960285 -0.2549969  -0.07926646  0.156728...   \n",
      "296311  [ 0.5423278  -0.4059272  -0.18075004  0.132303...   \n",
      "296312  [ 0.51851887 -0.12081273 -0.19923072  0.111892...   \n",
      "296313  [ 0.6170338  -0.11453142 -0.23078504 -0.090390...   \n",
      "296314  [ 0.5341872  -0.05035678 -0.16354154  0.015820...   \n",
      "\n",
      "                                                  vector2  \n",
      "0       [ 0.61568725 -0.17768376 -0.01866021  0.065518...  \n",
      "1       [ 0.6728485  -0.1563942  -0.12375326  0.085546...  \n",
      "2       [ 0.55998474 -0.18444021 -0.1731066   0.115803...  \n",
      "3       [ 0.592032   -0.10096671 -0.16430895  0.027924...  \n",
      "4       [ 0.61682224 -0.08173043 -0.12044401 -0.042663...  \n",
      "...                                                   ...  \n",
      "296310  [ 0.5567997  -0.3389409  -0.1384799   0.282391...  \n",
      "296311  [ 0.5313459  -0.31520003 -0.1355003   0.122598...  \n",
      "296312  [ 0.4827246  -0.07431776 -0.21770588  0.090580...  \n",
      "296313  [ 0.63462013 -0.19255933 -0.25449035 -0.019331...  \n",
      "296314  [ 0.6059678  -0.08567849 -0.16216129 -0.015818...  \n",
      "\n",
      "[296315 rows x 2 columns]\n"
     ]
    }
   ],
   "source": [
    "print(X_train)"
   ],
   "metadata": {
    "collapsed": false,
    "ExecuteTime": {
     "end_time": "2023-05-20T21:39:35.123708Z",
     "start_time": "2023-05-20T21:39:35.113064200Z"
    }
   }
  },
  {
   "cell_type": "markdown",
   "source": [
    "#### Training the model"
   ],
   "metadata": {
    "collapsed": false
   }
  },
  {
   "cell_type": "code",
   "execution_count": 4,
   "metadata": {
    "ExecuteTime": {
     "end_time": "2023-05-20T21:39:39.106360500Z",
     "start_time": "2023-05-20T21:39:35.123708Z"
    }
   },
   "outputs": [],
   "source": [
    "X_train_q1 = [np.array(xi.replace('\\n', '').strip()[1:-1].split(), dtype=np.float32) for xi in X_train[\"vector1\"]]\n",
    "X_train_q2 = [np.array(xi.replace('\\n', '').strip()[1:-1].split(), dtype=np.float32) for xi in X_train[\"vector2\"]]\n",
    "\n",
    "X_train_q1 = np.array(X_train_q1)  # questions 1 in the training set\n",
    "X_train_q2 = np.array(X_train_q2)  # questions 2 in the training set"
   ]
  },
  {
   "cell_type": "code",
   "execution_count": null,
   "outputs": [],
   "source": [
    "# Define the hyperparameters\n",
    "input_length = 25\n",
    "batch_size = 32\n",
    "epochs = 10"
   ],
   "metadata": {
    "collapsed": false
   }
  },
  {
   "cell_type": "code",
   "execution_count": null,
   "outputs": [],
   "source": [
    "# Create the model\n",
    "model = src.create_model(input_length)\n"
   ],
   "metadata": {
    "collapsed": false
   }
  },
  {
   "cell_type": "code",
   "execution_count": 10,
   "metadata": {
    "ExecuteTime": {
     "end_time": "2023-05-20T22:34:40.727989100Z",
     "start_time": "2023-05-20T21:39:39.613969300Z"
    }
   },
   "outputs": [
    {
     "name": "stdout",
     "output_type": "stream",
     "text": [
      "Epoch 1/10\n",
      "8334/8334 [==============================] - 209s 25ms/step - loss: 0.6647 - accuracy: 0.6201 - val_loss: 0.6601 - val_accuracy: 0.6279\n",
      "Epoch 2/10\n",
      "8334/8334 [==============================] - 203s 24ms/step - loss: 0.6642 - accuracy: 0.6201 - val_loss: 0.6603 - val_accuracy: 0.6279\n",
      "Epoch 3/10\n",
      "8334/8334 [==============================] - 360s 43ms/step - loss: 0.6640 - accuracy: 0.6201 - val_loss: 0.6618 - val_accuracy: 0.6279\n",
      "Epoch 4/10\n",
      "8334/8334 [==============================] - 383s 46ms/step - loss: 0.6637 - accuracy: 0.6201 - val_loss: 0.6586 - val_accuracy: 0.6279\n",
      "Epoch 5/10\n",
      "8334/8334 [==============================] - 378s 45ms/step - loss: 0.6624 - accuracy: 0.6201 - val_loss: 0.6507 - val_accuracy: 0.6288\n",
      "Epoch 6/10\n",
      "8334/8334 [==============================] - 381s 46ms/step - loss: 0.6583 - accuracy: 0.6212 - val_loss: 0.6488 - val_accuracy: 0.6283\n",
      "Epoch 7/10\n",
      "8334/8334 [==============================] - 302s 36ms/step - loss: 0.6548 - accuracy: 0.6240 - val_loss: 0.6396 - val_accuracy: 0.6348\n",
      "Epoch 8/10\n",
      "8334/8334 [==============================] - 343s 41ms/step - loss: 0.6509 - accuracy: 0.6251 - val_loss: 0.6378 - val_accuracy: 0.6360\n",
      "Epoch 9/10\n",
      "8334/8334 [==============================] - 367s 44ms/step - loss: 0.6461 - accuracy: 0.6263 - val_loss: 0.6368 - val_accuracy: 0.6371\n",
      "Epoch 10/10\n",
      "8334/8334 [==============================] - 374s 45ms/step - loss: 0.6431 - accuracy: 0.6292 - val_loss: 0.6380 - val_accuracy: 0.6387\n"
     ]
    },
    {
     "data": {
      "text/plain": "<keras.callbacks.History at 0x1d9178a1950>"
     },
     "execution_count": 10,
     "metadata": {},
     "output_type": "execute_result"
    }
   ],
   "source": [
    "# Train the model\n",
    "early_stopping = EarlyStopping(monitor='val_loss', patience=3)\n",
    "model.fit([X_train_q1,X_train_q2], y_train, batch_size=batch_size, epochs=epochs, validation_split=0.1, callbacks=[early_stopping])"
   ]
  },
  {
   "cell_type": "code",
   "execution_count": 11,
   "metadata": {
    "ExecuteTime": {
     "end_time": "2023-05-20T22:34:47.751972300Z",
     "start_time": "2023-05-20T22:34:40.743631600Z"
    }
   },
   "outputs": [
    {
     "name": "stderr",
     "output_type": "stream",
     "text": [
      "WARNING:absl:Found untraced functions such as _update_step_xla while saving (showing 1 of 1). These functions will not be directly callable after loading.\n"
     ]
    },
    {
     "name": "stdout",
     "output_type": "stream",
     "text": [
      "INFO:tensorflow:Assets written to: ../../models/v4\\assets\n"
     ]
    },
    {
     "name": "stderr",
     "output_type": "stream",
     "text": [
      "INFO:tensorflow:Assets written to: ../../models/v4\\assets\n"
     ]
    }
   ],
   "source": [
    "model.save('../../models/v9')"
   ]
  }
 ],
 "metadata": {
  "kernelspec": {
   "display_name": "Python 3 (ipykernel)",
   "language": "python",
   "name": "python3"
  },
  "language_info": {
   "codemirror_mode": {
    "name": "ipython",
    "version": 3
   },
   "file_extension": ".py",
   "mimetype": "text/x-python",
   "name": "python",
   "nbconvert_exporter": "python",
   "pygments_lexer": "ipython3",
   "version": "3.11.0"
  }
 },
 "nbformat": 4,
 "nbformat_minor": 1
}
