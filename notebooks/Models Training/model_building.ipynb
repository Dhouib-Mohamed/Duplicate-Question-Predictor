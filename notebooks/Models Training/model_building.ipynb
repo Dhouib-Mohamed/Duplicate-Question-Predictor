{
 "cells": [
  {
   "cell_type": "markdown",
   "source": [
    "## Importing Necessary Libraries\n"
   ],
   "metadata": {
    "collapsed": false
   }
  },
  {
   "cell_type": "code",
   "execution_count": 1,
   "metadata": {
    "ExecuteTime": {
     "end_time": "2023-05-29T19:28:41.874114100Z",
     "start_time": "2023-05-29T19:28:36.626827500Z"
    }
   },
   "outputs": [],
   "source": [
    "import numpy as np\n",
    "import pandas as pd\n",
    "import src.model as src\n",
    "import importlib\n",
    "importlib.reload(src)\n",
    "from keras.callbacks import EarlyStopping\n"
   ]
  },
  {
   "cell_type": "markdown",
   "source": [
    "## Reading All The Data\n"
   ],
   "metadata": {
    "collapsed": false
   }
  },
  {
   "cell_type": "code",
   "execution_count": 2,
   "metadata": {
    "ExecuteTime": {
     "end_time": "2023-05-29T19:28:43.850731900Z",
     "start_time": "2023-05-29T19:28:41.876114Z"
    }
   },
   "outputs": [],
   "source": [
    "X_train = pd.read_csv(\"../../data/divided_data/X_train.csv\")\n",
    "y_train = pd.read_csv(\"../../data/divided_data/y_train.csv\")"
   ]
  },
  {
   "cell_type": "code",
   "execution_count": 3,
   "outputs": [
    {
     "name": "stdout",
     "output_type": "stream",
     "text": [
      "                                                  vector1  \\\n",
      "0       [ 0.5295678  -0.15853217 -0.22870015 -0.058609...   \n",
      "1       [ 0.63753766 -0.22587937 -0.14917918  0.058745...   \n",
      "2       [ 0.54976434 -0.03897028 -0.17230012 -0.044592...   \n",
      "3       [ 0.56717443 -0.10753902 -0.12188084 -0.094741...   \n",
      "4       [ 0.5637538  -0.20517558 -0.1467287  -0.028035...   \n",
      "...                                                   ...   \n",
      "296310  [ 0.5889391  -0.17724791 -0.16049017  0.073490...   \n",
      "296311  [ 0.47761875 -0.05568955 -0.1513559  -0.143570...   \n",
      "296312  [ 4.9444079e-01 -1.8513876e-01 -9.1559693e-02 ...   \n",
      "296313  [ 4.9490848e-01 -2.4393159e-01 -1.7211759e-01 ...   \n",
      "296314  [ 0.71045923 -0.18323508 -0.098042    0.030679...   \n",
      "\n",
      "                                                  vector2  \n",
      "0       [ 0.6130774  -0.14473288 -0.17602023  0.011747...  \n",
      "1       [ 0.63753766 -0.22587937 -0.14917918  0.058745...  \n",
      "2       [ 0.60705286 -0.1455763  -0.19481653  0.007876...  \n",
      "3       [ 0.6309981  -0.21492098 -0.07794663 -0.074168...  \n",
      "4       [ 0.55720854 -0.3097607  -0.08209359  0.109999...  \n",
      "...                                                   ...  \n",
      "296310  [ 0.537122   -0.1936365  -0.1601149   0.171195...  \n",
      "296311  [ 0.45252222 -0.01308737 -0.18844506 -0.171087...  \n",
      "296312  [ 0.63095766 -0.2456781  -0.01596962  0.152546...  \n",
      "296313  [ 0.436573   -0.22425823 -0.13015854 -0.049151...  \n",
      "296314  [ 0.7196175  -0.16419907 -0.06368557  0.101126...  \n",
      "\n",
      "[296315 rows x 2 columns]\n"
     ]
    }
   ],
   "source": [
    "print(X_train)"
   ],
   "metadata": {
    "collapsed": false,
    "ExecuteTime": {
     "end_time": "2023-05-29T19:28:43.895602300Z",
     "start_time": "2023-05-29T19:28:43.854737800Z"
    }
   }
  },
  {
   "cell_type": "markdown",
   "source": [
    "#### Training the model"
   ],
   "metadata": {
    "collapsed": false
   }
  },
  {
   "cell_type": "code",
   "execution_count": 4,
   "metadata": {
    "ExecuteTime": {
     "end_time": "2023-05-29T19:28:47.925024800Z",
     "start_time": "2023-05-29T19:28:43.885010200Z"
    }
   },
   "outputs": [],
   "source": [
    "X_train_q1 = [np.array(xi.replace('\\n', '').strip()[1:-1].split(), dtype=np.float32) for xi in X_train[\"vector1\"]]\n",
    "X_train_q2 = [np.array(xi.replace('\\n', '').strip()[1:-1].split(), dtype=np.float32) for xi in X_train[\"vector2\"]]\n",
    "\n",
    "X_train_q1 = np.array(X_train_q1)  # questions 1 in the training set\n",
    "X_train_q2 = np.array(X_train_q2)  # questions 2 in the training set"
   ]
  },
  {
   "cell_type": "code",
   "execution_count": 5,
   "outputs": [],
   "source": [
    "# Define the hyperparameters\n",
    "input_length = 25\n",
    "batch_size = 32\n",
    "epochs = 10"
   ],
   "metadata": {
    "collapsed": false,
    "ExecuteTime": {
     "end_time": "2023-05-29T19:28:47.930542700Z",
     "start_time": "2023-05-29T19:28:47.928529900Z"
    }
   }
  },
  {
   "cell_type": "code",
   "execution_count": 6,
   "outputs": [],
   "source": [
    "# Create the model\n",
    "model = src.create_model(input_length)\n"
   ],
   "metadata": {
    "collapsed": false,
    "ExecuteTime": {
     "end_time": "2023-05-29T19:28:48.563965800Z",
     "start_time": "2023-05-29T19:28:47.932536Z"
    }
   }
  },
  {
   "cell_type": "code",
   "execution_count": 10,
   "outputs": [
    {
     "name": "stdout",
     "output_type": "stream",
     "text": [
      "Model: \"model\"\n",
      "__________________________________________________________________________________________________\n",
      " Layer (type)                   Output Shape         Param #     Connected to                     \n",
      "==================================================================================================\n",
      " input_1 (InputLayer)           [(None, 25)]         0           []                               \n",
      "                                                                                                  \n",
      " input_2 (InputLayer)           [(None, 25)]         0           []                               \n",
      "                                                                                                  \n",
      " reshape (Reshape)              (None, 25, 1)        0           ['input_1[0][0]']                \n",
      "                                                                                                  \n",
      " reshape_1 (Reshape)            (None, 25, 1)        0           ['input_2[0][0]']                \n",
      "                                                                                                  \n",
      " bidirectional (Bidirectional)  (None, 25, 512)      528384      ['reshape[0][0]',                \n",
      "                                                                  'reshape_1[0][0]']              \n",
      "                                                                                                  \n",
      " batch_normalization (BatchNorm  (None, 25, 512)     2048        ['bidirectional[0][0]']          \n",
      " alization)                                                                                       \n",
      "                                                                                                  \n",
      " batch_normalization_1 (BatchNo  (None, 25, 512)     2048        ['bidirectional[1][0]']          \n",
      " rmalization)                                                                                     \n",
      "                                                                                                  \n",
      " dropout (Dropout)              (None, 25, 512)      0           ['batch_normalization[0][0]']    \n",
      "                                                                                                  \n",
      " dropout_1 (Dropout)            (None, 25, 512)      0           ['batch_normalization_1[0][0]']  \n",
      "                                                                                                  \n",
      " concatenate (Concatenate)      (None, 25, 1024)     0           ['dropout[0][0]',                \n",
      "                                                                  'dropout_1[0][0]']              \n",
      "                                                                                                  \n",
      " dense (Dense)                  (None, 25, 64)       65600       ['concatenate[0][0]']            \n",
      "                                                                                                  \n",
      " batch_normalization_2 (BatchNo  (None, 25, 64)      256         ['dense[0][0]']                  \n",
      " rmalization)                                                                                     \n",
      "                                                                                                  \n",
      " dropout_2 (Dropout)            (None, 25, 64)       0           ['batch_normalization_2[0][0]']  \n",
      "                                                                                                  \n",
      " dense_1 (Dense)                (None, 25, 64)       4160        ['dropout_2[0][0]']              \n",
      "                                                                                                  \n",
      " batch_normalization_3 (BatchNo  (None, 25, 64)      256         ['dense_1[0][0]']                \n",
      " rmalization)                                                                                     \n",
      "                                                                                                  \n",
      " dropout_3 (Dropout)            (None, 25, 64)       0           ['batch_normalization_3[0][0]']  \n",
      "                                                                                                  \n",
      " dense_2 (Dense)                (None, 25, 1)        65          ['dropout_3[0][0]']              \n",
      "                                                                                                  \n",
      "==================================================================================================\n",
      "Total params: 602,817\n",
      "Trainable params: 600,513\n",
      "Non-trainable params: 2,304\n",
      "__________________________________________________________________________________________________\n"
     ]
    }
   ],
   "source": [
    "model.summary()"
   ],
   "metadata": {
    "collapsed": false,
    "ExecuteTime": {
     "end_time": "2023-05-30T10:35:53.598793700Z",
     "start_time": "2023-05-30T10:35:53.122498200Z"
    }
   }
  },
  {
   "cell_type": "code",
   "execution_count": 7,
   "metadata": {
    "ExecuteTime": {
     "end_time": "2023-05-30T01:47:50.449584Z",
     "start_time": "2023-05-29T19:28:48.565964600Z"
    }
   },
   "outputs": [
    {
     "name": "stdout",
     "output_type": "stream",
     "text": [
      "Epoch 1/10\n",
      "8334/8334 [==============================] - 2257s 270ms/step - loss: 0.6553 - accuracy: 0.6217 - val_loss: 0.6343 - val_accuracy: 0.6399\n",
      "Epoch 2/10\n",
      "8334/8334 [==============================] - 2264s 272ms/step - loss: 0.6376 - accuracy: 0.6336 - val_loss: 0.6217 - val_accuracy: 0.6553\n",
      "Epoch 3/10\n",
      "8334/8334 [==============================] - 2030s 244ms/step - loss: 0.6239 - accuracy: 0.6480 - val_loss: 0.6418 - val_accuracy: 0.6248\n",
      "Epoch 4/10\n",
      "8334/8334 [==============================] - 3366s 404ms/step - loss: 0.6167 - accuracy: 0.6556 - val_loss: 0.6043 - val_accuracy: 0.6726\n",
      "Epoch 5/10\n",
      "8334/8334 [==============================] - 2818s 338ms/step - loss: 0.6119 - accuracy: 0.6605 - val_loss: 0.6033 - val_accuracy: 0.6750\n",
      "Epoch 6/10\n",
      "8334/8334 [==============================] - 2031s 244ms/step - loss: 0.6086 - accuracy: 0.6640 - val_loss: 0.6039 - val_accuracy: 0.6709\n",
      "Epoch 7/10\n",
      "8334/8334 [==============================] - 2701s 324ms/step - loss: 0.6058 - accuracy: 0.6670 - val_loss: 0.5964 - val_accuracy: 0.6826\n",
      "Epoch 8/10\n",
      "8334/8334 [==============================] - 2104s 252ms/step - loss: 0.6033 - accuracy: 0.6691 - val_loss: 0.5943 - val_accuracy: 0.6839\n",
      "Epoch 9/10\n",
      "8334/8334 [==============================] - 1585s 190ms/step - loss: 0.6010 - accuracy: 0.6718 - val_loss: 0.5870 - val_accuracy: 0.6879\n",
      "Epoch 10/10\n",
      "8334/8334 [==============================] - 1585s 190ms/step - loss: 0.5987 - accuracy: 0.6739 - val_loss: 0.5958 - val_accuracy: 0.6886\n"
     ]
    },
    {
     "data": {
      "text/plain": "<keras.callbacks.History at 0x16346882f90>"
     },
     "execution_count": 7,
     "metadata": {},
     "output_type": "execute_result"
    }
   ],
   "source": [
    "# Train the model\n",
    "early_stopping = EarlyStopping(monitor='val_loss', patience=3)\n",
    "model.fit([X_train_q1,X_train_q2], y_train, batch_size=batch_size, epochs=epochs, validation_split=0.1, callbacks=[early_stopping])"
   ]
  },
  {
   "cell_type": "code",
   "execution_count": 8,
   "metadata": {
    "ExecuteTime": {
     "end_time": "2023-05-30T01:47:58.469320100Z",
     "start_time": "2023-05-30T01:47:50.458580800Z"
    }
   },
   "outputs": [
    {
     "name": "stdout",
     "output_type": "stream",
     "text": [
      "INFO:tensorflow:Assets written to: ../../models/v9\\assets\n"
     ]
    }
   ],
   "source": [
    "model.save('../../models/v9')"
   ]
  }
 ],
 "metadata": {
  "kernelspec": {
   "display_name": "Python 3 (ipykernel)",
   "language": "python",
   "name": "python3"
  },
  "language_info": {
   "codemirror_mode": {
    "name": "ipython",
    "version": 3
   },
   "file_extension": ".py",
   "mimetype": "text/x-python",
   "name": "python",
   "nbconvert_exporter": "python",
   "pygments_lexer": "ipython3",
   "version": "3.11.0"
  }
 },
 "nbformat": 4,
 "nbformat_minor": 1
}
