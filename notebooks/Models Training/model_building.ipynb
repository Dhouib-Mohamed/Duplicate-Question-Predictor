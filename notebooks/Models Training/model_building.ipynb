{
 "cells": [
  {
   "cell_type": "code",
   "execution_count": null,
   "metadata": {
    "collapsed": true
   },
   "outputs": [],
   "source": [
    "import numpy as np\n",
    "import src.model as model\n",
    "import importlib\n",
    "importlib.reload(model)\n",
    "from keras.callbacks import EarlyStopping"
   ]
  },
  {
   "cell_type": "code",
   "execution_count": null,
   "outputs": [],
   "source": [
    "\n",
    "\n",
    "X_train_q1 = np.array(...)  # questions 1 in the training set\n",
    "X_train_q2 = np.array(...)  # questions 2 in the training set\n",
    "y_train = np.array(...)     # labels in the training set\n",
    "\n",
    "# Define the hyperparameters\n",
    "vocab_size = ...\n",
    "embedding_dim = ...\n",
    "input_length = ...\n",
    "batch_size = ...\n",
    "epochs = ...\n",
    "\n",
    "# Create the model\n",
    "model = model.create_model(vocab_size, embedding_dim, input_length)\n",
    "\n",
    "# Train the model\n",
    "early_stopping = EarlyStopping(monitor='val_loss', patience=3)\n",
    "model.fit([X_train_q1, X_train_q2], y_train, batch_size=batch_size, epochs=epochs, validation_split=0.1, callbacks=[early_stopping])"
   ],
   "metadata": {
    "collapsed": false
   }
  }
 ],
 "metadata": {
  "kernelspec": {
   "display_name": "Python 3",
   "language": "python",
   "name": "python3"
  },
  "language_info": {
   "codemirror_mode": {
    "name": "ipython",
    "version": 2
   },
   "file_extension": ".py",
   "mimetype": "text/x-python",
   "name": "python",
   "nbconvert_exporter": "python",
   "pygments_lexer": "ipython2",
   "version": "2.7.6"
  }
 },
 "nbformat": 4,
 "nbformat_minor": 0
}
