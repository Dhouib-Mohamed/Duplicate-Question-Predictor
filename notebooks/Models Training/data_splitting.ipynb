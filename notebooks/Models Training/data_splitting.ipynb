{
 "cells": [
  {
   "cell_type": "code",
   "execution_count": 2,
   "metadata": {
    "collapsed": true
   },
   "outputs": [],
   "source": [
    "import pandas as pd\n",
    "from keras.preprocessing.text import Tokenizer\n",
    "tokenizer = Tokenizer()"
   ]
  },
  {
   "cell_type": "code",
   "execution_count": 3,
   "outputs": [
    {
     "name": "stdout",
     "output_type": "stream",
     "text": [
      "        Unnamed: 0.1  Unnamed: 0     qid  \\\n",
      "0                  0           0       1   \n",
      "1                  1           1       3   \n",
      "2                  2           2       5   \n",
      "3                  3           3       7   \n",
      "4                  4           4       9   \n",
      "...              ...         ...     ...   \n",
      "800200        803494      803494  789793   \n",
      "800201        803495      803495  789795   \n",
      "800202        803496      803496  789797   \n",
      "800203        803497      803497  789799   \n",
      "800204        803498      803498  789801   \n",
      "\n",
      "                                                 question  length  word_count  \n",
      "0       What is the step by step guide to invest in sh...      66          14  \n",
      "1       What is the story of Kohinoor (Koh-i-Noor) Dia...      51           8  \n",
      "2       How can I increase the speed of my internet co...      73          14  \n",
      "3       Why am I mentally very lonely? How can I solve...      50          11  \n",
      "4       Which one dissolve in water quikly sugar, salt...      76          13  \n",
      "...                                                   ...     ...         ...  \n",
      "800200  How many keywords are there in PERL Programmin...      79          13  \n",
      "800201         Is it true that there is life after death?      42           9  \n",
      "800202                                  What's this coin?      17           3  \n",
      "800203  I am having little hairfall problem but I want...     127          25  \n",
      "800204      What is it like to have sex with your cousin?      45          10  \n",
      "\n",
      "[800205 rows x 6 columns]\n"
     ]
    }
   ],
   "source": [
    "data = pd.read_csv(\"../../data/processed_data_data/processed_data.csv\")\n",
    "# Tokenize the questions and convert them to sequences of integers\n",
    "print(data)\n"
   ],
   "metadata": {
    "collapsed": false
   }
  }
 ],
 "metadata": {
  "kernelspec": {
   "display_name": "Python 3",
   "language": "python",
   "name": "python3"
  },
  "language_info": {
   "codemirror_mode": {
    "name": "ipython",
    "version": 2
   },
   "file_extension": ".py",
   "mimetype": "text/x-python",
   "name": "python",
   "nbconvert_exporter": "python",
   "pygments_lexer": "ipython2",
   "version": "2.7.6"
  }
 },
 "nbformat": 4,
 "nbformat_minor": 0
}
