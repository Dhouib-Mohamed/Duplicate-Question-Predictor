{
 "cells": [
  {
   "cell_type": "code",
   "execution_count": 1,
   "metadata": {
    "collapsed": true
   },
   "outputs": [],
   "source": [
    "import pandas as pd\n",
    "from sklearn.model_selection import train_test_split"
   ]
  },
  {
   "cell_type": "code",
   "execution_count": 2,
   "outputs": [],
   "source": [
    "data = pd.read_csv(\"../../data/processed_data/processed_data.csv\")"
   ],
   "metadata": {
    "collapsed": false
   }
  },
  {
   "cell_type": "code",
   "execution_count": 3,
   "outputs": [
    {
     "data": {
      "text/plain": "                                                  vector1  \\\n0       [ 6.1547619e-01 -2.0584768e-01 -1.3993306e-01 ...   \n1       [ 6.8824500e-01 -1.7019790e-01 -1.3377927e-02 ...   \n2       [ 0.6289094  -0.23624171 -0.14056318 -0.011883...   \n3       [ 0.57746315 -0.24105825 -0.22027902  0.148281...   \n4       [ 6.05857909e-01 -1.66253775e-01 -1.06687985e-...   \n...                                                   ...   \n370389  [ 0.6016624  -0.099379   -0.16057715  0.029417...   \n370390  [ 0.5858043  -0.19736733 -0.06349304 -0.052130...   \n370391  [ 0.5809965  -0.44204     0.04547379  0.255015...   \n370392  [ 0.5162416  -0.12228948 -0.17164865  0.066927...   \n370393  [ 0.55894786 -0.31426394 -0.04234     0.020683...   \n\n                                                  vector2  is_duplicate  \n0       [ 6.59969270e-01 -2.34099537e-01 -1.73143327e-...             0  \n1       [ 0.6598518  -0.16123755 -0.05299472  0.114019...             0  \n2       [ 0.6230488  -0.20847398 -0.14540245 -0.021500...             0  \n3       [ 5.32368779e-01 -2.18307167e-01 -1.38835341e-...             0  \n4       [ 0.5235064  -0.10583658 -0.17818265  0.005751...             0  \n...                                                   ...           ...  \n370389  [ 0.5954482  -0.09723166 -0.15359814  0.020798...             0  \n370390  [ 0.57238656 -0.19273913 -0.16352256  0.026960...             1  \n370391  [ 0.56885546 -0.48676538 -0.10138147  0.243822...             0  \n370392  [ 5.51930904e-01 -1.62526399e-01 -1.81070387e-...             0  \n370393  [ 0.55894786 -0.31426394 -0.04234     0.020683...             0  \n\n[370394 rows x 3 columns]",
      "text/html": "<div>\n<style scoped>\n    .dataframe tbody tr th:only-of-type {\n        vertical-align: middle;\n    }\n\n    .dataframe tbody tr th {\n        vertical-align: top;\n    }\n\n    .dataframe thead th {\n        text-align: right;\n    }\n</style>\n<table border=\"1\" class=\"dataframe\">\n  <thead>\n    <tr style=\"text-align: right;\">\n      <th></th>\n      <th>vector1</th>\n      <th>vector2</th>\n      <th>is_duplicate</th>\n    </tr>\n  </thead>\n  <tbody>\n    <tr>\n      <th>0</th>\n      <td>[ 6.1547619e-01 -2.0584768e-01 -1.3993306e-01 ...</td>\n      <td>[ 6.59969270e-01 -2.34099537e-01 -1.73143327e-...</td>\n      <td>0</td>\n    </tr>\n    <tr>\n      <th>1</th>\n      <td>[ 6.8824500e-01 -1.7019790e-01 -1.3377927e-02 ...</td>\n      <td>[ 0.6598518  -0.16123755 -0.05299472  0.114019...</td>\n      <td>0</td>\n    </tr>\n    <tr>\n      <th>2</th>\n      <td>[ 0.6289094  -0.23624171 -0.14056318 -0.011883...</td>\n      <td>[ 0.6230488  -0.20847398 -0.14540245 -0.021500...</td>\n      <td>0</td>\n    </tr>\n    <tr>\n      <th>3</th>\n      <td>[ 0.57746315 -0.24105825 -0.22027902  0.148281...</td>\n      <td>[ 5.32368779e-01 -2.18307167e-01 -1.38835341e-...</td>\n      <td>0</td>\n    </tr>\n    <tr>\n      <th>4</th>\n      <td>[ 6.05857909e-01 -1.66253775e-01 -1.06687985e-...</td>\n      <td>[ 0.5235064  -0.10583658 -0.17818265  0.005751...</td>\n      <td>0</td>\n    </tr>\n    <tr>\n      <th>...</th>\n      <td>...</td>\n      <td>...</td>\n      <td>...</td>\n    </tr>\n    <tr>\n      <th>370389</th>\n      <td>[ 0.6016624  -0.099379   -0.16057715  0.029417...</td>\n      <td>[ 0.5954482  -0.09723166 -0.15359814  0.020798...</td>\n      <td>0</td>\n    </tr>\n    <tr>\n      <th>370390</th>\n      <td>[ 0.5858043  -0.19736733 -0.06349304 -0.052130...</td>\n      <td>[ 0.57238656 -0.19273913 -0.16352256  0.026960...</td>\n      <td>1</td>\n    </tr>\n    <tr>\n      <th>370391</th>\n      <td>[ 0.5809965  -0.44204     0.04547379  0.255015...</td>\n      <td>[ 0.56885546 -0.48676538 -0.10138147  0.243822...</td>\n      <td>0</td>\n    </tr>\n    <tr>\n      <th>370392</th>\n      <td>[ 0.5162416  -0.12228948 -0.17164865  0.066927...</td>\n      <td>[ 5.51930904e-01 -1.62526399e-01 -1.81070387e-...</td>\n      <td>0</td>\n    </tr>\n    <tr>\n      <th>370393</th>\n      <td>[ 0.55894786 -0.31426394 -0.04234     0.020683...</td>\n      <td>[ 0.55894786 -0.31426394 -0.04234     0.020683...</td>\n      <td>0</td>\n    </tr>\n  </tbody>\n</table>\n<p>370394 rows × 3 columns</p>\n</div>"
     },
     "execution_count": 3,
     "metadata": {},
     "output_type": "execute_result"
    }
   ],
   "source": [
    "data"
   ],
   "metadata": {
    "collapsed": false
   }
  },
  {
   "cell_type": "code",
   "execution_count": 4,
   "outputs": [],
   "source": [
    "X_train,X_test,y_train,y_test = train_test_split(data[[\"vector1\",\"vector2\"]],data[\"is_duplicate\"],test_size=0.2)"
   ],
   "metadata": {
    "collapsed": false
   }
  },
  {
   "cell_type": "code",
   "execution_count": 5,
   "outputs": [],
   "source": [
    "X_train.to_csv(\"../../data/divided_data/X_train.csv\",index=False)\n",
    "X_test.to_csv(\"../../data/divided_data/X_test.csv\",index=False)\n",
    "y_train.to_csv(\"../../data/divided_data/y_train.csv\",index=False)\n",
    "y_test.to_csv(\"../../data/divided_data/y_test.csv\",index=False)"
   ],
   "metadata": {
    "collapsed": false
   }
  }
 ],
 "metadata": {
  "kernelspec": {
   "display_name": "Python 3",
   "language": "python",
   "name": "python3"
  },
  "language_info": {
   "codemirror_mode": {
    "name": "ipython",
    "version": 2
   },
   "file_extension": ".py",
   "mimetype": "text/x-python",
   "name": "python",
   "nbconvert_exporter": "python",
   "pygments_lexer": "ipython2",
   "version": "2.7.6"
  }
 },
 "nbformat": 4,
 "nbformat_minor": 0
}
