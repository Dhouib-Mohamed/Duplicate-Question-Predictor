{
 "cells": [
  {
   "cell_type": "markdown",
   "source": [
    "## Necessary Imports\n"
   ],
   "metadata": {
    "collapsed": false
   }
  },
  {
   "cell_type": "code",
   "execution_count": 1,
   "metadata": {
    "collapsed": true,
    "ExecuteTime": {
     "end_time": "2023-05-20T16:27:34.982783600Z",
     "start_time": "2023-05-20T16:27:33.841164700Z"
    }
   },
   "outputs": [],
   "source": [
    "import pandas as pd\n",
    "from sklearn.model_selection import train_test_split"
   ]
  },
  {
   "cell_type": "markdown",
   "source": [
    "## Reading All The Data\n"
   ],
   "metadata": {
    "collapsed": false
   }
  },
  {
   "cell_type": "code",
   "execution_count": 2,
   "outputs": [],
   "source": [
    "data = pd.read_csv(\"../../data/processed_data/processed_data.csv\")"
   ],
   "metadata": {
    "collapsed": false,
    "ExecuteTime": {
     "end_time": "2023-05-20T16:27:36.441076Z",
     "start_time": "2023-05-20T16:27:34.983786200Z"
    }
   }
  },
  {
   "cell_type": "code",
   "execution_count": 3,
   "outputs": [
    {
     "data": {
      "text/plain": "                                                  vector1  \\\n0       [ 6.1547619e-01 -2.0584768e-01 -1.3993306e-01 ...   \n1       [ 0.6986762  -0.19018674 -0.01660712  0.255029...   \n2       [ 6.5181887e-01 -2.5972918e-01 -1.3195999e-01 ...   \n3       [ 0.57746315 -0.24105825 -0.22027902  0.148281...   \n4       [ 0.5891566  -0.14058551 -0.12285278  0.091852...   \n...                                                   ...   \n370389  [ 0.6120544  -0.08026706 -0.11120206  0.005097...   \n370390  [ 0.5858043  -0.19736733 -0.06349304 -0.052130...   \n370391  [ 0.40368885 -0.40503123  0.00602975  0.136909...   \n370392  [ 0.5234132  -0.13860296 -0.17368013  0.092954...   \n370393  [ 0.55894786 -0.31426394 -0.04234     0.020683...   \n\n                                                  vector2  is_duplicate  \n0       [ 6.59969270e-01 -2.34099537e-01 -1.73143327e-...             0  \n1       [ 0.66760707 -0.18535142 -0.06255767  0.143376...             0  \n2       [ 0.6392761  -0.2693284  -0.14859273  0.021426...             0  \n3       [ 0.45756692 -0.16068357 -0.14937708  0.019454...             0  \n4       [ 0.51694465 -0.1532621  -0.21871626 -0.031842...             0  \n...                                                   ...           ...  \n370389  [ 0.6051509  -0.0771248  -0.10141405 -0.005769...             0  \n370390  [ 0.57238656 -0.19273913 -0.16352256  0.026960...             1  \n370391  [ 0.40368885 -0.40503123  0.00602975  0.136909...             0  \n370392  [ 0.5453015  -0.14549695 -0.18995084  0.063944...             0  \n370393  [ 0.55894786 -0.31426394 -0.04234     0.020683...             0  \n\n[370394 rows x 3 columns]",
      "text/html": "<div>\n<style scoped>\n    .dataframe tbody tr th:only-of-type {\n        vertical-align: middle;\n    }\n\n    .dataframe tbody tr th {\n        vertical-align: top;\n    }\n\n    .dataframe thead th {\n        text-align: right;\n    }\n</style>\n<table border=\"1\" class=\"dataframe\">\n  <thead>\n    <tr style=\"text-align: right;\">\n      <th></th>\n      <th>vector1</th>\n      <th>vector2</th>\n      <th>is_duplicate</th>\n    </tr>\n  </thead>\n  <tbody>\n    <tr>\n      <th>0</th>\n      <td>[ 6.1547619e-01 -2.0584768e-01 -1.3993306e-01 ...</td>\n      <td>[ 6.59969270e-01 -2.34099537e-01 -1.73143327e-...</td>\n      <td>0</td>\n    </tr>\n    <tr>\n      <th>1</th>\n      <td>[ 0.6986762  -0.19018674 -0.01660712  0.255029...</td>\n      <td>[ 0.66760707 -0.18535142 -0.06255767  0.143376...</td>\n      <td>0</td>\n    </tr>\n    <tr>\n      <th>2</th>\n      <td>[ 6.5181887e-01 -2.5972918e-01 -1.3195999e-01 ...</td>\n      <td>[ 0.6392761  -0.2693284  -0.14859273  0.021426...</td>\n      <td>0</td>\n    </tr>\n    <tr>\n      <th>3</th>\n      <td>[ 0.57746315 -0.24105825 -0.22027902  0.148281...</td>\n      <td>[ 0.45756692 -0.16068357 -0.14937708  0.019454...</td>\n      <td>0</td>\n    </tr>\n    <tr>\n      <th>4</th>\n      <td>[ 0.5891566  -0.14058551 -0.12285278  0.091852...</td>\n      <td>[ 0.51694465 -0.1532621  -0.21871626 -0.031842...</td>\n      <td>0</td>\n    </tr>\n    <tr>\n      <th>...</th>\n      <td>...</td>\n      <td>...</td>\n      <td>...</td>\n    </tr>\n    <tr>\n      <th>370389</th>\n      <td>[ 0.6120544  -0.08026706 -0.11120206  0.005097...</td>\n      <td>[ 0.6051509  -0.0771248  -0.10141405 -0.005769...</td>\n      <td>0</td>\n    </tr>\n    <tr>\n      <th>370390</th>\n      <td>[ 0.5858043  -0.19736733 -0.06349304 -0.052130...</td>\n      <td>[ 0.57238656 -0.19273913 -0.16352256  0.026960...</td>\n      <td>1</td>\n    </tr>\n    <tr>\n      <th>370391</th>\n      <td>[ 0.40368885 -0.40503123  0.00602975  0.136909...</td>\n      <td>[ 0.40368885 -0.40503123  0.00602975  0.136909...</td>\n      <td>0</td>\n    </tr>\n    <tr>\n      <th>370392</th>\n      <td>[ 0.5234132  -0.13860296 -0.17368013  0.092954...</td>\n      <td>[ 0.5453015  -0.14549695 -0.18995084  0.063944...</td>\n      <td>0</td>\n    </tr>\n    <tr>\n      <th>370393</th>\n      <td>[ 0.55894786 -0.31426394 -0.04234     0.020683...</td>\n      <td>[ 0.55894786 -0.31426394 -0.04234     0.020683...</td>\n      <td>0</td>\n    </tr>\n  </tbody>\n</table>\n<p>370394 rows × 3 columns</p>\n</div>"
     },
     "execution_count": 3,
     "metadata": {},
     "output_type": "execute_result"
    }
   ],
   "source": [
    "data"
   ],
   "metadata": {
    "collapsed": false,
    "ExecuteTime": {
     "end_time": "2023-05-20T16:27:36.450127600Z",
     "start_time": "2023-05-20T16:27:36.444078300Z"
    }
   }
  },
  {
   "cell_type": "markdown",
   "source": [
    "### Data Splitting\n"
   ],
   "metadata": {
    "collapsed": false
   }
  },
  {
   "cell_type": "code",
   "execution_count": 4,
   "outputs": [],
   "source": [
    "X_train,X_test,y_train,y_test = train_test_split(data[[\"vector1\",\"vector2\"]],data[\"is_duplicate\"],test_size=0.2)"
   ],
   "metadata": {
    "collapsed": false,
    "ExecuteTime": {
     "end_time": "2023-05-20T16:27:36.546999700Z",
     "start_time": "2023-05-20T16:27:36.452126400Z"
    }
   }
  },
  {
   "cell_type": "code",
   "execution_count": 5,
   "outputs": [],
   "source": [
    "X_train.to_csv(\"../../data/divided_data/X_train.csv\",index=False)\n",
    "X_test.to_csv(\"../../data/divided_data/X_test.csv\",index=False)\n",
    "y_train.to_csv(\"../../data/divided_data/y_train.csv\",index=False)\n",
    "y_test.to_csv(\"../../data/divided_data/y_test.csv\",index=False)"
   ],
   "metadata": {
    "collapsed": false,
    "ExecuteTime": {
     "end_time": "2023-05-20T16:27:39.622988300Z",
     "start_time": "2023-05-20T16:27:36.528956Z"
    }
   }
  }
 ],
 "metadata": {
  "kernelspec": {
   "display_name": "Python 3",
   "language": "python",
   "name": "python3"
  },
  "language_info": {
   "codemirror_mode": {
    "name": "ipython",
    "version": 2
   },
   "file_extension": ".py",
   "mimetype": "text/x-python",
   "name": "python",
   "nbconvert_exporter": "python",
   "pygments_lexer": "ipython2",
   "version": "2.7.6"
  }
 },
 "nbformat": 4,
 "nbformat_minor": 0
}
