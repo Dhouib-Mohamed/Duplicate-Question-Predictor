{
 "cells": [
  {
   "cell_type": "code",
   "execution_count": 272,
   "metadata": {
    "collapsed": true,
    "ExecuteTime": {
     "end_time": "2023-05-28T22:13:27.118351200Z",
     "start_time": "2023-05-28T22:13:26.239480Z"
    }
   },
   "outputs": [],
   "source": [
    "from tensorflow import keras\n",
    "import pandas as pd\n",
    "import numpy as np\n",
    "import src.test as test\n",
    "from sklearn import metrics\n",
    "\n",
    "import importlib\n",
    "importlib.reload(test)\n",
    "import gensim.downloader as api\n"
   ]
  },
  {
   "cell_type": "code",
   "execution_count": 273,
   "outputs": [],
   "source": [
    "model = keras.models.load_model('../../models/v8')"
   ],
   "metadata": {
    "collapsed": false,
    "ExecuteTime": {
     "end_time": "2023-05-28T22:13:29.798772900Z",
     "start_time": "2023-05-28T22:13:27.123850400Z"
    }
   }
  },
  {
   "cell_type": "code",
   "execution_count": 274,
   "outputs": [],
   "source": [
    "X_test = pd.read_csv(\"../../data/divided_data/X_test.csv\")\n",
    "y_test = pd.read_csv(\"../../data/divided_data/y_test.csv\")"
   ],
   "metadata": {
    "collapsed": false,
    "ExecuteTime": {
     "end_time": "2023-05-28T22:13:30.306269900Z",
     "start_time": "2023-05-28T22:13:29.800774400Z"
    }
   }
  },
  {
   "cell_type": "code",
   "execution_count": 275,
   "outputs": [],
   "source": [
    "X_train_q1 = [np.array(xi.replace('\\n', '').strip()[1:-1].split(), dtype=np.float32) for xi in X_test[\"vector1\"]]\n",
    "X_train_q2 = [np.array(xi.replace('\\n', '').strip()[1:-1].split(), dtype=np.float32) for xi in X_test[\"vector2\"]]\n",
    "\n",
    "X_train_q1 = np.array(X_train_q1)  # questions 1 in the training set\n",
    "X_train_q2 = np.array(X_train_q2) # questions 2 in the training set\n"
   ],
   "metadata": {
    "collapsed": false,
    "ExecuteTime": {
     "end_time": "2023-05-28T22:13:31.463314500Z",
     "start_time": "2023-05-28T22:13:30.479902Z"
    }
   }
  },
  {
   "cell_type": "code",
   "execution_count": 276,
   "outputs": [
    {
     "name": "stdout",
     "output_type": "stream",
     "text": [
      "2315/2315 [==============================] - 112s 48ms/step - loss: 0.6007 - accuracy: 0.6749\n",
      "test loss, test acc: [0.6007269620895386, 0.6749284863471985]\n"
     ]
    }
   ],
   "source": [
    "res = model.evaluate([X_train_q1,X_train_q2],y_test)\n",
    "print(\"test loss, test acc:\", res)"
   ],
   "metadata": {
    "collapsed": false,
    "ExecuteTime": {
     "end_time": "2023-05-28T22:15:23.852812300Z",
     "start_time": "2023-05-28T22:13:31.469313600Z"
    }
   }
  },
  {
   "cell_type": "code",
   "execution_count": 277,
   "outputs": [
    {
     "name": "stdout",
     "output_type": "stream",
     "text": [
      "2315/2315 [==============================] - 146s 63ms/step\n"
     ]
    }
   ],
   "source": [
    "y_pred = model.predict([X_train_q1,X_train_q2])"
   ],
   "metadata": {
    "collapsed": false,
    "ExecuteTime": {
     "end_time": "2023-05-28T22:17:51.696171900Z",
     "start_time": "2023-05-28T22:15:23.857696700Z"
    }
   }
  },
  {
   "cell_type": "code",
   "execution_count": 278,
   "outputs": [],
   "source": [
    "def random(x):\n",
    "    if np.any(x > 0.6):\n",
    "        return 1\n",
    "    return 0"
   ],
   "metadata": {
    "collapsed": false,
    "ExecuteTime": {
     "end_time": "2023-05-28T22:17:51.712624400Z",
     "start_time": "2023-05-28T22:17:51.703104400Z"
    }
   }
  },
  {
   "cell_type": "code",
   "execution_count": 279,
   "outputs": [
    {
     "name": "stdout",
     "output_type": "stream",
     "text": [
      "accuracy:   0.67005\n",
      "              precision    recall  f1-score   support\n",
      "\n",
      "    Positive       0.67      0.93      0.78     46077\n",
      "    Negative       0.67      0.25      0.36     28002\n",
      "\n",
      "    accuracy                           0.67     74079\n",
      "   macro avg       0.67      0.59      0.57     74079\n",
      "weighted avg       0.67      0.67      0.62     74079\n",
      "\n"
     ]
    }
   ],
   "source": [
    "pred = [ random(y) for y in y_pred]\n",
    "score = metrics.accuracy_score(y_test, pred)\n",
    "print(\"accuracy:   %0.5f\" % score)\n",
    "print(metrics.classification_report(y_test, pred,target_names=['Positive', 'Negative']))"
   ],
   "metadata": {
    "collapsed": false,
    "ExecuteTime": {
     "end_time": "2023-05-28T22:17:53.182319200Z",
     "start_time": "2023-05-28T22:17:51.716133Z"
    }
   }
  },
  {
   "cell_type": "code",
   "execution_count": 280,
   "outputs": [],
   "source": [
    "word2vec = api.load(\"glove-twitter-25\")"
   ],
   "metadata": {
    "collapsed": false,
    "ExecuteTime": {
     "end_time": "2023-05-28T22:18:56.344599800Z",
     "start_time": "2023-05-28T22:17:53.186852600Z"
    }
   }
  },
  {
   "cell_type": "code",
   "execution_count": 281,
   "outputs": [
    {
     "name": "stdout",
     "output_type": "stream",
     "text": [
      "[array([-0.64452124,  0.37057275,  0.32891202,  0.26149   , -0.42256504,\n",
      "       -0.19720249,  1.51065   ,  0.1872185 , -0.6860875 , -0.20373198,\n",
      "       -0.73344004,  0.2515025 , -4.620775  , -0.46924502, -0.50313574,\n",
      "        0.19153374,  0.36346623, -0.64583504, -0.27393252, -0.23107749,\n",
      "        0.44143003,  0.20514375,  0.03718251,  0.31139424, -0.09031501],\n",
      "      dtype=float32), array([-0.4903716 ,  0.0491815 ,  0.26811752,  0.26780283, -0.2840973 ,\n",
      "        0.15855335,  1.5580983 , -0.01420332, -0.5156942 , -0.04140499,\n",
      "       -0.86058164,  0.26281998, -3.9807003 , -0.06725151, -0.26710382,\n",
      "        0.51757914,  0.4707508 , -0.41254666, -0.15428832, -0.53165835,\n",
      "        0.18770002,  0.45013985, -0.07355932,  0.43807784, -0.25573   ],\n",
      "      dtype=float32)]\n",
      "1/1 [==============================] - 0s 49ms/step\n",
      "[[[0.48190898]\n",
      "  [0.42668772]\n",
      "  [0.37831515]\n",
      "  [0.39235064]\n",
      "  [0.37970972]\n",
      "  [0.30654535]\n",
      "  [0.34282345]\n",
      "  [0.26851314]\n",
      "  [0.2296183 ]\n",
      "  [0.24079792]\n",
      "  [0.2667672 ]\n",
      "  [0.2757955 ]\n",
      "  [0.3186033 ]\n",
      "  [0.33633524]\n",
      "  [0.3697509 ]\n",
      "  [0.39431164]\n",
      "  [0.39066604]\n",
      "  [0.39301023]\n",
      "  [0.40320635]\n",
      "  [0.4186671 ]\n",
      "  [0.42332175]\n",
      "  [0.41330868]\n",
      "  [0.40745577]\n",
      "  [0.4057816 ]\n",
      "  [0.40832323]]]\n"
     ]
    }
   ],
   "source": [
    "test.test(model,word2vec,\"I have fallen in love with my sister .should i tell her?\",\"is falling in love with your sister is bad? and should i confess my feelings?\")"
   ],
   "metadata": {
    "collapsed": false,
    "ExecuteTime": {
     "end_time": "2023-05-28T22:18:56.571053200Z",
     "start_time": "2023-05-28T22:18:56.348639Z"
    }
   }
  }
 ],
 "metadata": {
  "kernelspec": {
   "display_name": "Python 3",
   "language": "python",
   "name": "python3"
  },
  "language_info": {
   "codemirror_mode": {
    "name": "ipython",
    "version": 2
   },
   "file_extension": ".py",
   "mimetype": "text/x-python",
   "name": "python",
   "nbconvert_exporter": "python",
   "pygments_lexer": "ipython2",
   "version": "2.7.6"
  }
 },
 "nbformat": 4,
 "nbformat_minor": 0
}
