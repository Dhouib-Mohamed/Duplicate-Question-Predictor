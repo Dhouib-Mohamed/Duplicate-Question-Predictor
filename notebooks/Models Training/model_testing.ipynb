{
 "cells": [
  {
   "cell_type": "markdown",
   "source": [
    "## Importing Necessary Libraries\n"
   ],
   "metadata": {
    "collapsed": false
   }
  },
  {
   "cell_type": "code",
   "execution_count": 1,
   "metadata": {
    "collapsed": true,
    "ExecuteTime": {
     "end_time": "2023-05-30T11:50:08.982720Z",
     "start_time": "2023-05-30T11:50:02.898533200Z"
    }
   },
   "outputs": [],
   "source": [
    "from tensorflow import keras\n",
    "import pandas as pd\n",
    "import numpy as np\n",
    "import src.test as test\n",
    "from sklearn import metrics\n",
    "\n",
    "import importlib\n",
    "importlib.reload(test)\n",
    "import gensim.downloader as api\n"
   ]
  },
  {
   "cell_type": "markdown",
   "source": [
    "### Testing the latest model"
   ],
   "metadata": {
    "collapsed": false
   }
  },
  {
   "cell_type": "code",
   "execution_count": 2,
   "outputs": [],
   "source": [
    "model = keras.models.load_model('../../models/v9')"
   ],
   "metadata": {
    "collapsed": false,
    "ExecuteTime": {
     "end_time": "2023-05-30T11:50:11.368847100Z",
     "start_time": "2023-05-30T11:50:08.988132800Z"
    }
   }
  },
  {
   "cell_type": "code",
   "execution_count": 3,
   "outputs": [],
   "source": [
    "X_test = pd.read_csv(\"../../data/divided_data/X_test.csv\")\n",
    "y_test = pd.read_csv(\"../../data/divided_data/y_test.csv\")"
   ],
   "metadata": {
    "collapsed": false,
    "ExecuteTime": {
     "end_time": "2023-05-30T11:50:11.902545300Z",
     "start_time": "2023-05-30T11:50:11.371352500Z"
    }
   }
  },
  {
   "cell_type": "code",
   "execution_count": 4,
   "outputs": [],
   "source": [
    "X_train_q1 = [np.array(xi.replace('\\n', '').strip()[1:-1].split(), dtype=np.float32) for xi in X_test[\"vector1\"]]\n",
    "X_train_q2 = [np.array(xi.replace('\\n', '').strip()[1:-1].split(), dtype=np.float32) for xi in X_test[\"vector2\"]]\n",
    "\n",
    "X_train_q1 = np.array(X_train_q1)  # questions 1 in the training set\n",
    "X_train_q2 = np.array(X_train_q2) # questions 2 in the training set\n"
   ],
   "metadata": {
    "collapsed": false,
    "ExecuteTime": {
     "end_time": "2023-05-30T11:50:12.918466500Z",
     "start_time": "2023-05-30T11:50:11.916260900Z"
    }
   }
  },
  {
   "cell_type": "code",
   "execution_count": 10,
   "outputs": [
    {
     "name": "stdout",
     "output_type": "stream",
     "text": [
      "2315/2315 [==============================] - 112s 48ms/step - loss: 0.5988 - accuracy: 0.6834\n",
      "test loss, test acc: [0.5988270044326782, 0.683422863483429]\n"
     ]
    }
   ],
   "source": [
    "res = model.evaluate([X_train_q1,X_train_q2],y_test)\n",
    "print(\"test loss, test acc:\", res)"
   ],
   "metadata": {
    "collapsed": false,
    "ExecuteTime": {
     "end_time": "2023-05-30T11:53:03.990998600Z",
     "start_time": "2023-05-30T11:51:11.938973400Z"
    }
   }
  },
  {
   "cell_type": "code",
   "execution_count": 11,
   "outputs": [
    {
     "name": "stdout",
     "output_type": "stream",
     "text": [
      "2315/2315 [==============================] - 129s 56ms/step\n"
     ]
    }
   ],
   "source": [
    "y_pred = model.predict([X_train_q1,X_train_q2])\n"
   ],
   "metadata": {
    "collapsed": false,
    "ExecuteTime": {
     "end_time": "2023-05-30T11:55:14.012957500Z",
     "start_time": "2023-05-30T11:53:03.990001300Z"
    }
   }
  },
  {
   "cell_type": "code",
   "execution_count": 12,
   "outputs": [],
   "source": [
    "def random(x):\n",
    "    if np.any(x > 0.5):\n",
    "        return 1\n",
    "    return 0\n"
   ],
   "metadata": {
    "collapsed": false,
    "ExecuteTime": {
     "end_time": "2023-05-30T11:55:14.019011200Z",
     "start_time": "2023-05-30T11:55:14.016005600Z"
    }
   }
  },
  {
   "cell_type": "code",
   "execution_count": 13,
   "outputs": [
    {
     "name": "stdout",
     "output_type": "stream",
     "text": [
      "accuracy:   0.68513\n",
      "              precision    recall  f1-score   support\n",
      "\n",
      "    Positive       0.72      0.82      0.76     45989\n",
      "    Negative       0.61      0.47      0.53     28090\n",
      "\n",
      "    accuracy                           0.69     74079\n",
      "   macro avg       0.66      0.64      0.65     74079\n",
      "weighted avg       0.68      0.69      0.67     74079\n",
      "\n"
     ]
    }
   ],
   "source": [
    "pred = [ random(y) for y in y_pred]\n",
    "score = metrics.accuracy_score(y_test, pred)\n",
    "print(\"accuracy:   %0.5f\"% score)\n",
    "print(metrics.classification_report(y_test, pred,target_names=['Positive', 'Negative']))"
   ],
   "metadata": {
    "collapsed": false,
    "ExecuteTime": {
     "end_time": "2023-05-30T11:55:14.506910900Z",
     "start_time": "2023-05-30T11:55:14.021011500Z"
    }
   }
  },
  {
   "cell_type": "code",
   "execution_count": 6,
   "outputs": [],
   "source": [
    "word2vec = api.load(\"glove-twitter-25\")"
   ],
   "metadata": {
    "collapsed": false,
    "ExecuteTime": {
     "end_time": "2023-05-30T11:51:11.018527600Z",
     "start_time": "2023-05-30T11:50:43.760735700Z"
    }
   }
  },
  {
   "cell_type": "code",
   "execution_count": 22,
   "outputs": [
    {
     "name": "stdout",
     "output_type": "stream",
     "text": [
      "1/1 [==============================] - 0s 24ms/step\n",
      "Similarity Score:  0.54731023\n",
      "Is duplicate:  True\n"
     ]
    }
   ],
   "source": [
    "test.test(model,word2vec,\"What is the weather like today in Washington ?\",\"Is is sunny today in Washington ?\")"
   ],
   "metadata": {
    "collapsed": false,
    "ExecuteTime": {
     "end_time": "2023-05-30T12:48:29.939098400Z",
     "start_time": "2023-05-30T12:48:29.862571Z"
    }
   }
  },
  {
   "cell_type": "code",
   "execution_count": 20,
   "outputs": [
    {
     "name": "stdout",
     "output_type": "stream",
     "text": [
      "1/1 [==============================] - 0s 27ms/step\n",
      "Similarity Score:  0.5543524\n",
      "Is duplicate:  True\n"
     ]
    }
   ],
   "source": [
    "test.test(model,word2vec,\"What are the possible ways to create a project in React.Is CRA the best choice?\",\"Hi, I am new to react and i need to create a project.i heard CRA is the default way to create a project.Should i use it?\")"
   ],
   "metadata": {
    "collapsed": false,
    "ExecuteTime": {
     "end_time": "2023-05-30T12:48:01.055403400Z",
     "start_time": "2023-05-30T12:48:00.965171700Z"
    }
   }
  },
  {
   "cell_type": "code",
   "execution_count": 30,
   "outputs": [
    {
     "name": "stdout",
     "output_type": "stream",
     "text": [
      "1/1 [==============================] - 0s 26ms/step\n",
      "Similarity Score:  0.2806773\n",
      "Is duplicate:  False\n"
     ]
    }
   ],
   "source": [
    "test.test(model,word2vec,\"Hi,i sometimes feel a litte empty when i go out with my friends . I don't know what to do and if i should continue hanging out with them or i should just dump them\",\"Good Morning ,I want to ask if there is a website that gives you detailed information about the weather in California\")"
   ],
   "metadata": {
    "collapsed": false,
    "ExecuteTime": {
     "end_time": "2023-05-30T12:49:20.534093300Z",
     "start_time": "2023-05-30T12:49:20.446370900Z"
    }
   }
  }
 ],
 "metadata": {
  "kernelspec": {
   "display_name": "Python 3",
   "language": "python",
   "name": "python3"
  },
  "language_info": {
   "codemirror_mode": {
    "name": "ipython",
    "version": 2
   },
   "file_extension": ".py",
   "mimetype": "text/x-python",
   "name": "python",
   "nbconvert_exporter": "python",
   "pygments_lexer": "ipython2",
   "version": "2.7.6"
  }
 },
 "nbformat": 4,
 "nbformat_minor": 0
}
