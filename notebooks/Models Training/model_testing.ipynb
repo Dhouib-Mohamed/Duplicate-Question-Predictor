{
 "cells": [
  {
   "cell_type": "markdown",
   "source": [
    "## Importing Necessary Libraries\n"
   ],
   "metadata": {
    "collapsed": false
   }
  },
  {
   "cell_type": "code",
   "execution_count": 99,
   "metadata": {
    "collapsed": true,
    "ExecuteTime": {
     "end_time": "2023-05-30T10:44:08.970960700Z",
     "start_time": "2023-05-30T10:44:07.497867600Z"
    }
   },
   "outputs": [],
   "source": [
    "from tensorflow import keras\n",
    "import pandas as pd\n",
    "import numpy as np\n",
    "import src.test as test\n",
    "from sklearn import metrics\n",
    "\n",
    "import importlib\n",
    "importlib.reload(test)\n",
    "import gensim.downloader as api\n"
   ]
  },
  {
   "cell_type": "markdown",
   "source": [
    "### Testing the latest model"
   ],
   "metadata": {
    "collapsed": false
   }
  },
  {
   "cell_type": "code",
   "execution_count": 17,
   "outputs": [],
   "source": [
    "model = keras.models.load_model('../../models/v9')"
   ],
   "metadata": {
    "collapsed": false
   }
  },
  {
   "cell_type": "code",
   "execution_count": 18,
   "outputs": [],
   "source": [
    "X_test = pd.read_csv(\"../../data/divided_data/X_test.csv\")\n",
    "y_test = pd.read_csv(\"../../data/divided_data/y_test.csv\")"
   ],
   "metadata": {
    "collapsed": false,
    "ExecuteTime": {
     "end_time": "2023-05-30T08:59:10.241295600Z",
     "start_time": "2023-05-30T08:59:09.244954100Z"
    }
   }
  },
  {
   "cell_type": "code",
   "execution_count": 19,
   "outputs": [],
   "source": [
    "X_train_q1 = [np.array(xi.replace('\\n', '').strip()[1:-1].split(), dtype=np.float32) for xi in X_test[\"vector1\"]]\n",
    "X_train_q2 = [np.array(xi.replace('\\n', '').strip()[1:-1].split(), dtype=np.float32) for xi in X_test[\"vector2\"]]\n",
    "\n",
    "X_train_q1 = np.array(X_train_q1)  # questions 1 in the training set\n",
    "X_train_q2 = np.array(X_train_q2) # questions 2 in the training set\n"
   ],
   "metadata": {
    "collapsed": false,
    "ExecuteTime": {
     "end_time": "2023-05-30T08:59:11.217365600Z",
     "start_time": "2023-05-30T08:59:10.278297700Z"
    }
   }
  },
  {
   "cell_type": "code",
   "execution_count": 20,
   "outputs": [
    {
     "name": "stdout",
     "output_type": "stream",
     "text": [
      "2315/2315 [==============================] - 98s 42ms/step - loss: 0.5988 - accuracy: 0.6834\n",
      "test loss, test acc: [0.5988270044326782, 0.683422863483429]\n"
     ]
    }
   ],
   "source": [
    "res = model.evaluate([X_train_q1,X_train_q2],y_test)\n",
    "print(\"test loss, test acc:\", res)"
   ],
   "metadata": {
    "collapsed": false,
    "ExecuteTime": {
     "end_time": "2023-05-30T09:00:49.064412200Z",
     "start_time": "2023-05-30T08:59:11.221495200Z"
    }
   }
  },
  {
   "cell_type": "code",
   "execution_count": 21,
   "outputs": [
    {
     "name": "stdout",
     "output_type": "stream",
     "text": [
      "2315/2315 [==============================] - 98s 42ms/step\n"
     ]
    }
   ],
   "source": [
    "y_pred = model.predict([X_train_q1,X_train_q2])\n"
   ],
   "metadata": {
    "collapsed": false,
    "ExecuteTime": {
     "end_time": "2023-05-30T09:02:28.845362900Z",
     "start_time": "2023-05-30T09:00:49.067393800Z"
    }
   }
  },
  {
   "cell_type": "code",
   "execution_count": 58,
   "outputs": [],
   "source": [
    "def random(x):\n",
    "    if np.any(x > 0.6):\n",
    "        return 1\n",
    "    return 0\n"
   ],
   "metadata": {
    "collapsed": false,
    "ExecuteTime": {
     "end_time": "2023-05-30T09:05:44.872952600Z",
     "start_time": "2023-05-30T09:05:44.864837900Z"
    }
   }
  },
  {
   "cell_type": "code",
   "execution_count": 59,
   "outputs": [
    {
     "name": "stdout",
     "output_type": "stream",
     "text": [
      "accuracy:   0.68513\n",
      "              precision    recall  f1-score   support\n",
      "\n",
      "    Positive       0.72      0.82      0.76     45989\n",
      "    Negative       0.61      0.47      0.53     28090\n",
      "\n",
      "    accuracy                           0.69     74079\n",
      "   macro avg       0.66      0.64      0.65     74079\n",
      "weighted avg       0.68      0.69      0.67     74079\n",
      "\n"
     ]
    }
   ],
   "source": [
    "pred = [ random(y) for y in y_pred]\n",
    "score = metrics.accuracy_score(y_test, pred)\n",
    "print(\"accuracy:   %0.5f\"% score)\n",
    "print(metrics.classification_report(y_test, pred,target_names=['Positive', 'Negative']))"
   ],
   "metadata": {
    "collapsed": false,
    "ExecuteTime": {
     "end_time": "2023-05-30T09:05:46.890062600Z",
     "start_time": "2023-05-30T09:05:46.323820Z"
    }
   }
  },
  {
   "cell_type": "code",
   "execution_count": 24,
   "outputs": [],
   "source": [
    "word2vec = api.load(\"glove-twitter-25\")"
   ],
   "metadata": {
    "collapsed": false,
    "ExecuteTime": {
     "end_time": "2023-05-30T09:02:56.198035500Z",
     "start_time": "2023-05-30T09:02:29.349526Z"
    }
   }
  },
  {
   "cell_type": "code",
   "execution_count": 100,
   "outputs": [
    {
     "name": "stdout",
     "output_type": "stream",
     "text": [
      "[array([[ 2.6673475e-01,  3.5174501e-01, -4.9775907e-01, -5.4171979e-02,\n",
      "         1.9489937e-03, -2.2788763e-02,  1.0650100e+00, -2.1783113e-01,\n",
      "         2.8349593e-01, -5.7868999e-01, -4.0749139e-01,  2.6046127e-01,\n",
      "        -3.5284874e+00,  1.8829951e-01,  9.2655867e-02,  3.2006064e-01,\n",
      "         5.7415068e-03, -2.8344625e-01,  1.7846625e-01, -3.8731521e-01,\n",
      "        -4.2974785e-01, -1.2544522e-01, -3.7998125e-01,  2.3879626e-01,\n",
      "        -4.2997813e-01]], dtype=float32), array([[ 0.25744817,  0.5004217 , -0.31431028, -0.00568349,  0.02219767,\n",
      "        -0.23147152,  0.93746   , -0.1952511 ,  0.48407626, -0.2892653 ,\n",
      "        -0.34060022,  0.19485141, -3.750892  , -0.2085721 , -0.1378346 ,\n",
      "         0.29802707,  0.30753493, -0.19963415,  0.2528675 , -0.39377248,\n",
      "        -0.27197948, -0.36664847, -0.17168479,  0.1390795 , -0.6007769 ]],\n",
      "      dtype=float32)]\n",
      "1/1 [==============================] - 0s 254ms/step\n",
      "[[[0.44002542]\n",
      "  [0.45617956]\n",
      "  [0.37917885]\n",
      "  [0.41128018]\n",
      "  [0.43506572]\n",
      "  [0.49842402]\n",
      "  [0.47932297]\n",
      "  [0.38964042]\n",
      "  [0.30154115]\n",
      "  [0.27203527]\n",
      "  [0.26940113]\n",
      "  [0.29166952]\n",
      "  [0.3284157 ]\n",
      "  [0.36641136]\n",
      "  [0.3770413 ]\n",
      "  [0.41706878]\n",
      "  [0.4231694 ]\n",
      "  [0.4069477 ]\n",
      "  [0.44048405]\n",
      "  [0.42746767]\n",
      "  [0.45420563]\n",
      "  [0.46103093]\n",
      "  [0.4527179 ]\n",
      "  [0.4484205 ]\n",
      "  [0.43325502]]]\n"
     ]
    }
   ],
   "source": [
    "test.test(model,word2vec,\"What are the possible ways to create a project in React. Is CRA the best choice\",\"Hi, I am new to react and i need to create a project.i heard CRA is the default way to create a project. Should i use it?\")"
   ],
   "metadata": {
    "collapsed": false,
    "ExecuteTime": {
     "end_time": "2023-05-30T10:44:11.347135300Z",
     "start_time": "2023-05-30T10:44:10.927512300Z"
    }
   }
  }
 ],
 "metadata": {
  "kernelspec": {
   "display_name": "Python 3",
   "language": "python",
   "name": "python3"
  },
  "language_info": {
   "codemirror_mode": {
    "name": "ipython",
    "version": 2
   },
   "file_extension": ".py",
   "mimetype": "text/x-python",
   "name": "python",
   "nbconvert_exporter": "python",
   "pygments_lexer": "ipython2",
   "version": "2.7.6"
  }
 },
 "nbformat": 4,
 "nbformat_minor": 0
}
