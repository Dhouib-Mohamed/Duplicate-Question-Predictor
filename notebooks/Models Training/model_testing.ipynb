{
 "cells": [
  {
   "cell_type": "markdown",
   "source": [
    "## Importing Necessary Libraries\n"
   ],
   "metadata": {
    "collapsed": false
   }
  },
  {
   "cell_type": "code",
   "execution_count": 123,
   "metadata": {
    "collapsed": true,
    "ExecuteTime": {
     "end_time": "2023-05-30T11:09:07.531988400Z",
     "start_time": "2023-05-30T11:09:05.753177800Z"
    }
   },
   "outputs": [],
   "source": [
    "from tensorflow import keras\n",
    "import pandas as pd\n",
    "import numpy as np\n",
    "import src.test as test\n",
    "from sklearn import metrics\n",
    "\n",
    "import importlib\n",
    "importlib.reload(test)\n",
    "import gensim.downloader as api\n"
   ]
  },
  {
   "cell_type": "markdown",
   "source": [
    "### Testing the latest model"
   ],
   "metadata": {
    "collapsed": false
   }
  },
  {
   "cell_type": "code",
   "execution_count": 17,
   "outputs": [],
   "source": [
    "model = keras.models.load_model('../../models/v9')"
   ],
   "metadata": {
    "collapsed": false
   }
  },
  {
   "cell_type": "code",
   "execution_count": 18,
   "outputs": [],
   "source": [
    "X_test = pd.read_csv(\"../../data/divided_data/X_test.csv\")\n",
    "y_test = pd.read_csv(\"../../data/divided_data/y_test.csv\")"
   ],
   "metadata": {
    "collapsed": false,
    "ExecuteTime": {
     "end_time": "2023-05-30T08:59:10.241295600Z",
     "start_time": "2023-05-30T08:59:09.244954100Z"
    }
   }
  },
  {
   "cell_type": "code",
   "execution_count": 19,
   "outputs": [],
   "source": [
    "X_train_q1 = [np.array(xi.replace('\\n', '').strip()[1:-1].split(), dtype=np.float32) for xi in X_test[\"vector1\"]]\n",
    "X_train_q2 = [np.array(xi.replace('\\n', '').strip()[1:-1].split(), dtype=np.float32) for xi in X_test[\"vector2\"]]\n",
    "\n",
    "X_train_q1 = np.array(X_train_q1)  # questions 1 in the training set\n",
    "X_train_q2 = np.array(X_train_q2) # questions 2 in the training set\n"
   ],
   "metadata": {
    "collapsed": false,
    "ExecuteTime": {
     "end_time": "2023-05-30T08:59:11.217365600Z",
     "start_time": "2023-05-30T08:59:10.278297700Z"
    }
   }
  },
  {
   "cell_type": "code",
   "execution_count": 20,
   "outputs": [
    {
     "name": "stdout",
     "output_type": "stream",
     "text": [
      "2315/2315 [==============================] - 98s 42ms/step - loss: 0.5988 - accuracy: 0.6834\n",
      "test loss, test acc: [0.5988270044326782, 0.683422863483429]\n"
     ]
    }
   ],
   "source": [
    "res = model.evaluate([X_train_q1,X_train_q2],y_test)\n",
    "print(\"test loss, test acc:\", res)"
   ],
   "metadata": {
    "collapsed": false,
    "ExecuteTime": {
     "end_time": "2023-05-30T09:00:49.064412200Z",
     "start_time": "2023-05-30T08:59:11.221495200Z"
    }
   }
  },
  {
   "cell_type": "code",
   "execution_count": 21,
   "outputs": [
    {
     "name": "stdout",
     "output_type": "stream",
     "text": [
      "2315/2315 [==============================] - 98s 42ms/step\n"
     ]
    }
   ],
   "source": [
    "y_pred = model.predict([X_train_q1,X_train_q2])\n"
   ],
   "metadata": {
    "collapsed": false,
    "ExecuteTime": {
     "end_time": "2023-05-30T09:02:28.845362900Z",
     "start_time": "2023-05-30T09:00:49.067393800Z"
    }
   }
  },
  {
   "cell_type": "code",
   "execution_count": 58,
   "outputs": [],
   "source": [
    "def random(x):\n",
    "    if np.any(x > 0.6):\n",
    "        return 1\n",
    "    return 0\n"
   ],
   "metadata": {
    "collapsed": false,
    "ExecuteTime": {
     "end_time": "2023-05-30T09:05:44.872952600Z",
     "start_time": "2023-05-30T09:05:44.864837900Z"
    }
   }
  },
  {
   "cell_type": "code",
   "execution_count": 59,
   "outputs": [
    {
     "name": "stdout",
     "output_type": "stream",
     "text": [
      "accuracy:   0.68513\n",
      "              precision    recall  f1-score   support\n",
      "\n",
      "    Positive       0.72      0.82      0.76     45989\n",
      "    Negative       0.61      0.47      0.53     28090\n",
      "\n",
      "    accuracy                           0.69     74079\n",
      "   macro avg       0.66      0.64      0.65     74079\n",
      "weighted avg       0.68      0.69      0.67     74079\n",
      "\n"
     ]
    }
   ],
   "source": [
    "pred = [ random(y) for y in y_pred]\n",
    "score = metrics.accuracy_score(y_test, pred)\n",
    "print(\"accuracy:   %0.5f\"% score)\n",
    "print(metrics.classification_report(y_test, pred,target_names=['Positive', 'Negative']))"
   ],
   "metadata": {
    "collapsed": false,
    "ExecuteTime": {
     "end_time": "2023-05-30T09:05:46.890062600Z",
     "start_time": "2023-05-30T09:05:46.323820Z"
    }
   }
  },
  {
   "cell_type": "code",
   "execution_count": 24,
   "outputs": [],
   "source": [
    "word2vec = api.load(\"glove-twitter-25\")"
   ],
   "metadata": {
    "collapsed": false,
    "ExecuteTime": {
     "end_time": "2023-05-30T09:02:56.198035500Z",
     "start_time": "2023-05-30T09:02:29.349526Z"
    }
   }
  },
  {
   "cell_type": "code",
   "execution_count": 124,
   "outputs": [
    {
     "name": "stdout",
     "output_type": "stream",
     "text": [
      "1/1 [==============================] - 0s 154ms/step\n",
      "Similarity Score:  0.49842402\n",
      "Is duplicate:  False\n"
     ]
    }
   ],
   "source": [
    "test.test(model,word2vec,\"What are the possible ways to create a project in React. Is CRA the best choice\",\"Hi, I am new to react and i need to create a project.i heard CRA is the default way to create a project. Should i use it?\")"
   ],
   "metadata": {
    "collapsed": false,
    "ExecuteTime": {
     "end_time": "2023-05-30T11:09:09.667111600Z",
     "start_time": "2023-05-30T11:09:09.377807300Z"
    }
   }
  },
  {
   "cell_type": "code",
   "execution_count": 125,
   "outputs": [
    {
     "name": "stdout",
     "output_type": "stream",
     "text": [
      "1/1 [==============================] - 0s 47ms/step\n",
      "Similarity Score:  0.2762542\n",
      "Is duplicate:  False\n"
     ]
    }
   ],
   "source": [
    "test.test(model,word2vec,\"Hi, i sometimes feel a litte empty when i go out with my friends .I don't know what to do and if i should continue hanging out with them or i should just dump them\",\"I want to ask if there is a website that gives you detailed information about the weather in California\")"
   ],
   "metadata": {
    "collapsed": false,
    "ExecuteTime": {
     "end_time": "2023-05-30T11:09:11.459315400Z",
     "start_time": "2023-05-30T11:09:11.141852400Z"
    }
   }
  }
 ],
 "metadata": {
  "kernelspec": {
   "display_name": "Python 3",
   "language": "python",
   "name": "python3"
  },
  "language_info": {
   "codemirror_mode": {
    "name": "ipython",
    "version": 2
   },
   "file_extension": ".py",
   "mimetype": "text/x-python",
   "name": "python",
   "nbconvert_exporter": "python",
   "pygments_lexer": "ipython2",
   "version": "2.7.6"
  }
 },
 "nbformat": 4,
 "nbformat_minor": 0
}
