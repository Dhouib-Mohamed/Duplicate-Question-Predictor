{
 "cells": [
  {
   "cell_type": "code",
   "execution_count": 32,
   "metadata": {
    "collapsed": true,
    "ExecuteTime": {
     "end_time": "2023-05-18T13:45:19.300812400Z",
     "start_time": "2023-05-18T13:45:19.277849Z"
    }
   },
   "outputs": [],
   "source": [
    "from tensorflow import keras\n",
    "import pandas as pd\n",
    "from keras.losses import mean_squared_error\n",
    "from matplotlib import pyplot as plt\n",
    "import numpy as np\n"
   ]
  },
  {
   "cell_type": "code",
   "execution_count": 33,
   "outputs": [],
   "source": [
    "model = keras.models.load_model('../../models/v1')"
   ],
   "metadata": {
    "collapsed": false,
    "ExecuteTime": {
     "end_time": "2023-05-18T13:45:20.728438500Z",
     "start_time": "2023-05-18T13:45:19.284034200Z"
    }
   }
  },
  {
   "cell_type": "code",
   "execution_count": 34,
   "outputs": [
    {
     "name": "stdout",
     "output_type": "stream",
     "text": [
      "Model: \"model_5\"\n",
      "__________________________________________________________________________________________________\n",
      " Layer (type)                   Output Shape         Param #     Connected to                     \n",
      "==================================================================================================\n",
      " input_11 (InputLayer)          [(None, 10)]         0           []                               \n",
      "                                                                                                  \n",
      " input_12 (InputLayer)          [(None, 10)]         0           []                               \n",
      "                                                                                                  \n",
      " embedding_5 (Embedding)        (None, 10, 10)       1000        ['input_11[0][0]',               \n",
      "                                                                  'input_12[0][0]']               \n",
      "                                                                                                  \n",
      " lstm_5 (LSTM)                  (None, 128)          71168       ['embedding_5[0][0]',            \n",
      "                                                                  'embedding_5[1][0]']            \n",
      "                                                                                                  \n",
      " dropout_15 (Dropout)           (None, 128)          0           ['lstm_5[0][0]']                 \n",
      "                                                                                                  \n",
      " dropout_16 (Dropout)           (None, 128)          0           ['lstm_5[1][0]']                 \n",
      "                                                                                                  \n",
      " concatenate_5 (Concatenate)    (None, 256)          0           ['dropout_15[0][0]',             \n",
      "                                                                  'dropout_16[0][0]']             \n",
      "                                                                                                  \n",
      " dense_10 (Dense)               (None, 64)           16448       ['concatenate_5[0][0]']          \n",
      "                                                                                                  \n",
      " dropout_17 (Dropout)           (None, 64)           0           ['dense_10[0][0]']               \n",
      "                                                                                                  \n",
      " dense_11 (Dense)               (None, 1)            65          ['dropout_17[0][0]']             \n",
      "                                                                                                  \n",
      "==================================================================================================\n",
      "Total params: 88,681\n",
      "Trainable params: 88,681\n",
      "Non-trainable params: 0\n",
      "__________________________________________________________________________________________________\n"
     ]
    }
   ],
   "source": [
    "model.summary()"
   ],
   "metadata": {
    "collapsed": false,
    "ExecuteTime": {
     "end_time": "2023-05-18T13:45:20.824868800Z",
     "start_time": "2023-05-18T13:45:20.728438500Z"
    }
   }
  },
  {
   "cell_type": "code",
   "execution_count": 35,
   "outputs": [],
   "source": [
    "X_test = pd.read_csv(\"../../data/divided_data/X_test.csv\")\n",
    "y_test = pd.read_csv(\"../../data/divided_data/y_test.csv\")"
   ],
   "metadata": {
    "collapsed": false,
    "ExecuteTime": {
     "end_time": "2023-05-18T13:45:21.464513200Z",
     "start_time": "2023-05-18T13:45:20.765662200Z"
    }
   }
  },
  {
   "cell_type": "code",
   "execution_count": 36,
   "outputs": [
    {
     "name": "stderr",
     "output_type": "stream",
     "text": [
      "C:\\Users\\dhoui\\AppData\\Local\\Temp\\ipykernel_27468\\2982860246.py:1: DeprecationWarning: string or file could not be read to its end due to unmatched data; this will raise a ValueError in the future.\n",
      "  X_train_q1 = [np.fromstring(xi[1:-1], sep=',') for xi in X_test[\"vector1\"]]\n",
      "C:\\Users\\dhoui\\AppData\\Local\\Temp\\ipykernel_27468\\2982860246.py:2: DeprecationWarning: string or file could not be read to its end due to unmatched data; this will raise a ValueError in the future.\n",
      "  X_train_q2 = [np.fromstring(xi[1:-1], sep=',') for xi in X_test[\"vector2\"]]\n"
     ]
    }
   ],
   "source": [
    "X_train_q1 = [np.fromstring(xi[1:-1], sep=',') for xi in X_test[\"vector1\"]]\n",
    "X_train_q2 = [np.fromstring(xi[1:-1], sep=',') for xi in X_test[\"vector2\"]]\n",
    "\n",
    "X_train_q1 = np.array(X_train_q1)  # questions 1 in the training set\n",
    "X_train_q2 = np.array(X_train_q2)  # questions 2 in the training set\n",
    "y_test = np.array(y_test)  # labels in the training set"
   ],
   "metadata": {
    "collapsed": false,
    "ExecuteTime": {
     "end_time": "2023-05-18T13:45:22.060575700Z",
     "start_time": "2023-05-18T13:45:21.473035Z"
    }
   }
  },
  {
   "cell_type": "code",
   "execution_count": 36,
   "outputs": [],
   "source": [],
   "metadata": {
    "collapsed": false,
    "ExecuteTime": {
     "end_time": "2023-05-18T13:45:22.060575700Z",
     "start_time": "2023-05-18T13:45:22.060575700Z"
    }
   }
  },
  {
   "cell_type": "code",
   "execution_count": 40,
   "outputs": [
    {
     "name": "stdout",
     "output_type": "stream",
     "text": [
      "2315/2315 [==============================] - 4s 2ms/step\n",
      "accuracy:   0.62257\n",
      "              precision    recall  f1-score   support\n",
      "\n",
      "    Positive       0.62      1.00      0.77     46119\n",
      "    Negative       0.00      0.00      0.00     27960\n",
      "\n",
      "    accuracy                           0.62     74079\n",
      "   macro avg       0.31      0.50      0.38     74079\n",
      "weighted avg       0.39      0.62      0.48     74079\n",
      "\n"
     ]
    },
    {
     "name": "stderr",
     "output_type": "stream",
     "text": [
      "D:\\Study\\GL3\\ppp\\venv\\Lib\\site-packages\\sklearn\\metrics\\_classification.py:1344: UndefinedMetricWarning: Precision and F-score are ill-defined and being set to 0.0 in labels with no predicted samples. Use `zero_division` parameter to control this behavior.\n",
      "  _warn_prf(average, modifier, msg_start, len(result))\n",
      "D:\\Study\\GL3\\ppp\\venv\\Lib\\site-packages\\sklearn\\metrics\\_classification.py:1344: UndefinedMetricWarning: Precision and F-score are ill-defined and being set to 0.0 in labels with no predicted samples. Use `zero_division` parameter to control this behavior.\n",
      "  _warn_prf(average, modifier, msg_start, len(result))\n",
      "D:\\Study\\GL3\\ppp\\venv\\Lib\\site-packages\\sklearn\\metrics\\_classification.py:1344: UndefinedMetricWarning: Precision and F-score are ill-defined and being set to 0.0 in labels with no predicted samples. Use `zero_division` parameter to control this behavior.\n",
      "  _warn_prf(average, modifier, msg_start, len(result))\n"
     ]
    }
   ],
   "source": [
    "import sklearn.metrics as metrics\n",
    "y_pred = model.predict([X_train_q1,X_train_q2])\n",
    "pred = [np.round(y) for y in y_pred]\n",
    "score = metrics.accuracy_score(y_test, pred)\n",
    "print(\"accuracy:   %0.5f\" % score)\n",
    "print(metrics.classification_report(y_test, pred,target_names=['Positive', 'Negative']))\n",
    "# mse_krr = mean_squared_error(y_test, y_pred)\n",
    "# print(mse_krr)\n",
    "#\n",
    "# plt.plot(y_test, label=\"y-original\")\n",
    "# plt.plot(y_pred, label=\"y-predicted\")\n",
    "# plt.legend()\n",
    "# plt.show()"
   ],
   "metadata": {
    "collapsed": false,
    "ExecuteTime": {
     "end_time": "2023-05-18T13:46:24.112635600Z",
     "start_time": "2023-05-18T13:46:18.620151300Z"
    }
   }
  },
  {
   "cell_type": "code",
   "execution_count": 38,
   "outputs": [
    {
     "data": {
      "text/plain": "array([[0.],\n       [0.],\n       [0.],\n       ...,\n       [0.],\n       [0.],\n       [0.]], dtype=float32)"
     },
     "execution_count": 38,
     "metadata": {},
     "output_type": "execute_result"
    }
   ],
   "source": [
    "np.round(pred)"
   ],
   "metadata": {
    "collapsed": false,
    "ExecuteTime": {
     "end_time": "2023-05-18T13:45:28.090949600Z",
     "start_time": "2023-05-18T13:45:28.027552Z"
    }
   }
  },
  {
   "cell_type": "code",
   "execution_count": 39,
   "outputs": [
    {
     "data": {
      "text/plain": "array([[0.37898746],\n       [0.37898746],\n       [0.37898746],\n       ...,\n       [0.37898746],\n       [0.37898746],\n       [0.37898746]], dtype=float32)"
     },
     "execution_count": 39,
     "metadata": {},
     "output_type": "execute_result"
    }
   ],
   "source": [
    "y_pred"
   ],
   "metadata": {
    "collapsed": false,
    "ExecuteTime": {
     "end_time": "2023-05-18T13:45:28.090949600Z",
     "start_time": "2023-05-18T13:45:28.067073200Z"
    }
   }
  }
 ],
 "metadata": {
  "kernelspec": {
   "display_name": "Python 3",
   "language": "python",
   "name": "python3"
  },
  "language_info": {
   "codemirror_mode": {
    "name": "ipython",
    "version": 2
   },
   "file_extension": ".py",
   "mimetype": "text/x-python",
   "name": "python",
   "nbconvert_exporter": "python",
   "pygments_lexer": "ipython2",
   "version": "2.7.6"
  }
 },
 "nbformat": 4,
 "nbformat_minor": 0
}
