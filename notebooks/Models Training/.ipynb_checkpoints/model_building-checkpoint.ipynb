{
 "cells": [
  {
   "cell_type": "code",
   "execution_count": 1,
   "metadata": {
    "ExecuteTime": {
     "end_time": "2023-05-18T12:46:05.487059100Z",
     "start_time": "2023-05-18T12:45:53.057505700Z"
    }
   },
   "outputs": [],
   "source": [
    "import numpy as np\n",
    "import pandas as pd\n",
    "import src.model as model\n",
    "import importlib\n",
    "importlib.reload(model)\n",
    "from keras.callbacks import EarlyStopping\n",
    "from keras.utils import pad_sequences"
   ]
  },
  {
   "cell_type": "code",
   "execution_count": 2,
   "metadata": {
    "ExecuteTime": {
     "end_time": "2023-05-18T12:46:05.490647600Z",
     "start_time": "2023-05-18T12:46:02.147432Z"
    }
   },
   "outputs": [],
   "source": [
    "X_train = pd.read_csv(\"../../data/divided_data/X_train.csv\")\n",
    "y_train = pd.read_csv(\"../../data/divided_data/y_train.csv\")"
   ]
  },
  {
   "cell_type": "code",
   "execution_count": 10,
   "metadata": {
    "ExecuteTime": {
     "end_time": "2023-05-12T13:18:02.046117400Z",
     "start_time": "2023-05-12T13:17:56.570469Z"
    }
   },
   "outputs": [
    {
     "name": "stderr",
     "output_type": "stream",
     "text": [
      "C:\\Users\\dhoui\\AppData\\Local\\Temp\\ipykernel_14988\\4213003449.py:1: DeprecationWarning: string or file could not be read to its end due to unmatched data; this will raise a ValueError in the future.\n",
      "  X_train_q1 = [np.fromstring(xi[1:-1], sep=',') for xi in X_train[\"vector1\"]]\n",
      "C:\\Users\\dhoui\\AppData\\Local\\Temp\\ipykernel_14988\\4213003449.py:2: DeprecationWarning: string or file could not be read to its end due to unmatched data; this will raise a ValueError in the future.\n",
      "  X_train_q2 = [np.fromstring(xi[1:-1], sep=',') for xi in X_train[\"vector2\"]]\n"
     ]
    }
   ],
   "source": [
    "X_train_q1 = [np.fromstring(xi[1:-1], sep=',') for xi in X_train[\"vector1\"]]\n",
    "X_train_q2 = [np.fromstring(xi[1:-1], sep=',') for xi in X_train[\"vector2\"]]\n",
    "\n",
    "X_train_q1 = np.array(X_train_q1)  # questions 1 in the training set\n",
    "X_train_q2 = np.array(X_train_q2)  # questions 2 in the training set\n",
    "y_train = np.array(y_train)  # labels in the training set"
   ]
  },
  {
   "cell_type": "code",
   "execution_count": 11,
   "metadata": {
    "ExecuteTime": {
     "end_time": "2023-05-12T13:18:02.050116900Z",
     "start_time": "2023-05-12T13:18:02.047058800Z"
    }
   },
   "outputs": [],
   "source": [
    "# Define the hyperparameters\n",
    "vocab_size = 10000\n",
    "embedding_dim = 128\n",
    "input_length = 100\n",
    "batch_size = 32\n",
    "epochs = 3"
   ]
  },
  {
   "cell_type": "code",
   "execution_count": 12,
   "metadata": {
    "ExecuteTime": {
     "end_time": "2023-05-12T13:18:03.593358900Z",
     "start_time": "2023-05-12T13:18:02.052153400Z"
    }
   },
   "outputs": [],
   "source": [
    "X_train_q1 = np.array([np.array(xi) for xi in X_train_q1]).astype(float)\n",
    "X_train_q2 = np.array([np.array(xi) for xi in X_train_q2]).astype(float)\n",
    "\n",
    "# Pad the sequences if necessary\n",
    "X_train_q1 = pad_sequences(X_train_q1, maxlen=input_length)\n",
    "X_train_q2 = pad_sequences(X_train_q2, maxlen=input_length)"
   ]
  },
  {
   "cell_type": "code",
   "execution_count": 13,
   "metadata": {
    "ExecuteTime": {
     "end_time": "2023-05-12T13:18:04.053382700Z",
     "start_time": "2023-05-12T13:18:03.595231700Z"
    }
   },
   "outputs": [
    {
     "name": "stderr",
     "output_type": "stream",
     "text": [
      "D:\\Study\\GL3\\ppp\\venv\\Lib\\site-packages\\keras\\optimizers\\legacy\\adam.py:117: UserWarning: The `lr` argument is deprecated, use `learning_rate` instead.\n",
      "  super().__init__(name, **kwargs)\n"
     ]
    }
   ],
   "source": [
    "# Create the model\n",
    "model = model.create_model(vocab_size, embedding_dim, input_length)\n"
   ]
  },
  {
   "cell_type": "code",
   "execution_count": null,
   "metadata": {
    "ExecuteTime": {
     "start_time": "2023-05-12T13:18:04.055429100Z"
    },
    "is_executing": true
   },
   "outputs": [
    {
     "name": "stdout",
     "output_type": "stream",
     "text": [
      "Epoch 1/3\n",
      "3603/8334 [===========>..................] - ETA: 3:07:47 - loss: 0.6645 - accuracy: 0.6215"
     ]
    }
   ],
   "source": [
    "# Train the model\n",
    "early_stopping = EarlyStopping(monitor='val_loss', patience=3)\n",
    "model.fit([X_train_q1, X_train_q2], y_train, batch_size=batch_size, epochs=epochs, validation_split=0.1, callbacks=[early_stopping])"
   ]
  },
  {
   "cell_type": "code",
   "execution_count": null,
   "metadata": {
    "is_executing": true
   },
   "outputs": [],
   "source": [
    "model.save('../../models/v1')"
   ]
  }
 ],
 "metadata": {
  "kernelspec": {
   "display_name": "Python 3 (ipykernel)",
   "language": "python",
   "name": "python3"
  },
  "language_info": {
   "codemirror_mode": {
    "name": "ipython",
    "version": 3
   },
   "file_extension": ".py",
   "mimetype": "text/x-python",
   "name": "python",
   "nbconvert_exporter": "python",
   "pygments_lexer": "ipython3",
   "version": "3.11.0"
  }
 },
 "nbformat": 4,
 "nbformat_minor": 1
}
