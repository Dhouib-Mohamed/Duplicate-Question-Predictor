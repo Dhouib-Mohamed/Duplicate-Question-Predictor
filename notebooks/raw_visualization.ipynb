{
 "cells": [
  {
   "cell_type": "code",
   "execution_count": 59,
   "outputs": [
    {
     "ename": "ModuleNotFoundError",
     "evalue": "No module named 'visualization'",
     "output_type": "error",
     "traceback": [
      "\u001B[1;31m---------------------------------------------------------------------------\u001B[0m",
      "\u001B[1;31mModuleNotFoundError\u001B[0m                       Traceback (most recent call last)",
      "Cell \u001B[1;32mIn[59], line 6\u001B[0m\n\u001B[0;32m      4\u001B[0m \u001B[38;5;28;01mimport\u001B[39;00m \u001B[38;5;21;01msys\u001B[39;00m\n\u001B[0;32m      5\u001B[0m sys\u001B[38;5;241m.\u001B[39mpath\u001B[38;5;241m.\u001B[39mappend(\u001B[38;5;124m'\u001B[39m\u001B[38;5;124m../src/visualization\u001B[39m\u001B[38;5;124m'\u001B[39m)\n\u001B[1;32m----> 6\u001B[0m \u001B[38;5;28;01mfrom\u001B[39;00m \u001B[38;5;21;01mvisualization\u001B[39;00m\u001B[38;5;21;01m.\u001B[39;00m\u001B[38;5;21;01mfunctions\u001B[39;00m \u001B[38;5;28;01mimport\u001B[39;00m functions\n",
      "\u001B[1;31mModuleNotFoundError\u001B[0m: No module named 'visualization'"
     ]
    }
   ],
   "source": [
    "import pandas as pd\n",
    "import numpy as np\n",
    "from matplotlib import pyplot as plt\n",
    "from src.visualization import functions"
   ],
   "metadata": {
    "collapsed": false
   }
  },
  {
   "cell_type": "code",
   "execution_count": 60,
   "outputs": [],
   "source": [
    "data = pd.read_csv('../data/raw_data/questions.csv')"
   ],
   "metadata": {
    "collapsed": false
   }
  },
  {
   "cell_type": "code",
   "execution_count": 57,
   "outputs": [
    {
     "data": {
      "text/plain": "                  id           qid1           qid2   is_duplicate\ncount  404351.000000  404351.000000  404351.000000  404351.000000\nmean   202175.000000  391840.987691  390195.973765       0.369248\nstd    116726.223686  228430.857607  228803.645742       0.482602\nmin         0.000000       1.000000       2.000000       0.000000\n25%    101087.500000  193381.000000  191012.000000       0.000000\n50%    202175.000000  390630.000000  388364.000000       0.000000\n75%    303262.500000  589514.000000  588071.000000       1.000000\nmax    404350.000000  789800.000000  789801.000000       1.000000",
      "text/html": "<div>\n<style scoped>\n    .dataframe tbody tr th:only-of-type {\n        vertical-align: middle;\n    }\n\n    .dataframe tbody tr th {\n        vertical-align: top;\n    }\n\n    .dataframe thead th {\n        text-align: right;\n    }\n</style>\n<table border=\"1\" class=\"dataframe\">\n  <thead>\n    <tr style=\"text-align: right;\">\n      <th></th>\n      <th>id</th>\n      <th>qid1</th>\n      <th>qid2</th>\n      <th>is_duplicate</th>\n    </tr>\n  </thead>\n  <tbody>\n    <tr>\n      <th>count</th>\n      <td>404351.000000</td>\n      <td>404351.000000</td>\n      <td>404351.000000</td>\n      <td>404351.000000</td>\n    </tr>\n    <tr>\n      <th>mean</th>\n      <td>202175.000000</td>\n      <td>391840.987691</td>\n      <td>390195.973765</td>\n      <td>0.369248</td>\n    </tr>\n    <tr>\n      <th>std</th>\n      <td>116726.223686</td>\n      <td>228430.857607</td>\n      <td>228803.645742</td>\n      <td>0.482602</td>\n    </tr>\n    <tr>\n      <th>min</th>\n      <td>0.000000</td>\n      <td>1.000000</td>\n      <td>2.000000</td>\n      <td>0.000000</td>\n    </tr>\n    <tr>\n      <th>25%</th>\n      <td>101087.500000</td>\n      <td>193381.000000</td>\n      <td>191012.000000</td>\n      <td>0.000000</td>\n    </tr>\n    <tr>\n      <th>50%</th>\n      <td>202175.000000</td>\n      <td>390630.000000</td>\n      <td>388364.000000</td>\n      <td>0.000000</td>\n    </tr>\n    <tr>\n      <th>75%</th>\n      <td>303262.500000</td>\n      <td>589514.000000</td>\n      <td>588071.000000</td>\n      <td>1.000000</td>\n    </tr>\n    <tr>\n      <th>max</th>\n      <td>404350.000000</td>\n      <td>789800.000000</td>\n      <td>789801.000000</td>\n      <td>1.000000</td>\n    </tr>\n  </tbody>\n</table>\n</div>"
     },
     "execution_count": 57,
     "metadata": {},
     "output_type": "execute_result"
    }
   ],
   "source": [
    "data.describe()"
   ],
   "metadata": {
    "collapsed": false
   }
  },
  {
   "cell_type": "code",
   "execution_count": 52,
   "outputs": [],
   "source": [
    "sample = data.sample(100)"
   ],
   "metadata": {
    "collapsed": false
   }
  },
  {
   "cell_type": "code",
   "execution_count": 53,
   "outputs": [
    {
     "data": {
      "text/plain": "            id    qid1    qid2  \\\n18411    18411   36736   36737   \n250688  250688  493555  493556   \n338545  338545  663670  663671   \n24959    24959   49787   49788   \n221026  221026  435701  435702   \n119550  119550  236931  236932   \n325967  325967  639361  639362   \n6337      6337   12663   12664   \n274915  274915  540575  540576   \n271630  271630  534213  534214   \n\n                                                question1  \\\n18411   What is the difference between hasn't and have...   \n250688  How on earth would I decorate my bedroom for a...   \n338545        What are biggest memes on Indian education?   \n24959   On iMessage if a message says Delivered, is th...   \n221026  What are some great stories about Lyndon Johnson?   \n119550    What is the best car that you have ever driven?   \n325967          How can I find out my sexual orientation?   \n6337    Can you get high eating a few specks of weed a...   \n274915              How do I join the fight against ISIS?   \n271630  How do I get certified as an Oracle Java Expert ?   \n\n                                                question2  is_duplicate  \n18411    What's the difference between not to and to not?             0  \n250688  How would I decorate my bedroom for a young ad...             1  \n338545             What are the biggest ironies in India?             0  \n24959   If I block someone on iMessage can I still rec...             0  \n221026  Why was US President Lyndon B. Johnson an attr...             0  \n119550          What was the best car you've ever driven?             1  \n325967  Can someone help me find out my sexual orienta...             0  \n6337    I've heard yes and no, can eating raw weed get...             1  \n274915  What are the consequences for New Zealand if i...             0  \n271630  How do I prepare for Oracle Certified Master, ...             0  ",
      "text/html": "<div>\n<style scoped>\n    .dataframe tbody tr th:only-of-type {\n        vertical-align: middle;\n    }\n\n    .dataframe tbody tr th {\n        vertical-align: top;\n    }\n\n    .dataframe thead th {\n        text-align: right;\n    }\n</style>\n<table border=\"1\" class=\"dataframe\">\n  <thead>\n    <tr style=\"text-align: right;\">\n      <th></th>\n      <th>id</th>\n      <th>qid1</th>\n      <th>qid2</th>\n      <th>question1</th>\n      <th>question2</th>\n      <th>is_duplicate</th>\n    </tr>\n  </thead>\n  <tbody>\n    <tr>\n      <th>18411</th>\n      <td>18411</td>\n      <td>36736</td>\n      <td>36737</td>\n      <td>What is the difference between hasn't and have...</td>\n      <td>What's the difference between not to and to not?</td>\n      <td>0</td>\n    </tr>\n    <tr>\n      <th>250688</th>\n      <td>250688</td>\n      <td>493555</td>\n      <td>493556</td>\n      <td>How on earth would I decorate my bedroom for a...</td>\n      <td>How would I decorate my bedroom for a young ad...</td>\n      <td>1</td>\n    </tr>\n    <tr>\n      <th>338545</th>\n      <td>338545</td>\n      <td>663670</td>\n      <td>663671</td>\n      <td>What are biggest memes on Indian education?</td>\n      <td>What are the biggest ironies in India?</td>\n      <td>0</td>\n    </tr>\n    <tr>\n      <th>24959</th>\n      <td>24959</td>\n      <td>49787</td>\n      <td>49788</td>\n      <td>On iMessage if a message says Delivered, is th...</td>\n      <td>If I block someone on iMessage can I still rec...</td>\n      <td>0</td>\n    </tr>\n    <tr>\n      <th>221026</th>\n      <td>221026</td>\n      <td>435701</td>\n      <td>435702</td>\n      <td>What are some great stories about Lyndon Johnson?</td>\n      <td>Why was US President Lyndon B. Johnson an attr...</td>\n      <td>0</td>\n    </tr>\n    <tr>\n      <th>119550</th>\n      <td>119550</td>\n      <td>236931</td>\n      <td>236932</td>\n      <td>What is the best car that you have ever driven?</td>\n      <td>What was the best car you've ever driven?</td>\n      <td>1</td>\n    </tr>\n    <tr>\n      <th>325967</th>\n      <td>325967</td>\n      <td>639361</td>\n      <td>639362</td>\n      <td>How can I find out my sexual orientation?</td>\n      <td>Can someone help me find out my sexual orienta...</td>\n      <td>0</td>\n    </tr>\n    <tr>\n      <th>6337</th>\n      <td>6337</td>\n      <td>12663</td>\n      <td>12664</td>\n      <td>Can you get high eating a few specks of weed a...</td>\n      <td>I've heard yes and no, can eating raw weed get...</td>\n      <td>1</td>\n    </tr>\n    <tr>\n      <th>274915</th>\n      <td>274915</td>\n      <td>540575</td>\n      <td>540576</td>\n      <td>How do I join the fight against ISIS?</td>\n      <td>What are the consequences for New Zealand if i...</td>\n      <td>0</td>\n    </tr>\n    <tr>\n      <th>271630</th>\n      <td>271630</td>\n      <td>534213</td>\n      <td>534214</td>\n      <td>How do I get certified as an Oracle Java Expert ?</td>\n      <td>How do I prepare for Oracle Certified Master, ...</td>\n      <td>0</td>\n    </tr>\n  </tbody>\n</table>\n</div>"
     },
     "execution_count": 53,
     "metadata": {},
     "output_type": "execute_result"
    }
   ],
   "source": [
    "sample.head(10)"
   ],
   "metadata": {
    "collapsed": false
   }
  },
  {
   "cell_type": "code",
   "execution_count": 54,
   "outputs": [],
   "source": [
    "result = sample['is_duplicate']"
   ],
   "metadata": {
    "collapsed": false
   }
  },
  {
   "cell_type": "code",
   "execution_count": 55,
   "outputs": [
    {
     "data": {
      "text/plain": "<Figure size 640x480 with 1 Axes>",
      "image/png": "[encoded data removed]"
     },
     "metadata": {},
     "output_type": "display_data"
    }
   ],
   "source": [
    "\n",
    "fig, ax = plt.subplots()\n",
    "ax.hist(result, bins=[-0.5, 0.5, 1.5], rwidth=0.8)\n",
    "ax.set_xlabel('id')\n",
    "ax.set_ylabel('is duplicate')\n",
    "ax.set_title(r'Histogram of IQ: $\\mu=100$, $\\sigma=15$')\n",
    "fig.tight_layout()\n",
    "\n",
    "\n",
    "plt.show()"
   ],
   "metadata": {
    "collapsed": false
   }
  },
  {
   "cell_type": "code",
   "execution_count": 56,
   "outputs": [
    {
     "data": {
      "text/plain": "(0.0, 1.1)"
     },
     "execution_count": 56,
     "metadata": {},
     "output_type": "execute_result"
    },
    {
     "data": {
      "text/plain": "<Figure size 640x480 with 1 Axes>",
      "image/png": "[encoded data removed]"
     },
     "metadata": {},
     "output_type": "display_data"
    }
   ],
   "source": [
    "fig, axs = plt.subplots()\n",
    "\n",
    "ax.bar(np.arange(len(result)), result, align='center')\n",
    "ax.set_xticks(np.arange(len(result)))\n",
    "ax.set_xticklabels(np.arange(1, len(result)+1))\n",
    "ax.set_yticks([0, 1])\n",
    "ax.set_yticklabels(['0', '1'])\n",
    "ax.set_ylim([0, 1.1])"
   ],
   "metadata": {
    "collapsed": false
   }
  },
  {
   "cell_type": "code",
   "execution_count": 58,
   "outputs": [
    {
     "ename": "AttributeError",
     "evalue": "'Series' object has no attribute 'select_dtypes'",
     "output_type": "error",
     "traceback": [
      "\u001B[1;31m---------------------------------------------------------------------------\u001B[0m",
      "\u001B[1;31mAttributeError\u001B[0m                            Traceback (most recent call last)",
      "Cell \u001B[1;32mIn[58], line 1\u001B[0m\n\u001B[1;32m----> 1\u001B[0m result \u001B[38;5;241m=\u001B[39m \u001B[43mresult\u001B[49m\u001B[38;5;241;43m.\u001B[39;49m\u001B[43mselect_dtypes\u001B[49m(include\u001B[38;5;241m=\u001B[39m[np\u001B[38;5;241m.\u001B[39mnumber])\n\u001B[0;32m      3\u001B[0m \u001B[38;5;66;03m# Compute the layout grid size\u001B[39;00m\n\u001B[0;32m      4\u001B[0m data_cols \u001B[38;5;241m=\u001B[39m \u001B[38;5;28mlen\u001B[39m(result\u001B[38;5;241m.\u001B[39mcolumns)\n",
      "File \u001B[1;32mC:\\ProgramData\\anaconda3\\lib\\site-packages\\pandas\\core\\generic.py:5902\u001B[0m, in \u001B[0;36mNDFrame.__getattr__\u001B[1;34m(self, name)\u001B[0m\n\u001B[0;32m   5895\u001B[0m \u001B[38;5;28;01mif\u001B[39;00m (\n\u001B[0;32m   5896\u001B[0m     name \u001B[38;5;129;01mnot\u001B[39;00m \u001B[38;5;129;01min\u001B[39;00m \u001B[38;5;28mself\u001B[39m\u001B[38;5;241m.\u001B[39m_internal_names_set\n\u001B[0;32m   5897\u001B[0m     \u001B[38;5;129;01mand\u001B[39;00m name \u001B[38;5;129;01mnot\u001B[39;00m \u001B[38;5;129;01min\u001B[39;00m \u001B[38;5;28mself\u001B[39m\u001B[38;5;241m.\u001B[39m_metadata\n\u001B[0;32m   5898\u001B[0m     \u001B[38;5;129;01mand\u001B[39;00m name \u001B[38;5;129;01mnot\u001B[39;00m \u001B[38;5;129;01min\u001B[39;00m \u001B[38;5;28mself\u001B[39m\u001B[38;5;241m.\u001B[39m_accessors\n\u001B[0;32m   5899\u001B[0m     \u001B[38;5;129;01mand\u001B[39;00m \u001B[38;5;28mself\u001B[39m\u001B[38;5;241m.\u001B[39m_info_axis\u001B[38;5;241m.\u001B[39m_can_hold_identifiers_and_holds_name(name)\n\u001B[0;32m   5900\u001B[0m ):\n\u001B[0;32m   5901\u001B[0m     \u001B[38;5;28;01mreturn\u001B[39;00m \u001B[38;5;28mself\u001B[39m[name]\n\u001B[1;32m-> 5902\u001B[0m \u001B[38;5;28;01mreturn\u001B[39;00m \u001B[38;5;28;43mobject\u001B[39;49m\u001B[38;5;241;43m.\u001B[39;49m\u001B[38;5;21;43m__getattribute__\u001B[39;49m\u001B[43m(\u001B[49m\u001B[38;5;28;43mself\u001B[39;49m\u001B[43m,\u001B[49m\u001B[43m \u001B[49m\u001B[43mname\u001B[49m\u001B[43m)\u001B[49m\n",
      "\u001B[1;31mAttributeError\u001B[0m: 'Series' object has no attribute 'select_dtypes'"
     ]
    }
   ],
   "source": [
    "result = result.select_dtypes(include=[np.number])\n",
    "\n",
    "# Compute the layout grid size\n",
    "data_cols = len(result.columns)\n",
    "unit_size = 5\n",
    "layout_cols = 4\n",
    "layout_rows = int(data_cols/layout_cols+layout_cols)\n",
    "\n",
    "# Make the plots\n",
    "result.hist(figsize=(layout_cols*unit_size,layout_rows*unit_size), layout=(layout_rows,layout_cols))\n",
    "\n",
    "plt.show()"
   ],
   "metadata": {
    "collapsed": false
   }
  },
  {
   "cell_type": "code",
   "execution_count": null,
   "outputs": [],
   "source": [],
   "metadata": {
    "collapsed": false
   }
  }
 ],
 "metadata": {
  "kernelspec": {
   "display_name": "Python 3",
   "language": "python",
   "name": "python3"
  },
  "language_info": {
   "codemirror_mode": {
    "name": "ipython",
    "version": 2
   },
   "file_extension": ".py",
   "mimetype": "text/x-python",
   "name": "python",
   "nbconvert_exporter": "python",
   "pygments_lexer": "ipython2",
   "version": "2.7.6"
  }
 },
 "nbformat": 4,
 "nbformat_minor": 0
}
